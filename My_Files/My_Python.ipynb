{
 "cells": [
  {
   "cell_type": "markdown",
   "metadata": {},
   "source": [
    "** standard deviation** \n",
    "\n",
    "    SD\n",
    "    represented by the Greek letter sigma σ or the Latin letter s\n",
    "    it is the square root of the Variance\n",
    "    \n",
    "** Variance **\n",
    "     the average of the squared differences from the Mean\n",
    "                    \n",
    "                    "
   ]
  },
  {
   "cell_type": "markdown",
   "metadata": {},
   "source": [
    "** np.random.normal (loc , scale , size) **\n",
    "\n",
    "\n",
    "normal(loc=0.0, scale=1.0, size=None)\n",
    "\n",
    "loc = mean , center of distribution\n",
    "scale : Standrad deviation \n",
    "Size :  number of returned items"
   ]
  },
  {
   "cell_type": "code",
   "execution_count": 9,
   "metadata": {
    "collapsed": false
   },
   "outputs": [
    {
     "name": "stdout",
     "output_type": "stream",
     "text": [
      "[-1.26549015  1.06153438  1.75645812 -1.2695206  -1.13527221 -2.39609778\n",
      "  0.28715583  1.15472038 -0.41368818  1.29631136  1.17557137 -1.28546938\n",
      " -0.67691135  0.22871296  0.2266923  -0.92040787 -0.8009861   0.52830016\n",
      " -1.22060523  0.89885577]\n"
     ]
    }
   ],
   "source": [
    "# generte numpy array with 20 number normally distributed\n",
    "import numpy as np\n",
    "\n",
    "x = np.random.normal(0, 1, 20)\n",
    "print x"
   ]
  },
  {
   "cell_type": "markdown",
   "metadata": {},
   "source": [
    "# np.linspace"
   ]
  },
  {
   "cell_type": "code",
   "execution_count": 2,
   "metadata": {
    "collapsed": false
   },
   "outputs": [
    {
     "name": "stdout",
     "output_type": "stream",
     "text": [
      "[  1.           1.18367347   1.36734694   1.55102041   1.73469388\n",
      "   1.91836735   2.10204082   2.28571429   2.46938776   2.65306122\n",
      "   2.83673469   3.02040816   3.20408163   3.3877551    3.57142857\n",
      "   3.75510204   3.93877551   4.12244898   4.30612245   4.48979592\n",
      "   4.67346939   4.85714286   5.04081633   5.2244898    5.40816327\n",
      "   5.59183673   5.7755102    5.95918367   6.14285714   6.32653061\n",
      "   6.51020408   6.69387755   6.87755102   7.06122449   7.24489796\n",
      "   7.42857143   7.6122449    7.79591837   7.97959184   8.16326531\n",
      "   8.34693878   8.53061224   8.71428571   8.89795918   9.08163265\n",
      "   9.26530612   9.44897959   9.63265306   9.81632653  10.        ]\n",
      "[  1.   2.   3.   4.   5.   6.   7.   8.   9.  10.  11.  12.  13.  14.  15.\n",
      "  16.  17.  18.  19.  20.]\n"
     ]
    }
   ],
   "source": [
    "import numpy as np\n",
    "# Return 50 order number starting from 1 to 10 \n",
    "X2 = np.linspace (1,10,50)\n",
    "print X2\n",
    "\n",
    "X3 = np.linspace(1,20,20)\n",
    "print X3"
   ]
  },
  {
   "cell_type": "markdown",
   "metadata": {},
   "source": [
    "# np.sum"
   ]
  },
  {
   "cell_type": "code",
   "execution_count": 23,
   "metadata": {
    "collapsed": false
   },
   "outputs": [
    {
     "name": "stdout",
     "output_type": "stream",
     "text": [
      "210.0\n"
     ]
    }
   ],
   "source": [
    "# Calculate the Sum of all items in numpy array\n",
    "print np.sum(X3)"
   ]
  },
  {
   "cell_type": "markdown",
   "metadata": {},
   "source": [
    "# np.mean"
   ]
  },
  {
   "cell_type": "code",
   "execution_count": 24,
   "metadata": {
    "collapsed": false
   },
   "outputs": [
    {
     "name": "stdout",
     "output_type": "stream",
     "text": [
      "10.5\n"
     ]
    }
   ],
   "source": [
    "# return the mean of X\n",
    "print np.mean(X3)"
   ]
  },
  {
   "cell_type": "markdown",
   "metadata": {},
   "source": [
    "# np.loadtxt"
   ]
  },
  {
   "cell_type": "code",
   "execution_count": 17,
   "metadata": {
    "collapsed": false
   },
   "outputs": [
    {
     "name": "stdout",
     "output_type": "stream",
     "text": [
      "(400, 3)\n",
      "259\n",
      "[[  2.9694893    1.97915605  16.        ]\n",
      " [  4.03896294   3.5556812   16.        ]\n",
      " [  5.30264328   3.3856329   15.        ]]\n",
      "0.479154166011\n",
      "49.0\n",
      "27.06\n",
      "mean birth weight    : 6.10407017286\n",
      "mean birth weight    : 6.10407017286\n"
     ]
    }
   ],
   "source": [
    "data = np.loadtxt('dataset_HW0.txt', delimiter=',', skiprows=1)\n",
    "\n",
    "print data.shape        # dimension \n",
    "print data.argmin()  \n",
    "print data[:3, :]   # upto row 3 , all columns\n",
    "print data[:,1].min()\n",
    "print data[:,2].max()\n",
    "print data[:,2].mean()  #data.mean()\n",
    "print 'mean birth weight    :' , np.mean(data[:,0])\n",
    "print 'mean birth weight    :' , data[:,0].mean()\n",
    "\n"
   ]
  },
  {
   "cell_type": "markdown",
   "metadata": {},
   "source": [
    "# NULL value"
   ]
  },
  {
   "cell_type": "code",
   "execution_count": 54,
   "metadata": {
    "collapsed": false
   },
   "outputs": [
    {
     "name": "stdout",
     "output_type": "stream",
     "text": [
      "null_variable is None\n",
      "not_null_variable is not None\n",
      "null_variable is None\n",
      "not_null_variable is not None\n"
     ]
    }
   ],
   "source": [
    "null_variable = None\n",
    "not_null_variable = 'Hello There!'\n",
    " \n",
    "# The is keyword\n",
    "if null_variable is None:\n",
    "    print('null_variable is None')\n",
    "else:\n",
    "    print('null_variable is not None')\n",
    " \n",
    "if not_null_variable is None:\n",
    "    print('not_null_variable is None')\n",
    "else:\n",
    "    print('not_null_variable is not None')\n",
    " \n",
    " \n",
    "# The == operator\n",
    "if null_variable == None:\n",
    "    print('null_variable is None')\n",
    "else:\n",
    "    print('null_variable is not None')\n",
    " \n",
    "if not_null_variable == None:\n",
    "    print('not_null_variable is None')\n",
    "else:\n",
    "    print('not_null_variable is not None')"
   ]
  },
  {
   "cell_type": "markdown",
   "metadata": {},
   "source": [
    "# Basic Plot"
   ]
  },
  {
   "cell_type": "code",
   "execution_count": null,
   "metadata": {
    "collapsed": true
   },
   "outputs": [],
   "source": []
  },
  {
   "cell_type": "code",
   "execution_count": 53,
   "metadata": {
    "collapsed": false,
    "scrolled": true
   },
   "outputs": [
    {
     "data": {
      "image/png": "[encoded data removed]",
      "text/plain": [
       "<matplotlib.figure.Figure at 0x110f7d210>"
      ]
     },
     "metadata": {},
     "output_type": "display_data"
    }
   ],
   "source": [
    "# 1- import matplot\n",
    "import matplotlib.pyplot as plt\n",
    "%matplotlib inline\n",
    "\n",
    "# 2- create a figure to hold you plot\n",
    "#plt.figure(figsize = (20,10))\n",
    "\n",
    "# 3- Plot into this figure\n",
    "plt.plot(X3,X3-3, 'r^', label='Data')   # Data up to this point is just a legand of this plot\n",
    "'''\n",
    "Color : c:r,b,g,..  shape : -(solid line),-- (dash line),o (dot) , s (square) , ^ (triangle) , + plus\n",
    "r- ,r--,b-,ro,g^,bs\n",
    "\n",
    "'''\n",
    "# add second plot into the same figure\n",
    "plt.plot(X3 , X3 ** 2 , '-', label = 'Square data')\n",
    "\n",
    "\n",
    "# plot two plot in one command\n",
    "#plt.plot(X3,X3**2, 'bs', X3,X3+4, 'go',label='thrid')\n",
    "\n",
    "# Add legend (came from label value in plt.plot for each plt.plot is many exist)\n",
    "plt.legend(loc='best')  \n",
    "\n",
    "plt.show()\n"
   ]
  },
  {
   "cell_type": "code",
   "execution_count": null,
   "metadata": {
    "collapsed": true
   },
   "outputs": [],
   "source": []
  },
  {
   "cell_type": "code",
   "execution_count": null,
   "metadata": {
    "collapsed": true
   },
   "outputs": [],
   "source": [
    "import matplotlib.pyplot as plt\n",
    "%matplotlib inline\n",
    "\n",
    "plt.figure(figsize=(20,10)) \n",
    "\n",
    "plt.plot(X,Y, 'r+', label='Data')\n",
    "plt.plot(X, Y_hat, label='Estimated Y')\n",
    "plt.plot(X, beta0 + beta1 * X, label='True Y' )\n",
    "\n",
    "plt.xlabel('X')\n",
    "plt.ylabel('Y')\n",
    "plt.legend(loc='best')\n",
    "\n",
    "\n"
   ]
  }
 ],
 "metadata": {
  "anaconda-cloud": {},
  "kernelspec": {
   "display_name": "Python [Root]",
   "language": "python",
   "name": "Python [Root]"
  },
  "language_info": {
   "codemirror_mode": {
    "name": "ipython",
    "version": 2
   },
   "file_extension": ".py",
   "mimetype": "text/x-python",
   "name": "python",
   "nbconvert_exporter": "python",
   "pygments_lexer": "ipython2",
   "version": "2.7.12"
  }
 },
 "nbformat": 4,
 "nbformat_minor": 0
}

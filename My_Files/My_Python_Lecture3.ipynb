{
 "cells": [
  {
   "cell_type": "markdown",
   "metadata": {},
   "source": [
    "** standard deviation** \n",
    "\n",
    "    SD\n",
    "    represented by the Greek letter sigma σ or the Latin letter s\n",
    "    it is the square root of the Variance\n",
    "    \n",
    "** Variance **\n",
    "     the average of the squared differences from the Mean\n",
    "                    \n",
    "                    "
   ]
  },
  {
   "cell_type": "markdown",
   "metadata": {},
   "source": [
    "** np.random.normal (loc , scale , size) **\n",
    "\n",
    "\n",
    "normal(loc=0.0, scale=1.0, size=None)\n",
    "\n",
    "loc = mean , center of distribution\n",
    "scale : Standrad deviation \n",
    "Size :  number of returned items"
   ]
  },
  {
   "cell_type": "code",
   "execution_count": 9,
   "metadata": {
    "collapsed": false
   },
   "outputs": [
    {
     "name": "stdout",
     "output_type": "stream",
     "text": [
      "[-1.26549015  1.06153438  1.75645812 -1.2695206  -1.13527221 -2.39609778\n",
      "  0.28715583  1.15472038 -0.41368818  1.29631136  1.17557137 -1.28546938\n",
      " -0.67691135  0.22871296  0.2266923  -0.92040787 -0.8009861   0.52830016\n",
      " -1.22060523  0.89885577]\n"
     ]
    }
   ],
   "source": [
    "# generte numpy array with 20 number normally distributed\n",
    "import numpy as np\n",
    "\n",
    "x = np.random.normal(0, 1, 20)\n",
    "print x"
   ]
  },
  {
   "cell_type": "markdown",
   "metadata": {},
   "source": [
    "# np.linspace"
   ]
  },
  {
   "cell_type": "code",
   "execution_count": 23,
   "metadata": {
    "collapsed": false
   },
   "outputs": [
    {
     "name": "stdout",
     "output_type": "stream",
     "text": [
      "[  1.           1.18367347   1.36734694   1.55102041   1.73469388\n",
      "   1.91836735   2.10204082   2.28571429   2.46938776   2.65306122\n",
      "   2.83673469   3.02040816   3.20408163   3.3877551    3.57142857\n",
      "   3.75510204   3.93877551   4.12244898   4.30612245   4.48979592\n",
      "   4.67346939   4.85714286   5.04081633   5.2244898    5.40816327\n",
      "   5.59183673   5.7755102    5.95918367   6.14285714   6.32653061\n",
      "   6.51020408   6.69387755   6.87755102   7.06122449   7.24489796\n",
      "   7.42857143   7.6122449    7.79591837   7.97959184   8.16326531\n",
      "   8.34693878   8.53061224   8.71428571   8.89795918   9.08163265\n",
      "   9.26530612   9.44897959   9.63265306   9.81632653  10.        ]\n",
      "[  1.   2.   3.   4.   5.   6.   7.   8.   9.  10.  11.  12.  13.  14.  15.\n",
      "  16.  17.  18.  19.  20.]\n"
     ]
    }
   ],
   "source": [
    "import numpy as np\n",
    "# Return 50 order number starting from 1 to 10 \n",
    "X2 = np.linspace (1,10,50)\n",
    "print X2\n",
    "\n",
    "X3 = np.linspace(1,20,20)\n",
    "print X3"
   ]
  },
  {
   "cell_type": "markdown",
   "metadata": {},
   "source": [
    "# np.sum"
   ]
  },
  {
   "cell_type": "code",
   "execution_count": 24,
   "metadata": {
    "collapsed": false
   },
   "outputs": [
    {
     "name": "stdout",
     "output_type": "stream",
     "text": [
      "210.0\n"
     ]
    }
   ],
   "source": [
    "# Calculate the Sum of all items in numpy array\n",
    "print np.sum(X3)"
   ]
  },
  {
   "cell_type": "markdown",
   "metadata": {},
   "source": [
    "# np.mean"
   ]
  },
  {
   "cell_type": "code",
   "execution_count": 25,
   "metadata": {
    "collapsed": false
   },
   "outputs": [
    {
     "name": "stdout",
     "output_type": "stream",
     "text": [
      "10.5\n"
     ]
    }
   ],
   "source": [
    "# return the mean of X\n",
    "print np.mean(X3)\n",
    "\n"
   ]
  },
  {
   "cell_type": "markdown",
   "metadata": {},
   "source": [
    "** Square Root **"
   ]
  },
  {
   "cell_type": "code",
   "execution_count": 26,
   "metadata": {
    "collapsed": false
   },
   "outputs": [
    {
     "name": "stdout",
     "output_type": "stream",
     "text": [
      "5.0\n",
      "[ 1.          1.41421356  1.73205081  2.          2.23606798  2.44948974\n",
      "  2.64575131  2.82842712  3.          3.16227766  3.31662479  3.46410162\n",
      "  3.60555128  3.74165739  3.87298335  4.          4.12310563  4.24264069\n",
      "  4.35889894  4.47213595]\n"
     ]
    }
   ],
   "source": [
    "import numpy as np\n",
    "# exsit also in math \n",
    "print np.sqrt(25)\n",
    "print np.sqrt(X3)   #  square root for each items\n",
    "\n",
    "\n"
   ]
  },
  {
   "cell_type": "markdown",
   "metadata": {},
   "source": [
    "** Numpy reshape **"
   ]
  },
  {
   "cell_type": "code",
   "execution_count": 31,
   "metadata": {
    "collapsed": false
   },
   "outputs": [
    {
     "name": "stdout",
     "output_type": "stream",
     "text": [
      "[  1.   2.   3.   4.   5.   6.   7.   8.   9.  10.]\n",
      "[[  1.]\n",
      " [  2.]\n",
      " [  3.]\n",
      " [  4.]\n",
      " [  5.]\n",
      " [  6.]\n",
      " [  7.]\n",
      " [  8.]\n",
      " [  9.]\n",
      " [ 10.]]\n"
     ]
    }
   ],
   "source": [
    "import numpy as np\n",
    "X = np.linspace(1,10,10)\n",
    "print X\n",
    "X = X.reshape((10,1))\n",
    "print X"
   ]
  },
  {
   "cell_type": "markdown",
   "metadata": {},
   "source": [
    "# np.loadtxt"
   ]
  },
  {
   "cell_type": "code",
   "execution_count": 18,
   "metadata": {
    "collapsed": false
   },
   "outputs": [
    {
     "name": "stdout",
     "output_type": "stream",
     "text": [
      "(400, 3)\n",
      "259\n",
      "[[  2.9694893    1.97915605  16.        ]\n",
      " [  4.03896294   3.5556812   16.        ]\n",
      " [  5.30264328   3.3856329   15.        ]]\n",
      "0.479154166011\n",
      "49.0\n",
      "27.06\n",
      "mean birth weight    : 6.10407017286\n",
      "mean birth weight    : 6.10407017286\n",
      "Sum of all numbers =  14796.6644018   or   14796.6644018\n",
      " Square root of all numbers =  [[ 1.72322062  1.40682481  4.        ]\n",
      " [ 2.00971713  1.8856514   4.        ]\n",
      " [ 2.3027469   1.84000894  3.87298335]\n",
      " ..., \n",
      " [ 2.46717901  1.92317853  6.55743852]\n",
      " [ 2.4518446   2.04324049  6.40312424]\n",
      " [ 2.48043666  2.19466889  6.08276253]]\n"
     ]
    }
   ],
   "source": [
    "data = np.loadtxt('dataset_HW0.txt', delimiter=',', skiprows=1)\n",
    "\n",
    "print data.shape        # dimension \n",
    "print data.argmin()  \n",
    "print data[:3, :]   # upto row 3 , all columns\n",
    "print data[:,1].min()\n",
    "print data[:,2].max()\n",
    "print data[:,2].mean()  #data.mean()\n",
    "print 'mean birth weight    :' , np.mean(data[:,0])\n",
    "print 'mean birth weight    :' , data[:,0].mean()\n",
    "\n",
    "print  'one Sum of all numbers = ' , np.sum(data) , '  or  ' , data.sum()\n",
    "print ' Square root of each  numbers = ' , np.sqrt(data)\n",
    "\n"
   ]
  },
  {
   "cell_type": "markdown",
   "metadata": {},
   "source": [
    "# NULL value"
   ]
  },
  {
   "cell_type": "code",
   "execution_count": 54,
   "metadata": {
    "collapsed": false
   },
   "outputs": [
    {
     "name": "stdout",
     "output_type": "stream",
     "text": [
      "null_variable is None\n",
      "not_null_variable is not None\n",
      "null_variable is None\n",
      "not_null_variable is not None\n"
     ]
    }
   ],
   "source": [
    "null_variable = None\n",
    "not_null_variable = 'Hello There!'\n",
    " \n",
    "# The is keyword\n",
    "if null_variable is None:\n",
    "    print('null_variable is None')\n",
    "else:\n",
    "    print('null_variable is not None')\n",
    " \n",
    "if not_null_variable is None:\n",
    "    print('not_null_variable is None')\n",
    "else:\n",
    "    print('not_null_variable is not None')\n",
    " \n",
    " \n",
    "# The == operator\n",
    "if null_variable == None:\n",
    "    print('null_variable is None')\n",
    "else:\n",
    "    print('null_variable is not None')\n",
    " \n",
    "if not_null_variable == None:\n",
    "    print('not_null_variable is None')\n",
    "else:\n",
    "    print('not_null_variable is not None')"
   ]
  },
  {
   "cell_type": "markdown",
   "metadata": {},
   "source": [
    "# Basic Plot"
   ]
  },
  {
   "cell_type": "code",
   "execution_count": null,
   "metadata": {
    "collapsed": true
   },
   "outputs": [],
   "source": []
  },
  {
   "cell_type": "code",
   "execution_count": 53,
   "metadata": {
    "collapsed": false,
    "scrolled": true
   },
   "outputs": [
    {
     "data": {
      "image/png": "[encoded data removed]",
      "text/plain": [
       "<matplotlib.figure.Figure at 0x110f7d210>"
      ]
     },
     "metadata": {},
     "output_type": "display_data"
    }
   ],
   "source": [
    "# 1- import matplot\n",
    "import matplotlib.pyplot as plt\n",
    "%matplotlib inline\n",
    "\n",
    "# 2- create a figure to hold you plot\n",
    "#plt.figure(figsize = (20,10))\n",
    "\n",
    "# 3- Plot into this figure\n",
    "plt.plot(X3,X3-3, 'r^', label='Data')   # Data up to this point is just a legand of this plot\n",
    "'''\n",
    "Color : c:r,b,g,..  shape : -(solid line),-- (dash line),o (dot) , s (square) , ^ (triangle) , + plus\n",
    "r- ,r--,b-,ro,g^,bs\n",
    "\n",
    "'''\n",
    "# add second plot into the same figure\n",
    "plt.plot(X3 , X3 ** 2 , '-', label = 'Square data')\n",
    "\n",
    "\n",
    "# plot two plot in one command\n",
    "#plt.plot(X3,X3**2, 'bs', X3,X3+4, 'go',label='thrid')\n",
    "\n",
    "# Add legend (came from label value in plt.plot for each plt.plot is many exist)\n",
    "plt.legend(loc='best')  \n",
    "\n",
    "plt.show()\n"
   ]
  },
  {
   "cell_type": "code",
   "execution_count": null,
   "metadata": {
    "collapsed": true
   },
   "outputs": [],
   "source": [
    "** Figure With horizontal line **"
   ]
  },
  {
   "cell_type": "code",
   "execution_count": 15,
   "metadata": {
    "collapsed": false
   },
   "outputs": [
    {
     "data": {
      "text/plain": [
       "<matplotlib.legend.Legend at 0x1019b2b90>"
      ]
     },
     "execution_count": 15,
     "metadata": {},
     "output_type": "execute_result"
    },
    {
     "data": {
      "image/png": "[encoded data removed]",
      "text/plain": [
       "<matplotlib.figure.Figure at 0x10f809dd0>"
      ]
     },
     "metadata": {},
     "output_type": "display_data"
    }
   ],
   "source": [
    "import matplotlib.pyplot as plt\n",
    "%matplotlib inline\n",
    "\n",
    "plt.figure(figsize=(20,10)) \n",
    "\n",
    "\n",
    "plt.axhline(y=2, color='r', label='My Y Line')\n",
    "plt.axvline(x=3.0, linewidth=4 , label = 'My X line')\n",
    "plt.xlabel('Size of sample')\n",
    "plt.ylabel('beta_1')\n",
    "plt.legend()\n",
    "\n"
   ]
  },
  {
   "cell_type": "markdown",
   "metadata": {},
   "source": [
    "** For Loop form 0 to N **"
   ]
  },
  {
   "cell_type": "code",
   "execution_count": 12,
   "metadata": {
    "collapsed": false
   },
   "outputs": [
    {
     "name": "stdout",
     "output_type": "stream",
     "text": [
      "0\n",
      "1\n",
      "2\n",
      "3\n",
      "4\n",
      "5\n",
      "6\n",
      "7\n",
      "8\n",
      "9\n",
      "10\n"
     ]
    }
   ],
   "source": [
    "import numpy as np\n",
    "for k in np.arange(11):\n",
    "    print k"
   ]
  },
  {
   "cell_type": "markdown",
   "metadata": {},
   "source": [
    "# enumerate"
   ]
  },
  {
   "cell_type": "code",
   "execution_count": 14,
   "metadata": {
    "collapsed": false
   },
   "outputs": [
    {
     "name": "stdout",
     "output_type": "stream",
     "text": [
      "0 1.0\n",
      "1 2.0\n",
      "2 3.0\n",
      "3 4.0\n",
      "4 5.0\n",
      "5 6.0\n",
      "6 7.0\n",
      "7 8.0\n",
      "8 9.0\n",
      "9 10.0\n",
      "0 0.0\n",
      "1 1.0\n",
      "2 4.0\n",
      "3 9.0\n",
      "4 16.0\n",
      "5 25.0\n",
      "6 36.0\n",
      "7 49.0\n",
      "8 64.0\n",
      "9 81.0\n"
     ]
    }
   ],
   "source": [
    "# Loop on numpy array  i : index  , N the value \n",
    "for i, N in enumerate(x):\n",
    "    x[i] = i ** 2\n",
    "    print  i , N\n",
    "\n",
    "for i, N in enumerate(x):\n",
    "    print  i , N    "
   ]
  },
  {
   "cell_type": "code",
   "execution_count": 42,
   "metadata": {
    "collapsed": false
   },
   "outputs": [
    {
     "name": "stdout",
     "output_type": "stream",
     "text": [
      "[  1.   4.   6.   9.  16.  25.  36.  49.  64.  81.]\n",
      "[  1.   4.   6.   9.  16.  25.  36.  49.  64.  81.]\n"
     ]
    }
   ],
   "source": [
    "x[0] = 6\n",
    "x = np.sort(x)\n",
    "print x\n",
    "print y"
   ]
  },
  {
   "cell_type": "code",
   "execution_count": 56,
   "metadata": {
    "collapsed": false
   },
   "outputs": [
    {
     "name": "stdout",
     "output_type": "stream",
     "text": [
      "[ 0.  0.  0.  0.  0.]\n",
      "[[ 0.]\n",
      " [ 0.]\n",
      " [ 0.]\n",
      " [ 0.]\n",
      " [ 0.]]\n",
      "[ 1.  2.  3.  4.  5.]\n",
      "[[ 0.  0.]\n",
      " [ 0.  0.]\n",
      " [ 0.  0.]\n",
      " [ 0.  0.]\n",
      " [ 0.  0.]]\n"
     ]
    }
   ],
   "source": [
    "import numpy as np\n",
    "\n",
    "a2d= np.zeros(5)\n",
    "a3d = a2d.reshape((5,1))\n",
    "print a2d\n",
    "print a3d\n",
    "\n",
    "a4d  = np.linspace(1,5,5)\n",
    "print a4d\n",
    "\n"
   ]
  },
  {
   "cell_type": "markdown",
   "metadata": {},
   "source": [
    "**Create empty 2D numpy array **"
   ]
  },
  {
   "cell_type": "code",
   "execution_count": 74,
   "metadata": {
    "collapsed": false
   },
   "outputs": [
    {
     "name": "stdout",
     "output_type": "stream",
     "text": [
      "[[ 0.  0.]\n",
      " [ 0.  0.]\n",
      " [ 0.  0.]\n",
      " [ 0.  0.]\n",
      " [ 0.  0.]]\n",
      "[[  5.  11.]\n",
      " [  3.   4.]\n",
      " [  3.  20.]\n",
      " [  2.   4.]\n",
      " [  1.   5.]]\n",
      "None\n"
     ]
    }
   ],
   "source": [
    "a = np.zeros(shape=(5,2))\n",
    "#a = np.array(np.zeros(5),np.zeros(5))\n",
    "print a\n",
    "a[0,1] = 11\n",
    "a[1,1] = 3\n",
    "a[2,1] = 20\n",
    "a[3,1] = 4\n",
    "a[4,1] = 5\n",
    "\n",
    "a[0,0] = 5\n",
    "a[1,0] = 4\n",
    "a[2,0] = 3\n",
    "a[3,0] = 2\n",
    "a[4,0] = 1\n",
    "\n",
    "b = a.sort()\n",
    "print a\n",
    "print b\n"
   ]
  },
  {
   "cell_type": "code",
   "execution_count": 68,
   "metadata": {
    "collapsed": false
   },
   "outputs": [
    {
     "name": "stdout",
     "output_type": "stream",
     "text": [
      "[[1 4]\n",
      " [3 1]]\n",
      "[[1 4]\n",
      " [1 3]]\n",
      "[[1 3]\n",
      " [1 4]]\n"
     ]
    }
   ],
   "source": [
    "a = np.array([[1,4], [3,1]])\n",
    "print a\n",
    "a.sort(axis=1)\n",
    "print a\n",
    "a.sort(axis=0)\n",
    "print a"
   ]
  },
  {
   "cell_type": "markdown",
   "metadata": {},
   "source": [
    "# sort pandas dataframe by column"
   ]
  },
  {
   "cell_type": "code",
   "execution_count": 82,
   "metadata": {
    "collapsed": false
   },
   "outputs": [
    {
     "name": "stderr",
     "output_type": "stream",
     "text": [
      "/Users/mac/anaconda/lib/python2.7/site-packages/ipykernel/__main__.py:4: FutureWarning: sort(columns=....) is deprecated, use sort_values(by=.....)\n"
     ]
    },
    {
     "data": {
      "text/html": [
       "<div>\n",
       "<table border=\"1\" class=\"dataframe\">\n",
       "  <thead>\n",
       "    <tr style=\"text-align: right;\">\n",
       "      <th></th>\n",
       "      <th>c1</th>\n",
       "      <th>c2</th>\n",
       "    </tr>\n",
       "  </thead>\n",
       "  <tbody>\n",
       "    <tr>\n",
       "      <th>0</th>\n",
       "      <td>3</td>\n",
       "      <td>10</td>\n",
       "    </tr>\n",
       "    <tr>\n",
       "      <th>3</th>\n",
       "      <td>2</td>\n",
       "      <td>15</td>\n",
       "    </tr>\n",
       "    <tr>\n",
       "      <th>2</th>\n",
       "      <td>1</td>\n",
       "      <td>20</td>\n",
       "    </tr>\n",
       "    <tr>\n",
       "      <th>1</th>\n",
       "      <td>2</td>\n",
       "      <td>30</td>\n",
       "    </tr>\n",
       "    <tr>\n",
       "      <th>4</th>\n",
       "      <td>2</td>\n",
       "      <td>100</td>\n",
       "    </tr>\n",
       "  </tbody>\n",
       "</table>\n",
       "</div>"
      ],
      "text/plain": [
       "   c1   c2\n",
       "0   3   10\n",
       "3   2   15\n",
       "2   1   20\n",
       "1   2   30\n",
       "4   2  100"
      ]
     },
     "execution_count": 82,
     "metadata": {},
     "output_type": "execute_result"
    }
   ],
   "source": [
    "import pandas as pd\n",
    "df = pd.DataFrame([{'c1':3,'c2':10},{'c1':2, 'c2':30},{'c1':1,'c2':20},{'c1':2,'c2':15},{'c1':2,'c2':100}])\n",
    "\n",
    "df.sort(['c2'])\n",
    "#df.sort(['c1','c2'], ascending=[False,True])\n",
    "#df.sort(['c1','c2'], ascending=[False,True])"
   ]
  },
  {
   "cell_type": "code",
   "execution_count": null,
   "metadata": {
    "collapsed": true
   },
   "outputs": [],
   "source": [
    "import numpy as np\n",
    "import pandas as pd\n",
    "import random\n",
    "\n",
    "# For more information about the 1974 Motor Trend Car Road Test dataset \n",
    "# see http://stat.ethz.ch/R-manual/R-devel/library/datasets/html/mtcars.html\n",
    "\n",
    "# --------------------   read the data  --------------------\n",
    "# specify file name containing the data\n",
    "filename = \"cardata.csv\"\n",
    "# create a pandas dataframe containing the data in the csv file\n",
    "cardata = pd.read_csv(filename)\n",
    "# find the length (number of rows) of data\n",
    "data_length = len(cardata)\n",
    "# we will use only 60% of the data to construct our training set\n",
    "train_length = int(0.6 * data_length)\n",
    "\n",
    "# ---------------------   prepare data  --------------------\n",
    "# generate numpy array from zero to length of data used for indices\n",
    "indices = np.arange(data_length)\n",
    "# randomize the order of the indices\n",
    "random.shuffle(indices)\n",
    "# create indices for training set from the randomized indices\n",
    "train_indices = indices[0:train_length]\n",
    "# output feature we are interested in predicting\n",
    "yfeature = [\"mpg\"]\n",
    "# input feature(s) we will use to construct our prediction model\n",
    "xfeatures = [\"cyl\",\"disp\",\"wt\"]\n",
    "# this creates the training set which constructs our prediction model\n",
    "X_train_data = cardata.ix[train_indices,xfeatures]\n",
    "Y_train_data = cardata.ix[train_indices,yfeature]\n",
    "\n",
    "# ------------------  predict, using data  -----------------\n",
    "# numpy array containing the features of the vehicle we want to predict\n",
    "# note the order of the array elements has to be the same as xfeatures\n",
    "my_vehicle = np.array([4,80,1.5]) # 4 cylinders, 80 cubic inches, 1.500 lb/1000\n",
    "# k is the number of elements we will be averaging for our prediction\n",
    "k = 3\n",
    "if k < 1:\n",
    "    # k should atleast be 1    \n",
    "    k = 1\n",
    "elif k > len(Y_train_data):\n",
    "    # k cannot be more than the training set's length\n",
    "    k = len(Y_train_data)\n",
    "# this is where the \"prediction begins\", we compute the Euclidean distance\n",
    "# squared difference between my_vehicle and all x training set (input features)\n",
    "sqdiff = (X_train_data - my_vehicle)**2\n",
    "# now compute the Euclidean distance for each row (axis = 1)\n",
    "dist = np.sqrt(sqdiff.sum(axis=1))\n",
    "# store the Euclidean distance into a new column in the y training set (output)\n",
    "Y_train_data[\"dist\"] = dist\n",
    "# sort the y training set by the Euclidean distance \n",
    "sorted_output = Y_train_data.sort(\"dist\")\n",
    "# get the yfeature as a numpy array and compute mean of only k elements\n",
    "prediction = np.mean(sorted_output.as_matrix(yfeature)[0:k])\n",
    "print prediction"
   ]
  }
 ],
 "metadata": {
  "anaconda-cloud": {},
  "kernelspec": {
   "display_name": "Python [Root]",
   "language": "python",
   "name": "Python [Root]"
  },
  "language_info": {
   "codemirror_mode": {
    "name": "ipython",
    "version": 2
   },
   "file_extension": ".py",
   "mimetype": "text/x-python",
   "name": "python",
   "nbconvert_exporter": "python",
   "pygments_lexer": "ipython2",
   "version": "2.7.12"
  }
 },
 "nbformat": 4,
 "nbformat_minor": 0
}

{
 "cells": [
  {
   "cell_type": "markdown",
   "metadata": {},
   "source": [
    "# CS 109A/AC 209A/STAT 121A Data Science: Homework 2\n",
    "**Harvard University**<br>\n",
    "**Fall 2016**<br>\n",
    "**Instructors: W. Pan, P. Protopapas, K. Rader**<br>\n",
    "**Due Date: ** Wednesday, September 21st, 2016 at 11:59pm"
   ]
  },
  {
   "cell_type": "markdown",
   "metadata": {},
   "source": [
    "Download the `IPython` notebook as well as the data file from Vocareum and complete locally.\n",
    "\n",
    "To submit your assignment, in Vocareum, upload (using the 'Upload' button on your Jupyter Dashboard) your solution to Vocareum as a single notebook with following file name format:\n",
    "\n",
    "`last_first_CourseNumber_HW2.ipynb`\n",
    "\n",
    "where `CourseNumber` is the course in which you're enrolled (CS 109a, Stats 121a, AC 209a). Submit your assignment in Vocareum using the 'Submit' button.\n",
    "\n",
    "**Avoid editing your file in Vocareum after uploading. If you need to make a change in a solution. Delete your old solution file from Vocareum and upload a new solution. Click submit only ONCE after verifying that you have uploaded the correct file. The assignment will CLOSE after you click the submit button.**\n",
    "\n",
    "\n",
    "Problems on homework assignments are equally weighted. The Challenge Question is required for AC 209A students and optional for all others. Student who complete the Challenge Problem as optional extra credit will receive +0.5% towards your final grade for each correct solution. "
   ]
  },
  {
   "cell_type": "markdown",
   "metadata": {},
   "source": [
    "Import libraries"
   ]
  },
  {
   "cell_type": "code",
   "execution_count": null,
   "metadata": {
    "collapsed": false
   },
   "outputs": [],
   "source": [
    "import numpy as np\n",
    "import pandas as pd\n",
    "import random\n",
    "import sklearn as sk\n",
    "from sklearn.neighbors import KNeighborsRegressor as KNN\n",
    "from sklearn.cross_validation import train_test_split as sk_split\n",
    "from sklearn.linear_model import LinearRegression as Lin_Reg\n",
    "import time\n",
    "import matplotlib\n",
    "import matplotlib.pyplot as plt\n",
    "%matplotlib inline"
   ]
  },
  {
   "cell_type": "markdown",
   "metadata": {},
   "source": [
    "---"
   ]
  },
  {
   "cell_type": "markdown",
   "metadata": {},
   "source": [
    "## Problem 0: Basic Information\n",
    "\n",
    "Fill in your basic information. "
   ]
  },
  {
   "cell_type": "markdown",
   "metadata": {},
   "source": [
    "### Part (a): Your name"
   ]
  },
  {
   "cell_type": "markdown",
   "metadata": {},
   "source": [
    "[Mohammed, Amro]"
   ]
  },
  {
   "cell_type": "markdown",
   "metadata": {},
   "source": [
    "[CS 109a]"
   ]
  },
  {
   "cell_type": "markdown",
   "metadata": {},
   "source": [
    "### Part (c): Who did you work with?"
   ]
  },
  {
   "cell_type": "markdown",
   "metadata": {},
   "source": [
    "[First and Land names of students with whom you have collaborated]"
   ]
  },
  {
   "cell_type": "markdown",
   "metadata": {},
   "source": [
    "---"
   ]
  },
  {
   "cell_type": "markdown",
   "metadata": {},
   "source": [
    "## Problem 1: Inside the Models in Scikit-learn\n",
    "\n",
    "In this problem, we will be implementing K-Nearest Neighbour and simple linear regression for predicting a quantitative variable. We will compare the performance of our implementation with those of Scikit-learn (``sklearn``).\n",
    "\n",
    "The datasets required for this problem is in the ``dataset`` directory. Each file in the ``dataset`` directory contains a one-dimensional data set, with the first column containing the dependent variable Y, and the second column containing the independent variable X. "
   ]
  },
  {
   "cell_type": "markdown",
   "metadata": {},
   "source": [
    "### Part (a): Implement the models by hand\n",
    "In this part you **may not** use ``sklearn`` for any task.\n",
    "\n",
    "In the following, you may use ``numpy`` arrays instead of ``pandas`` dataframes.\n",
    "\n",
    "- Implement a funtion ``split``, which satifies:\n",
    "    - input: an ``nx2`` dataframe ``data``, a float ``m``\n",
    "    - return: an ``nx2`` dataframe ``train`` and an ``nx2`` dataframe ``test``, consisting of ``m`` percent and ``100 - m`` percent of the data, respectively.\n",
    "\n",
    "\n",
    "- Implement K-Nearest Neighbour for predicting a quantitative variable. That is, write a function, ``knn_predict``, that satisfies:\n",
    "    - input: an integer ``k``, an ``n x 2`` dataframe training set ``train``, an ``n x 1`` dataframe testing set ``test``\n",
    "    - return: an ``nx2`` dataframe, whose first column is that of ``test`` and whose second column is the predicted values.\n",
    "\n",
    "\n",
    "\n",
    "- Implement linear regression for predicting a quantitative variable. That is, write a function ``linear_reg_fit`` that satisfies:\n",
    "    - input: an ``nx2`` dataframe training set ``train``\n",
    "    - return: the coefficients of the linear regression model - a float ``slope`` and a float ``intercept``.\n",
    "    \n",
    "    \n",
    "- Write a function ``linear_reg_predict`` that satisfies:\n",
    "    - input: an ``nx1`` dataframe testing set ``test``, as well as the coefficients of the linear regression model\n",
    "    - return: an ``nx2`` dataframe, whose first column is that of ``test`` and whose second column is the predicted values.\n",
    "    \n",
    "    \n",
    "- Implement a function ``score`` that satisfies:\n",
    "    - input: an ``nx2`` dataframe ``predicted``, an ``nx2`` dataframe ``actual`` \n",
    "    - return: R^2 coefficient of the fit of the predicted values."
   ]
  },
  {
   "cell_type": "markdown",
   "metadata": {},
   "source": [
    "**Solution:**"
   ]
  },
  {
   "cell_type": "markdown",
   "metadata": {},
   "source": [
    "*** 1-a-1 : Implement a funtion split ***"
   ]
  },
  {
   "cell_type": "code",
   "execution_count": 3,
   "metadata": {
    "collapsed": false
   },
   "outputs": [],
   "source": [
    "def split(data , m ):\n",
    " '''\n",
    "   Implement a funtion split, which satifies:\n",
    "     input: an nx2 dataframe data, a float m\n",
    "     return: an nx2 dataframe train and an nx2 dataframe test, consisting of m percent and 100 - m percent of the data, respectively.\n",
    "    '''\n",
    "\n",
    " msk = np.random.rand(len(data)) < m\n",
    " train_set = data[msk]\n",
    " test_set =  data[~msk]   \n",
    " return train_set, test_set\n"
   ]
  },
  {
   "cell_type": "markdown",
   "metadata": {},
   "source": [
    "### Part (b): Course Number"
   ]
  },
  {
   "cell_type": "code",
   "execution_count": 4,
   "metadata": {
    "collapsed": false
   },
   "outputs": [],
   "source": [
    "import numpy as np\n",
    "import pandas as pd\n",
    "import random\n",
    "\n",
    "def knn_predict(train_knn,test_knn,k=3):\n",
    "  estimated_test_knn = pd.DataFrame(columns= ('x','y'))\n",
    "  estimated_test_knn['x']= test_knn['x']\n",
    "  estimated_test_knn['y']= 0.0\n",
    "  train_knn['euclidean_distance'] = 0.0\n",
    "  for test_index  , test_row in test_knn.iterrows():\n",
    "     train_knn.loc[:,'euclidean_distance'] = abs(train_knn.loc[:,'x'] - test_row['x'])\n",
    "     train_knn.sort(['euclidean_distance'],inplace=True)\n",
    "     estimated_test_knn['y'][test_index] =   train_knn['y'][0:k].mean()\n",
    "   \n",
    "\n",
    "  return estimated_test_knn"
   ]
  },
  {
   "cell_type": "code",
   "execution_count": 5,
   "metadata": {
    "collapsed": false
   },
   "outputs": [],
   "source": [
    "import numpy as np\n",
    "import pandas as pd\n",
    "import random\n",
    "\n",
    "def linear_reg_fit(train_lr):\n",
    " # Estimate the coefficients \n",
    " beta1 =  np.sum((train_lr['x'] - train_lr['x'].mean()) *  (train_lr['y'] - train_lr['y'].mean())) / np.sum ((train_lr['x'] - train_lr['x'].mean()) **2) \n",
    " beta0 =  train_lr['y'].mean() - beta1 * train_lr['x'].mean()\n",
    " return beta0, beta1\n"
   ]
  },
  {
   "cell_type": "code",
   "execution_count": 6,
   "metadata": {
    "collapsed": true
   },
   "outputs": [],
   "source": [
    "def linear_reg_predict (test_lr, intercept , slope):\n",
    "  estimated_test_lr = pd.DataFrame(columns= ('x','y'))\n",
    "  estimated_test_lr['x']= test_lr['x']\n",
    "  estimated_test_lr['y']=  intercept + slope* test_lr['x']\n",
    "  return estimated_test_lr"
   ]
  },
  {
   "cell_type": "markdown",
   "metadata": {},
   "source": [
    "*** Implement a function score ***\n",
    "\n",
    " that satisfies:\n",
    " \n",
    "    input : an nx2 dataframe predicted, an nx2 dataframe actual\n",
    " \n",
    "    return : R^2 coefficient of the fit of the predicted values."
   ]
  },
  {
   "cell_type": "code",
   "execution_count": 7,
   "metadata": {
    "collapsed": true
   },
   "outputs": [],
   "source": [
    "def score (estimated_df, actual_df):\n",
    " RSS =  np.sum((actual_df['y'] - estimated_df['y'])**2)\n",
    " TSS =  np.sum((actual_df['y'] - actual_df['y'].mean())**2)\n",
    " return ((TSS - RSS) / TSS)"
   ]
  },
  {
   "cell_type": "code",
   "execution_count": null,
   "metadata": {
    "collapsed": false
   },
   "outputs": [],
   "source": [
    "print 'lr score  = ' , score (estimated_test_using_lr , test)\n",
    "print 'knn score = ', score (estimated_test_using_knn , test)"
   ]
  },
  {
   "cell_type": "markdown",
   "metadata": {},
   "source": [
    "### Part (b): Compare with ``sklearn``\n",
    "\n",
    "- Load the contents of ``dataset_1_full.txt`` into a ``pandas`` dataframe, or ``numpy`` array. \n",
    "\n",
    "\n",
    "- Use your functions from Part (a) to split the data into training and testing sets (70-30). Evaluate how KNN and linear regression each perform on this dataset.\n",
    "\n",
    "\n",
    "- Use ``sklearn`` to split the data into training and testing sets (70-30). Use ``sklearn`` to evaluate how KNN and linear regression each perform on this dataset.\n",
    "\n",
    "\n",
    "- Use Python's ``time`` library to measure how well your implementations compare with that of ``sklearn``. What can you do (algorithmically or codewise) to make your implementation faster or more efficient?"
   ]
  },
  {
   "cell_type": "markdown",
   "metadata": {},
   "source": [
    "**Solution:**"
   ]
  },
  {
   "cell_type": "markdown",
   "metadata": {},
   "source": [
    "*** 1-b-1: Load the contents of dataset_1_full.txt into a pandas dataframe, or numpy array. ***"
   ]
  },
  {
   "cell_type": "code",
   "execution_count": 9,
   "metadata": {
    "collapsed": false
   },
   "outputs": [
    {
     "name": "stdout",
     "output_type": "stream",
     "text": [
      "\n"
     ]
    }
   ],
   "source": [
    "data  = pd.read_csv('./dataset/dataset_1_full.txt')"
   ]
  },
  {
   "cell_type": "markdown",
   "metadata": {},
   "source": [
    "*** 1-b-2: Use your functions from Part (a) to split the data into training and testing sets (70-30). Evaluate how KNN and linear regression each perform on this dataset. ***"
   ]
  },
  {
   "cell_type": "code",
   "execution_count": 10,
   "metadata": {
    "collapsed": false
   },
   "outputs": [
    {
     "name": "stderr",
     "output_type": "stream",
     "text": [
      "/Users/mac/anaconda/lib/python2.7/site-packages/ipykernel/__main__.py:9: SettingWithCopyWarning: \n",
      "A value is trying to be set on a copy of a slice from a DataFrame.\n",
      "Try using .loc[row_indexer,col_indexer] = value instead\n",
      "\n",
      "See the caveats in the documentation: http://pandas.pydata.org/pandas-docs/stable/indexing.html#indexing-view-versus-copy\n",
      "/Users/mac/anaconda/lib/python2.7/site-packages/pandas/core/indexing.py:549: SettingWithCopyWarning: \n",
      "A value is trying to be set on a copy of a slice from a DataFrame.\n",
      "Try using .loc[row_indexer,col_indexer] = value instead\n",
      "\n",
      "See the caveats in the documentation: http://pandas.pydata.org/pandas-docs/stable/indexing.html#indexing-view-versus-copy\n",
      "  self.obj[item_labels[indexer[info_axis]]] = value\n",
      "/Users/mac/anaconda/lib/python2.7/site-packages/ipykernel/__main__.py:12: FutureWarning: sort(columns=....) is deprecated, use sort_values(by=.....)\n",
      "/Users/mac/anaconda/lib/python2.7/site-packages/pandas/core/frame.py:3225: SettingWithCopyWarning: \n",
      "A value is trying to be set on a copy of a slice from a DataFrame\n",
      "\n",
      "See the caveats in the documentation: http://pandas.pydata.org/pandas-docs/stable/indexing.html#indexing-view-versus-copy\n",
      "  na_position=na_position)\n"
     ]
    },
    {
     "name": "stdout",
     "output_type": "stream",
     "text": [
      "lr score  =  0.367352038167\n",
      "knn score =  0.241616860131\n"
     ]
    }
   ],
   "source": [
    "\n",
    "train, test = split(data,0.7)\n",
    "test_series = pd.DataFrame(test['x'])\n",
    "\n",
    "estimated_test_using_knn = knn_predict(train, test_series,3)\n",
    "\n",
    "beta0,beta1 =  linear_reg_fit (train)\n",
    "\n",
    "estimated_test_using_lr = linear_reg_predict (test_series,beta0,beta1)\n",
    "\n",
    "print 'lr score  = ' , score (estimated_test_using_lr , test)\n",
    "print 'knn score = ', score (estimated_test_using_knn , test)"
   ]
  },
  {
   "cell_type": "markdown",
   "metadata": {},
   "source": [
    "*** 1-b-3: Use sklearn to split the data into training and testing sets (70-30). Use sklearn to evaluate how KNN and linear regression each perform on this dataset. ***"
   ]
  },
  {
   "cell_type": "code",
   "execution_count": 13,
   "metadata": {
    "collapsed": false
   },
   "outputs": [],
   "source": [
    "train, test = split(data,0.7)\n",
    "test_series = pd.DataFrame(test['x'])\n",
    "\n",
    "x_train = train.loc[:,'x'].values.reshape(len(train), 1)\n",
    "y_train = train.loc[:,'y'].values\n",
    "\n",
    "x_test  = test.loc[:,'x'].values.reshape(len(test),1)\n",
    "y_test = test.loc[:,'y'].values"
   ]
  },
  {
   "cell_type": "code",
   "execution_count": 14,
   "metadata": {
    "collapsed": false
   },
   "outputs": [
    {
     "name": "stdout",
     "output_type": "stream",
     "text": [
      "test\n",
      "(340, 1) (340,)\n",
      "r =  0.353632594815\n",
      "[ 3.13945223  2.6766745   3.36954802  2.11621804  3.80315169  3.00616431\n",
      "  0.94543767  3.57346465  2.03363698  3.38566146  0.63801375  2.7005446\n",
      "  3.54695181  1.60850512  4.81352356  3.05908808  3.19201848  3.34781951\n",
      "  3.19365717  1.31921183  3.00616431  3.38597792  4.19673466  3.8769114\n",
      "  3.05908808  2.84333095  2.48758974  2.32659676  1.21596351  2.66988982\n",
      "  2.31786607  2.53324506  2.86031501  1.13452287  3.66056922  0.37770584\n",
      "  3.86737459  2.39236454  2.52177469  3.80315169  1.21596351  3.08215038\n",
      "  2.6766745   3.80315169  2.72214147  2.68862207  3.66056922  2.66150448\n",
      "  2.97325616  1.25660661 -0.65948838  3.00616431  3.80560451  1.66842227\n",
      "  3.57346465  1.02824552 -0.01343445  4.24641973  2.14157357  3.18865571\n",
      "  3.09397949  2.65866694  3.67745118  2.66150448  2.39236454  1.28447791\n",
      "  3.1316636   3.29497005  3.80315169  3.62756252  0.85974127  1.70355688\n",
      "  0.23515375  2.8092628   3.53805124  4.65836899  1.40622441  2.98947958\n",
      "  1.84568835  3.18865571  2.5165259   3.00616431  1.42443633  2.31786607\n",
      "  1.96762165  1.14208381  1.02824552  2.68862207  2.68862207  2.68862207\n",
      "  3.41198105  3.8769114   4.85407325  2.86294468  2.41739088  2.48758974\n",
      "  1.31921183  3.00616431  1.4758726   2.69372076  2.18937441  3.85279041\n",
      "  2.00285646  2.92728271  3.83345384  3.97088037  2.81563976  1.47494521\n",
      "  0.94543767  3.38597792  2.65866694  1.66842227  3.60416379  4.81352356\n",
      "  2.8404672   1.31921183  3.95004237  2.97308315  2.2520168   2.34144784\n",
      "  0.84775799  3.24983079  2.63376497  0.34619359  1.61905439  0.34619359\n",
      "  3.66056922  3.48520474  3.8769114   3.08770602  3.41198105  2.07779331\n",
      "  1.65595923  1.16792369  2.8404672   1.19473401  1.52158765  3.54519946\n",
      "  3.13919004  2.7005446   2.66150448 -0.40230603  3.00616431  3.29497005\n",
      "  2.67606036  1.90393028  2.00285646  3.00616431  3.09981101  3.68589044\n",
      "  3.01386536  2.68862207  1.13668927  1.4758726   1.65691456  3.63564813\n",
      "  1.46535867  2.876909    2.92728271  3.4814209 ]\n"
     ]
    }
   ],
   "source": [
    "# import KNN regressor model\n",
    "from sklearn.neighbors import KNeighborsRegressor as KNN\n",
    "# creates KNN model for k-nearest neighbor comparison\n",
    "neighbours = KNN(n_neighbors = 3 )\n",
    "# fit() sets the parameters of the model ( with training data )\n",
    "print 'test'\n",
    "print x_train.shape , y_train.shape\n",
    "\n",
    "neighbours.fit(x_train,y_train )\n",
    "\n",
    "# predict test response values given test predictor\n",
    "predicted_y = neighbours.predict(x_test)\n",
    "# calculates R^2 of predicted response vs test response\n",
    "r = neighbours.score (x_test,y_test)\n",
    "\n",
    "print 'r = ' ,r\n",
    "print predicted_y"
   ]
  },
  {
   "cell_type": "code",
   "execution_count": null,
   "metadata": {
    "collapsed": true
   },
   "outputs": [],
   "source": []
  },
  {
   "cell_type": "code",
   "execution_count": null,
   "metadata": {
    "collapsed": true
   },
   "outputs": [],
   "source": []
  },
  {
   "cell_type": "code",
   "execution_count": null,
   "metadata": {
    "collapsed": true
   },
   "outputs": [],
   "source": []
  },
  {
   "cell_type": "markdown",
   "metadata": {},
   "source": [
    "## Problem 2: Handling Missing Data\n",
    "\n",
    "In this problem, we will be handling the problem of datasets with missing values. Clearly, we cannot simply remove entire rows or columns that contain missing values. In this problem, we explore two different ways to fill in missing values.\n",
    "\n",
    "The datasets required for this problem is in the ``dataset`` directory. Each file in the ``dataset`` directory contains a one-dimensional data set, with the first column containing the dependent variable Y, and the second column containing the independent variable X. \n",
    "\n",
    "In this problem, you **may not** use ``sklearn`` or build-in ``pandas`` functions to **directly fill in missing values**. Usage of these libraries/pakcages for related tasks is fine."
   ]
  },
  {
   "cell_type": "markdown",
   "metadata": {},
   "source": [
    "### Part (a): Model Based Data Imputation\n",
    "\n",
    "- Describe in detail how predictive models for data (like KNN and simple linear regression) can be used to fill in missing values in a data set.\n",
    "\n",
    "\n",
    "- Implement your scheme. That is, write code (preferably a function ``fill`` or two functions ``fill_knn``, ``fill_lin_reg``), which takes an ``n x 2`` dataframe or array with values missing in the 2nd column and fills in these values using KNN and linear regression. \n",
    "\n",
    "\n",
    "- You need to, also, write code to evaluate the quality of the values you've filled in."
   ]
  },
  {
   "cell_type": "markdown",
   "metadata": {},
   "source": [
    "**Solution:**"
   ]
  },
  {
   "cell_type": "code",
   "execution_count": 1,
   "metadata": {
    "collapsed": false
   },
   "outputs": [
    {
     "name": "stdout",
     "output_type": "stream",
     "text": [
      "[  1.   2.   3.   4.   5.   6.   7.   8.   9.  10.  11.  12.  13.  14.  15.\n",
      "  16.  17.  18.  19.  20.]\n",
      "[  1.   2.   3.  nan   5.   6.   7.   8.   9.  10.  nan  12.  13.  14.  15.\n",
      "  16.  17.  18.  19.  20.]\n",
      "missing_array =  1.0\n",
      "missing_array =  2.0\n",
      "missing_array =  3.0\n",
      "missing_array =  nan\n",
      "missing_array =  5.0\n",
      "missing_array =  6.0\n",
      "missing_array =  7.0\n",
      "missing_array =  8.0\n",
      "missing_array =  9.0\n",
      "missing_array =  10.0\n",
      "missing_array =  nan\n",
      "missing_array =  12.0\n",
      "missing_array =  13.0\n",
      "missing_array =  14.0\n",
      "missing_array =  15.0\n",
      "missing_array =  16.0\n",
      "missing_array =  17.0\n",
      "missing_array =  18.0\n",
      "missing_array =  19.0\n",
      "missing_array =  20.0\n",
      "[  1.   2.   3.  nan   5.   6.   7.   8.   9.  10.  nan  12.  13.  14.  15.\n",
      "  16.  17.  18.  19.  20.]\n"
     ]
    }
   ],
   "source": [
    "import numpy as np\n",
    "missing_array = np.linspace(1,20,20)\n",
    "print missing_array\n",
    "missing_array[3]= np.nan\n",
    "missing_array[10]=np.nan\n",
    "\n",
    "print missing_array\n",
    "#def fill_knn (missing_array):\n",
    "for i , N in enumerate(missing_array):\n",
    " print 'missing_array = ',missing_array[i] \n",
    " if N == np.nan:\n",
    "    print 'i = ' , i\n",
    "    print 'missing_array = ',N    \n",
    "    if i == 0:  # first item in the array is missing\n",
    "                j = 1\n",
    "                k = 2\n",
    "    elif i == len(missing_array):\n",
    "                j= len(missing_array) -1\n",
    "                k= len(missing_array) -2\n",
    "    else:\n",
    "                j= i-1\n",
    "                k= i+1\n",
    "        \n",
    "    missing_array[i] = (missing_array[j]+missing_array[k]) /2\n",
    "print missing_array            "
   ]
  },
  {
   "cell_type": "markdown",
   "metadata": {},
   "source": [
    "### Part (b): Which Model is Better?\n",
    "\n",
    "- For datasets ``dataset_1_missing.txt`` to ``dataset_6_missing.txt``, compare the result of filling in the missing values using KNN and linear regression, using both the R^2 coefficient as well as data visualization. \n",
    "\n",
    "\n",
    "- Use your analysis to form conjectures regarding the conditions under which KNN performs better than linear regression, under which linear regression performs better than KNN and under which both perform equally (well or poorly). Explain in detail exactly what might cause each model to fail or perform well. \n",
    "\n",
    "\n",
    "\n",
    "- Using ``dataset_1_missing.txt``, explain the impact of the choice of $k$ on the performance of KNN. \n",
    "\n",
    "\n",
    "Use numerical analysis and data visualization to support every part of your argument."
   ]
  },
  {
   "cell_type": "markdown",
   "metadata": {},
   "source": [
    "**Solution:**"
   ]
  },
  {
   "cell_type": "markdown",
   "metadata": {},
   "source": [
    "---"
   ]
  },
  {
   "cell_type": "markdown",
   "metadata": {},
   "source": [
    "## Problem 3: Is the Best (Linear Model) Good Enough?\n",
    "\n",
    "In this problem, we will specifically look at conditions under which linear regression excels or fails.\n",
    "\n",
    "The datasets required for this problem is in the ``dataset`` directory. Each file in the ``dataset`` directory contains a one-dimensional data set, with the first column containing the dependent variable Y, and the second column containing the independent variable X. "
   ]
  },
  {
   "cell_type": "markdown",
   "metadata": {},
   "source": [
    "### Part (a): Introduction to Residual Plots\n",
    "\n",
    "- Read ``dataset_1_full.txt``. Visualize the dataset and make some initial observations.\n",
    "\n",
    "\n",
    "- For this data set, what can you say about the following linear fits: \n",
    "\n",
    "    1. slope = 0.4, intercept = 0.2\n",
    "    2. slope = 0.4, intercept = 4\n",
    "    3. linear regression model\n",
    "\n",
    "\n",
    "- In each case, visualize the fit, compute the residuals, and make a residual plot of predicted values against residuals as well as a residual histogram. What do these plots reveal? \n",
    "\n",
    "\n",
    "- Calculate the R^2 coefficient for all three fits. What do the erors reveal? How do they compare to the residual plots?"
   ]
  },
  {
   "cell_type": "markdown",
   "metadata": {},
   "source": [
    "**Solution:**"
   ]
  },
  {
   "cell_type": "markdown",
   "metadata": {},
   "source": [
    "### Part (b): What do Residual Plots Reveal?\n",
    "\n",
    "- Read datasets ``dataset_2_full.txt`` through ``dataset_6_full.txt``. In each case, visualize the fit of the linear regression model, compute the residuals, and make a residual plot of predicted values against residuals as well as a residual histogram. What do these plots reveal about the fit of the model? \n",
    "\n",
    "\n",
    "- Calculate the R^2 coefficient each fit. What do the erors reveal? How do they compare to the residual plots?\n",
    "\n",
    "\n",
    "- Based on your analysis, form conjectures regarding the precise relationship between the residual plots and the fit of the linear regression model. Conjecture on the precise conditions under which linear regression model is an appropriate model for a given dataset."
   ]
  },
  {
   "cell_type": "markdown",
   "metadata": {},
   "source": [
    "**Solution:**"
   ]
  },
  {
   "cell_type": "markdown",
   "metadata": {},
   "source": [
    "---"
   ]
  },
  {
   "cell_type": "markdown",
   "metadata": {},
   "source": [
    "## Challenge Problem: Combining Random Variables\n",
    "\n",
    "This problem, we explore the distirbution of random variables that result from combining other random variables."
   ]
  },
  {
   "cell_type": "markdown",
   "metadata": {},
   "source": [
    "### Part (a): Adding Two Uniformly Distributed Variables\n",
    "\n",
    "Consider the independent random variables $X\\sim U(0, 1)$ and $Y\\sim U(0, 1)$. Let $Z$ be the random variable $Z = X + Y$. \n",
    "\n",
    "What is the distribution of $Z$ (give the pdf for Z)? You should fully explain and support your conlusion. \n",
    "\n",
    "**Hint:** your solution can be a combination of experimentation, empirical evidence and/or algebra"
   ]
  },
  {
   "cell_type": "markdown",
   "metadata": {},
   "source": [
    "**Solution:**"
   ]
  },
  {
   "cell_type": "markdown",
   "metadata": {},
   "source": [
    "### Part (b): Adding Multiple Uniformly Distributed Variables\n",
    "\n",
    "Consider three independent random variables $X_1, X_2, X_3 \\sim U(0, 1)$. Let $Z$ be the random variable $Z = X_1 + X_2 + X_3$. \n",
    "\n",
    "What is the distribution of $Z$? What if you add 10 or 12 independent (standard) uniformly distributed variables? Conjecture on the distribution of \n",
    "$$\n",
    "Z = \\lim_{n\\to \\infty} \\sum_{i=1}^n X_i\n",
    "$$\n",
    "where $\\left\\{X_i \\right\\}$ are independent (standard) uniformly distributed variables.\n",
    "\n",
    "**Hint:** your solution can be a combination of experimentation, empirical evidence and/or algebra"
   ]
  },
  {
   "cell_type": "markdown",
   "metadata": {},
   "source": [
    "**Solution:**"
   ]
  },
  {
   "cell_type": "markdown",
   "metadata": {},
   "source": [
    "### Part (c): Combining Normally Distributed Variables\n",
    "\n",
    "Consider the independent random variables $X\\sim \\mathcal{N}(0, 1)$ and $Y\\sim \\mathcal{N}(0, 1)$. Let $Z$ be the random variable $Z = X + Y$. \n",
    "\n",
    "What is the distribution of $Z$ (give the pdf for Z)? You should fully explain and support your conlusion. \n",
    "\n",
    "**Hint:** use properties of expected value and some experimentation."
   ]
  },
  {
   "cell_type": "markdown",
   "metadata": {},
   "source": [
    "**Solution:**"
   ]
  },
  {
   "cell_type": "markdown",
   "metadata": {},
   "source": [
    "### Part (d): Product of Normally Distributed Variables\n",
    "\n",
    "Is the product of two normally distributed variables a normally distributed variable? You should fully explain and support your conlusion. "
   ]
  },
  {
   "cell_type": "markdown",
   "metadata": {},
   "source": [
    "**Solution:**"
   ]
  },
  {
   "cell_type": "markdown",
   "metadata": {},
   "source": [
    "---"
   ]
  }
 ],
 "metadata": {
  "anaconda-cloud": {},
  "kernelspec": {
   "display_name": "Python [Root]",
   "language": "python",
   "name": "Python [Root]"
  },
  "language_info": {
   "codemirror_mode": {
    "name": "ipython",
    "version": 2
   },
   "file_extension": ".py",
   "mimetype": "text/x-python",
   "name": "python",
   "nbconvert_exporter": "python",
   "pygments_lexer": "ipython2",
   "version": "2.7.12"
  }
 },
 "nbformat": 4,
 "nbformat_minor": 0
}

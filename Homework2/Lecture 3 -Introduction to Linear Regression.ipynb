{
 "cells": [
  {
   "cell_type": "markdown",
   "metadata": {
    "nbpresent": {
     "id": "e4076734-b645-49fb-b5ab-c1dccc82e34f"
    },
    "slideshow": {
     "slide_type": "slide"
    }
   },
   "source": [
    "# Lecture 3. Introduction to Linear Regression\n",
    "--- \n",
    "\n",
    "### CS 109A/AC 209A/STAT 121A Data Science:\n",
    "### Harvard University\n",
    "Fall 2016 <br>\n",
    "Instructors:  P. Protopapas, K. Rader, W. Pan\n",
    "\n",
    "\n"
   ]
  },
  {
   "cell_type": "markdown",
   "metadata": {
    "nbpresent": {
     "id": "2afed7fb-9073-4ce7-8c21-c929a4217ab7"
    },
    "slideshow": {
     "slide_type": "slide"
    }
   },
   "source": [
    "## Announcements \n",
    "\n",
    "- HW due dates changed. **All** homework due times shifted to Wednesday 11:59pm\n",
    "- Only one submit allowed\n",
    "- We are not approving anymore enrollments\n",
    "- Projects: AC209 students can only work with each other and we'll create group for them on Canvas\n",
    "- Projects Milestone 1 submit separately via google form (due 9/21) \n",
    "- We will release project topics soon \n",
    "- HW grading standards: correctness, interpretation, presentation\n"
   ]
  },
  {
   "cell_type": "markdown",
   "metadata": {
    "nbpresent": {
     "id": "98b6d16e-2694-43d8-85d9-1810f5c63cd0"
    },
    "slideshow": {
     "slide_type": "slide"
    }
   },
   "source": [
    "# Quiz Time "
   ]
  },
  {
   "cell_type": "markdown",
   "metadata": {
    "nbpresent": {
     "id": "5da56e1e-40fc-4c73-85e4-6c0b50832e1d"
    },
    "slideshow": {
     "slide_type": "slide"
    }
   },
   "source": [
    "<br>\n",
    "# Outline \n",
    "\n",
    "- Why linear regression, history, motivation, definitions    \n",
    "- Choices of lost functions \n",
    "- Estimate coefficients and how well are estimated \n",
    "- Goodness of fit, RSE, p-value, R^2 \n",
    "- Residuals\n",
    "    \n"
   ]
  },
  {
   "cell_type": "markdown",
   "metadata": {
    "nbpresent": {
     "id": "ed14c107-1832-4f34-b3b4-56d047a2d857"
    },
    "slideshow": {
     "slide_type": "slide"
    }
   },
   "source": [
    "## History \n",
    "\n",
    "- Tobias Mayer (17 February 1723 – 20 February 1762) was a German astronomer famous for his studies of the Moon.\n",
    "<img src=\"220px-Tobias_Mayer.jpg\">\n",
    "\n",
    "- Euler memoir of the problem of the inequalities in the movement of Saturn and of Jupiter revealed the story of two different approaches.\n",
    "\n"
   ]
  },
  {
   "cell_type": "markdown",
   "metadata": {
    "nbpresent": {
     "id": "753ef902-c4db-45b5-82fe-1bba1ce06e3d"
    },
    "slideshow": {
     "slide_type": "slide"
    }
   },
   "source": [
    "<img src=\"Stigler.png\">"
   ]
  },
  {
   "cell_type": "markdown",
   "metadata": {
    "nbpresent": {
     "id": "295ec086-fc16-447c-9ab0-2e3d28644ff3"
    },
    "slideshow": {
     "slide_type": "slide"
    }
   },
   "source": [
    "<br>\n",
    "## Why Linear regression \n",
    "\n",
    "- Simple and sligtly boring method \n",
    "- Has been around for long time as we saw above\n",
    "- Supervised learning \n",
    "- Still used in many areas and it is the foundation of many other more sophisticated models\n"
   ]
  },
  {
   "cell_type": "markdown",
   "metadata": {
    "nbpresent": {
     "id": "1b36db97-3349-4f61-a252-94f3224b9ebe"
    },
    "slideshow": {
     "slide_type": "slide"
    }
   },
   "source": [
    "<br>\n",
    "- Helps us understand \n",
    "    - How to justify the relation between the dependend and independend variables?\n",
    "    - How strong that relation is?\n",
    "    - Which of the independend variables (X) are significant?\n",
    "    - How we understand the quality of our prediction?\n",
    "    - What is the relationship between X and Y. Is it linear or quadratic etc?\n",
    "    - If there is interaction amongst the independend variables ($x_1$, $x_2$, $\\ldots$)"
   ]
  },
  {
   "cell_type": "markdown",
   "metadata": {
    "nbpresent": {
     "id": "c9b47249-96d9-4f34-8c2c-d48469422599"
    },
    "slideshow": {
     "slide_type": "slide"
    }
   },
   "source": [
    "<br>\n",
    "## Simple Linear Regression\n",
    "- Straightforward simple linear approach for predicting a quantitative response Y on the basis of a single predictor variable X. \n",
    "- It assumes that there is approximately a linear relationship between X and Y \n",
    "\n",
    "$$ Y \\approx \\beta_0 + \\beta_1 \\, X $$ \n",
    "\n",
    "Why $\\approx$? \n",
    "\n",
    "Remember: \n",
    "$$ Y = f(X) + \\epsilon $$\n",
    "\n",
    "So $\\approx$ means $f(X)$ is approximated to be this simple linear relationship \n",
    "\n",
    " $$ f(X) \\approx \\beta_0 + \\beta_1 X $$ \n",
    "\n",
    "and \n",
    "$\\approx$ takes into account $\\epsilon$ \n",
    "\n",
    "Note: Regressing Y on X (or Y onto X).\n",
    "\n",
    "\n",
    "\n",
    "\n"
   ]
  },
  {
   "cell_type": "markdown",
   "metadata": {
    "nbpresent": {
     "id": "3d980a2a-de20-4b4b-9019-1dcc1cd9d159"
    },
    "slideshow": {
     "slide_type": "slide"
    }
   },
   "source": [
    "$\\beta_0$ and $\\beta_1$ are:\n",
    "- two unknown constants (intercept and slope) or the model coefficients \n",
    "- something we need to estimate <br>\n",
    "- how can we estimate them?"
   ]
  },
  {
   "cell_type": "markdown",
   "metadata": {
    "nbpresent": {
     "id": "43f12569-424e-4cd2-9458-79b33aee35e0"
    },
    "slideshow": {
     "slide_type": "slide"
    }
   },
   "source": [
    "We can use Mayer's approach:\n",
    "    Use all the data we have to do so\n",
    "    \n",
    "Say we have X=[1,2] and Y=[0.6, 0.9]\n",
    "\n",
    "Then we can two equations and find out $\\beta_0$ and $\\beta_1$ as \n",
    "$$0.6 = \\beta_0 + \\beta_1$$ \n",
    "$$0.9 = \\beta_0 + 2 \\beta_1$$ \n",
    "\n",
    "\n",
    "\n"
   ]
  },
  {
   "cell_type": "markdown",
   "metadata": {
    "nbpresent": {
     "id": "4758564c-1918-4831-8dc8-7387595e01f7"
    },
    "slideshow": {
     "slide_type": "slide"
    }
   },
   "source": [
    "$\\beta_1 = 0.3$  and $\\beta_0 = 0.3$ \n",
    "\n",
    "But what if we have more data? Say X= [1,2,3] and Y = [0.6, 0.9, 1.6] \n",
    "Then \n",
    "$$0.6 = \\beta_0 + \\beta_1$$ \n",
    "$$0.9 = \\beta_0 + 2 \\beta_1$$ \n",
    "$$1.6 = \\beta_0 + 3 \\beta_1 $$ \n",
    "\n",
    "Too many equations and not consistent ($\\beta_1 = 0.3$  and $\\beta_0 = 0.3$  does not work for the last equation) \n",
    "\n",
    "What to do?\n",
    "\n",
    "If the universe was perfect (no noise) and our measurements were perfect then the three equations should be consistent and we would only need two measurements.  X= [1,2,3] and Y = [0.6, 0.9, ** 1.2 **]  or   X= [1,2,3] and Y=[0.5, 1.0, 1.5] \n"
   ]
  },
  {
   "cell_type": "markdown",
   "metadata": {
    "nbpresent": {
     "id": "cf0b6061-4029-47b8-826b-1db5cdcb0cc4"
    },
    "slideshow": {
     "slide_type": "slide"
    }
   },
   "source": [
    "Two things are respnsible for this inconsistency \n",
    "\n",
    "1. Noise in the data or stochastic behavior in the response function \n",
    "2. The true model is not exactly linear \n",
    "\n",
    "So lets  use all the data to best estimate the coefficients hoping that these errors will cancel out !! \n",
    "\n",
    "Think like a statistician not as a mathematician. Can beat errors by adding more measurements (we will see more below) "
   ]
  },
  {
   "cell_type": "markdown",
   "metadata": {
    "nbpresent": {
     "id": "52e9a7fd-f473-4b98-8a37-107bb147b1c3"
    },
    "slideshow": {
     "slide_type": "slide"
    }
   },
   "source": [
    "We use our data aka training data to produce estimates for $\\hat{\\beta}_0$  and $\\hat{\\beta}_1$ \n",
    "\n",
    "and predict values of $y$ for any $x$ \n",
    "\n",
    "$$ \\hat{y} = \\hat{\\beta}_0 + \\hat{\\beta}_1 x$$ \n",
    "\n",
    "Note: We use ˆ , to denote the estimated value for an unknown parameter, and the predicted value of the response "
   ]
  },
  {
   "cell_type": "markdown",
   "metadata": {
    "nbpresent": {
     "id": "d39c42cb-b8cf-4234-94d8-be470aec57c7"
    },
    "slideshow": {
     "slide_type": "slide"
    }
   },
   "source": [
    "### Estimating the Coefficients \n",
    "\n",
    "We use data to estimate the coefficients. For $n$ observations, \n",
    "\n",
    "$$(x_1, y_1), (x_2, y_2),..., (x_n, y_n)$$\n",
    "\n",
    "Goal is to obtain coefficient estimates $\\beta_0$ and $\\beta_1$ such that the linear model fits the available data **well** \n",
    "\n",
    "Now we need to address what **well** means \n",
    "\n"
   ]
  },
  {
   "cell_type": "markdown",
   "metadata": {
    "nbpresent": {
     "id": "7cada888-1fc7-4087-9fea-18fbe8b27641"
    },
    "slideshow": {
     "slide_type": "slide"
    }
   },
   "source": [
    "For sure $e_i = y_i −\\hat{y}_i$, the residuals, represents the difference between the measurement and the estimate. LETS USE THIS \n",
    "\n",
    "- How? \n",
    "- And how we combine all residuals (e) for all measurements?\n",
    "\n"
   ]
  },
  {
   "cell_type": "markdown",
   "metadata": {
    "nbpresent": {
     "id": "6867f26e-643c-489b-81d8-d828bb3d5f30"
    },
    "slideshow": {
     "slide_type": "slide"
    }
   },
   "source": [
    "__Max absolute deviation__ Count only the biggest “error”\n",
    "$$ L(\\beta_0, \\beta_1)=\\max_i  (y_i-\\hat{y}_i) $$\n",
    "\n",
    "__Sum of absolute deviations__: Add up (or take the average)  all the absolute values of the “errors”\n",
    " $$ L(\\beta_0, \\beta_1)=\\sum_i | y_i - \\hat{y_i} | $$\n",
    " \n",
    "__Sum of squared errors__: Add up (or take the average) of the squares of the “errors”\n",
    " $$ L(\\beta_0, \\beta_1)= \\sum_i ( y_i - \\hat{y_i} )^2 $$\n",
    " \n",
    "$L(\\beta_0, \\beta_1)$ is called the **lost** (or cost) function \n",
    " "
   ]
  },
  {
   "cell_type": "markdown",
   "metadata": {
    "nbpresent": {
     "id": "7a24cd6d-0f2b-4c8a-a325-2bc517417e18"
    },
    "slideshow": {
     "slide_type": "slide"
    }
   },
   "source": [
    "Our goal is to find $(\\beta_0, \\beta_1)$ such that the lost, $L(\\beta_0, \\beta_1)$, is minimal\n",
    "\n",
    "$$  (\\hat{\\beta_0}, \\hat{\\beta_1}) = arg \\! \\min_{\\beta_0, \\beta_1} \\,\\, L(\\beta_0, \\beta_1)$$\n",
    "\n",
    "\n",
    "Finding the optimal values $\\hat{\\beta_0}, \\hat{\\beta_1}$ is called fitting the linear model."
   ]
  },
  {
   "cell_type": "markdown",
   "metadata": {
    "nbpresent": {
     "id": "82123f6f-efb6-42fb-8352-7bafefb387be"
    },
    "slideshow": {
     "slide_type": "slide"
    }
   },
   "source": [
    "However, by far the most common approach involves minimizing least squares (sum of the square errors)\n",
    "\n",
    "$$RSS   = \\sum_i \\,e_i^2= \\sum_i ( y_i - \\hat{y_i} )^2$$\n",
    "\n",
    "and it is easy to prove (my grandma can do this) \n",
    "\n",
    "$$\\hat{\\beta_1} = \\frac{\\sum_i(x_i-\\bar{x})(y_i-\\bar{y})}{\\sum_i (x_i-\\bar{x})^2 }$$\n",
    "\n",
    "$$ \\hat{\\beta_0} = \\bar{y} - \\hat{\\beta_1} \\bar{x}$$\n",
    "\n",
    "where $\\bar{y} = \\frac{1}{n} \\sum_i y_i$ and  $\\bar{x} = \\frac{1}{n} \\sum_i x_i$ are the sample means.\n",
    "\n"
   ]
  },
  {
   "cell_type": "markdown",
   "metadata": {
    "nbpresent": {
     "id": "a525c1cd-0e69-41c4-8bb0-da9783325b49"
    },
    "slideshow": {
     "slide_type": "slide"
    }
   },
   "source": [
    "Alternatively, in case that L can not be differentiated, as in the case of Sum of absolute deviations, we find $\\hat{\\beta_0}, \\hat{\\beta_1}$ with numerical methods (more on this later). \n",
    "\n"
   ]
  },
  {
   "cell_type": "markdown",
   "metadata": {
    "nbpresent": {
     "id": "f26b9b9c-120c-43c5-b60c-bc4353fab82c"
    },
    "slideshow": {
     "slide_type": "slide"
    }
   },
   "source": [
    "## Why sum of the squared errors? \n",
    "\n",
    "Lets revisit the error term $\\epsilon$. So far we stated that we assume the model is linear but we never discussed the nature of $\\epsilon$.\n",
    "\n",
    "Suppose that $\\epsilon \\sim N(0,\\sigma_e) $ then what would be the probability distribution for Y?"
   ]
  },
  {
   "cell_type": "markdown",
   "metadata": {
    "nbpresent": {
     "id": "1ac78c0d-e4c2-4579-9e39-8b50feb2e29c"
    },
    "slideshow": {
     "slide_type": "slide"
    }
   },
   "source": [
    "$$ Y = \\beta_0 + \\beta_1 X + \\epsilon $$\n",
    "\n",
    "Since $\\beta_0, \\beta_1$ and X have no stochasticity then \n",
    "\n",
    "$$ Y \\sim N( \\beta_0 + \\beta_1 X , \\sigma_e) $$\n",
    "\n",
    "And the likelihood (probability that the data came from this model) of measuring $y_i$ is given by: \n",
    "\n",
    "$$ L(y_i)= \\frac{1}{\\sqrt{2 \\pi \\sigma_e^2} } \\exp{ \\left\\{- \\frac{( y_i -(\\beta_0 + \\beta_1 X) )^2} { 2}\\right\\}}$$\n",
    "\n",
    "And for all measurements? "
   ]
  },
  {
   "cell_type": "markdown",
   "metadata": {
    "nbpresent": {
     "id": "5fdeed7c-9820-4e23-84f0-e7c6d373ea17"
    },
    "slideshow": {
     "slide_type": "slide"
    }
   },
   "source": [
    "$$ L(Y) = \\prod_i L(y_i) $$ \n",
    "\n",
    "One can take the log-likelihood of this and can show that \n",
    "\n",
    "$$ {\\cal L} = -\\frac{1}{2} \\sum_i ( y_i -(\\beta_0 + \\beta_1 X) )^2 $$  \n",
    "\n",
    "Therefore finding the minimum of sum of squared errors is the same (for normally uncorrelated measurements) to the Maximum Likelihood Estimation (** MLE**) "
   ]
  },
  {
   "cell_type": "markdown",
   "metadata": {
    "nbpresent": {
     "id": "08fc3791-0832-4561-84a4-b6682cf4712a"
    },
    "slideshow": {
     "slide_type": "slide"
    }
   },
   "source": [
    "<br>\n",
    "### How well did we do finding the coefficients?\n",
    "\n",
    "Remember there are two reasons for not be \"exact\" or perfect estimate \n",
    "1. Noise in the data \n",
    "2. Actual model is not linear \n",
    "\n",
    "For now lets assume that the underline model is actual linear. This is called the population regression line.\n",
    "\n",
    "How well can we estimate the coefficients?\n",
    "\n"
   ]
  },
  {
   "cell_type": "markdown",
   "metadata": {
    "nbpresent": {
     "id": "fadff9f1-bdb5-4eef-93a3-b1ca531ee5c0"
    },
    "slideshow": {
     "slide_type": "slide"
    }
   },
   "source": [
    "We wonder how close $\\hat{\\beta_0}$ and $\\hat{\\beta_1}$ are to the $\\beta_0$ and $\\beta_1$\n",
    "\n",
    "Simple example to demonstrate this.\n",
    "Generate 100 points from equation \n",
    "\n",
    "$$ Y = 2.2+3.0\\, X + \\epsilon $$\n",
    "\n",
    "Estimate the coefficients and compare to 2.2 and 3.0. Do you think they will be the same? \n",
    "If we generate a new 100 points do you expect $\\hat{\\beta_0}$ and $\\hat{\\beta_1}$ to be the same? \n"
   ]
  },
  {
   "cell_type": "code",
   "execution_count": 2,
   "metadata": {
    "collapsed": true,
    "nbpresent": {
     "id": "e54f7262-36d6-4429-a436-3b81cf782024"
    },
    "slideshow": {
     "slide_type": "skip"
    }
   },
   "outputs": [],
   "source": [
    "import numpy as np \n",
    "import matplotlib.pyplot as plt\n",
    "%matplotlib inline\n",
    "from sklearn.linear_model import LinearRegression as Lin_Reg"
   ]
  },
  {
   "cell_type": "code",
   "execution_count": 3,
   "metadata": {
    "collapsed": true,
    "nbpresent": {
     "id": "a9749da2-e3cb-4d3d-af7d-8d4119f408c0"
    },
    "slideshow": {
     "slide_type": "slide"
    }
   },
   "outputs": [],
   "source": [
    "## GENERATE ANOTHER DATASET AND EXAMINE RESIDUALS \n",
    "def GenerateDataLinearFun(N=1000, beta0=2.2, beta1=3.0, sigma=10.0, Xmax=1.0):\n",
    "    epsilon=np.random.normal(0,sigma,N) # Random normally distributed points \n",
    "    X = np.linspace(0,Xmax, N)           \n",
    "    Y = beta0 + beta1 * X + epsilon \n",
    "    return X, Y \n",
    "\n",
    "\n",
    "def GenerateDataNotLinearFun(N=1000, beta0=2.2, beta1=3.0, sigma=1.0, Xmax=1.0, alpha=1):\n",
    "    epsilon=np.random.normal(0,sigma,N)  # Random normally distributed points \n",
    "    X = np.linspace(0,Xmax, N)           \n",
    "    Y = beta0 + beta1 * X + alpha* np.sin(6*X)+ epsilon \n",
    "    #Y =  beta0 + beta1 * X +4*beta1*(X>0.5) + epsilon \n",
    "    #Y =  beta0 + beta1 * X + alpha * X*X*X + epsilon\n",
    "    return X, Y \n",
    "\n",
    "def FitLinearModel(X,Y):\n",
    "    # Estimate the coefficients \n",
    "    beta1 =  np.sum((X-np.mean(X)) * (Y-np.mean(Y)))/np.sum( (X-np.mean(X))**2)\n",
    "    beta0 = np.mean(Y) - beta1*np.mean(X)  \n",
    "    return beta0, beta1\n",
    "\n",
    "def PredictLinearModel(X, beta0, beta1):\n",
    "    Y = beta0 + beta1 * X \n",
    "    return Y"
   ]
  },
  {
   "cell_type": "code",
   "execution_count": 4,
   "metadata": {
    "collapsed": false,
    "nbpresent": {
     "id": "da3adec3-6154-4cae-953e-58bb6a3abb75"
    },
    "slideshow": {
     "slide_type": "slide"
    }
   },
   "outputs": [
    {
     "name": "stdout",
     "output_type": "stream",
     "text": [
      "('estimated coefficients', 1.6327151216932165, 4.1224425076216455)\n"
     ]
    }
   ],
   "source": [
    "# Generate data \n",
    "\n",
    "X,Y = GenerateDataLinearFun(N=100, sigma=2.1)\n",
    "\n",
    "# Estimate the coefficients \n",
    "beta0_hat, beta1_hat =  FitLinearModel(X,Y)\n",
    "\n",
    "print(\"estimated coefficients\", beta0_hat, beta1_hat)\n",
    "\n",
    "# estimate y \n",
    "Y_hat  = PredictLinearModel(X,beta0_hat, beta1_hat)"
   ]
  },
  {
   "cell_type": "code",
   "execution_count": 5,
   "metadata": {
    "collapsed": false,
    "nbpresent": {
     "id": "e41aba68-06fd-431a-b538-9bea4030e71a"
    },
    "slideshow": {
     "slide_type": "slide"
    }
   },
   "outputs": [
    {
     "data": {
      "text/plain": [
       "<matplotlib.legend.Legend at 0x1100c1b50>"
      ]
     },
     "execution_count": 5,
     "metadata": {},
     "output_type": "execute_result"
    },
    {
     "data": {
      "image/png": "[encoded data removed]",
      "text/plain": [
       "<matplotlib.figure.Figure at 0x10dfb2bd0>"
      ]
     },
     "metadata": {},
     "output_type": "display_data"
    }
   ],
   "source": [
    "beta0 =  2.2\n",
    "beta1 = 3\n",
    "plt.figure(figsize=(20,10)) \n",
    "plt.plot(X,Y, 'r+', label='Data')\n",
    "plt.plot(X, Y_hat, label='Estimated Y')\n",
    "plt.plot(X, beta0 + beta1 * X, label='True Y' )\n",
    "\n",
    "plt.xlabel('X')\n",
    "plt.ylabel('Y')\n",
    "plt.legend(loc='best')"
   ]
  },
  {
   "cell_type": "markdown",
   "metadata": {
    "nbpresent": {
     "id": "dfacd721-74f6-4b8f-be09-6d062e560739"
    },
    "slideshow": {
     "slide_type": "slide"
    }
   },
   "source": [
    "How does this discrepancy depend on \n",
    "- Number of points?\n",
    "- Error in the data?\n",
    "- Other factors?\n",
    "\n",
    "Lets investigate. For now since we know the true $\\beta_0, \\beta_1$ we can just take the error on the coefficient and see how it changes as a function of this parametes. \n",
    "\n",
    "First lets do the $\\beta_1$ \n",
    "\n",
    "I will generate different samples sizes and check its value \n"
   ]
  },
  {
   "cell_type": "code",
   "execution_count": 17,
   "metadata": {
    "collapsed": false
   },
   "outputs": [
    {
     "data": {
      "text/plain": [
       "array([  5.00000000e+01,   1.24900000e+03,   2.44800000e+03,\n",
       "         3.64700000e+03,   4.84600000e+03,   6.04500000e+03,\n",
       "         7.24400000e+03,   8.44300000e+03,   9.64200000e+03,\n",
       "         1.08410000e+04,   1.20400000e+04,   1.32390000e+04,\n",
       "         1.44380000e+04,   1.56370000e+04,   1.68360000e+04,\n",
       "         1.80350000e+04,   1.92340000e+04,   2.04330000e+04,\n",
       "         2.16320000e+04,   2.28310000e+04,   2.40300000e+04,\n",
       "         2.52290000e+04,   2.64280000e+04,   2.76270000e+04,\n",
       "         2.88260000e+04,   3.00250000e+04,   3.12240000e+04,\n",
       "         3.24230000e+04,   3.36220000e+04,   3.48210000e+04,\n",
       "         3.60200000e+04,   3.72190000e+04,   3.84180000e+04,\n",
       "         3.96170000e+04,   4.08160000e+04,   4.20150000e+04,\n",
       "         4.32140000e+04,   4.44130000e+04,   4.56120000e+04,\n",
       "         4.68110000e+04,   4.80100000e+04,   4.92090000e+04,\n",
       "         5.04080000e+04,   5.16070000e+04,   5.28060000e+04,\n",
       "         5.40050000e+04,   5.52040000e+04,   5.64030000e+04,\n",
       "         5.76020000e+04,   5.88010000e+04,   6.00000000e+04])"
      ]
     },
     "execution_count": 17,
     "metadata": {},
     "output_type": "execute_result"
    }
   ],
   "source": [
    "Na = np.linspace(50, 60000, num=51)\n",
    "\n",
    "beta0_hat_a =np.zeros(np.size(Na))\n"
   ]
  },
  {
   "cell_type": "code",
   "execution_count": 18,
   "metadata": {
    "collapsed": false,
    "nbpresent": {
     "id": "6a738f5b-f299-4860-b586-f328f7da0ae2"
    },
    "slideshow": {
     "slide_type": "slide"
    }
   },
   "outputs": [
    {
     "name": "stderr",
     "output_type": "stream",
     "text": [
      "/Users/mac/anaconda/lib/python2.7/site-packages/ipykernel/__main__.py:3: VisibleDeprecationWarning: using a non-integer number instead of an integer will result in an error in the future\n",
      "  app.launch_new_instance()\n"
     ]
    }
   ],
   "source": [
    "\n",
    "\n",
    "Na = np.linspace(50, 100000, num=50)\n",
    "beta0_hat_a =np.zeros(np.size(Na))\n",
    "beta1_hat_a =np.zeros(np.size(Na))\n",
    "\n",
    "# Evaluate coefficients for different N \n",
    "\n",
    "for i, N in enumerate(Na):\n",
    "    X, Y = GenerateDataLinearFun(N, sigma=1)\n",
    "   \n",
    "    # Estimate the coefficients \n",
    "    beta0_hat_a[i], beta1_hat_a[i] = FitLinearModel(X,Y)\n",
    "  "
   ]
  },
  {
   "cell_type": "code",
   "execution_count": 28,
   "metadata": {
    "collapsed": false,
    "nbpresent": {
     "id": "d3ebb493-4e24-44c7-aaf8-7f0ad7131aa1"
    },
    "slideshow": {
     "slide_type": "slide"
    }
   },
   "outputs": [
    {
     "data": {
      "text/plain": [
       "<matplotlib.legend.Legend at 0x1160b0250>"
      ]
     },
     "execution_count": 28,
     "metadata": {},
     "output_type": "execute_result"
    },
    {
     "data": {
      "image/png": "[encoded data removed]",
      "text/plain": [
       "<matplotlib.figure.Figure at 0x1153c4810>"
      ]
     },
     "metadata": {},
     "output_type": "display_data"
    }
   ],
   "source": [
    "plt.figure(figsize=(20,10)) \n",
    "plt.plot(Na,beta1_hat_a, alpha=0.4)\n",
    "plt.axhline(y=beta1, color='r', label='True beta1')\n",
    "plt.xlabel('Size of sample')\n",
    "plt.ylabel('beta_1')\n",
    "#plt.legend()\n",
    "\n",
    "plt.plot(Na,beta0_hat_a, alpha=0.4)\n",
    "plt.axhline(y=beta0, color='k', label='True beta0')\n",
    "plt.xlabel('Size of sample')\n",
    "plt.ylabel('beta_0')\n",
    "plt.legend(loc='best')\n",
    "\n"
   ]
  },
  {
   "cell_type": "markdown",
   "metadata": {
    "nbpresent": {
     "id": "0aceab92-3060-4fde-95f5-b590561c4f39"
    },
    "slideshow": {
     "slide_type": "slide"
    }
   },
   "source": [
    "Obviously there is a $1/n$ relationship \n",
    "\n",
    "Now let's look at the relationship wrt to size of the error ($\\epsilon$)\n",
    "\n",
    "\n"
   ]
  },
  {
   "cell_type": "code",
   "execution_count": 29,
   "metadata": {
    "collapsed": false,
    "nbpresent": {
     "id": "666e0415-1e3b-4fc1-9eda-2fb537170c0b"
    },
    "slideshow": {
     "slide_type": "slide"
    }
   },
   "outputs": [],
   "source": [
    "# UGLY CODE BUT CLEANER IN PRESENTATION\n",
    "# Investigate the relationship wrt to sigma_e\n",
    "\n",
    "sigma_e_a = np.linspace(1.0, 30, num=100)\n",
    "beta0_hat_a =np.zeros(np.size(sigma_e_a))\n",
    "beta1_hat_a =np.zeros(np.size(sigma_e_a))\n",
    "\n",
    "\n",
    "\n",
    "N = 1000\n",
    "\n",
    "for i, sigma_e in enumerate(sigma_e_a):\n",
    "    X, Y = GenerateDataLinearFun(N, sigma=sigma_e)\n",
    " \n",
    "     # Estimate the coefficients \n",
    "    beta0_hat_a[i], beta1_hat_a[i] = FitLinearModel(X,Y)"
   ]
  },
  {
   "cell_type": "code",
   "execution_count": 32,
   "metadata": {
    "collapsed": false,
    "nbpresent": {
     "id": "b908792f-9250-4b15-a41e-1a68f2db1b12"
    },
    "slideshow": {
     "slide_type": "slide"
    }
   },
   "outputs": [
    {
     "data": {
      "text/plain": [
       "<matplotlib.legend.Legend at 0x111396590>"
      ]
     },
     "execution_count": 32,
     "metadata": {},
     "output_type": "execute_result"
    },
    {
     "data": {
      "image/png": "[encoded data removed]",
      "text/plain": [
       "<matplotlib.figure.Figure at 0x11108e150>"
      ]
     },
     "metadata": {},
     "output_type": "display_data"
    }
   ],
   "source": [
    "plt.figure(figsize=(20,10))\n",
    "plt.plot(sigma_e_a,beta1_hat_a, alpha=0.4, label='Estimated Beta 1')\n",
    "plt.axhline(y=beta1, color='r', label='True beta1')\n",
    "plt.xlabel('Size of sample')\n",
    "plt.ylabel('beta_1')\n",
    "plt.legend()\n",
    "\n",
    "plt.plot(sigma_e_a,beta0_hat_a, alpha=0.4, label = 'Estimated Beta 0')\n",
    "plt.axhline(y=beta0, color='k', label='True beta0')\n",
    "plt.xlabel(r'$\\sigma_e$')\n",
    "plt.ylabel(r'$\\beta$')\n",
    "plt.legend(loc='best')"
   ]
  },
  {
   "cell_type": "markdown",
   "metadata": {
    "nbpresent": {
     "id": "facfa44a-696b-4f65-bba4-36d8977c91a9"
    }
   },
   "source": [
    "\n",
    "[ADD XRNAGE] \n"
   ]
  },
  {
   "cell_type": "markdown",
   "metadata": {
    "nbpresent": {
     "id": "7dc692d4-c71d-4ea6-a2e2-f6e0e0f0d868"
    },
    "slideshow": {
     "slide_type": "slide"
    }
   },
   "source": [
    "One can think of this the same way as the estimate of the mean of a variable.\n",
    "\n",
    "[add mean stuff] \n",
    "\n",
    "The standard errors associated with $\\hat{\\beta}_0$ and $\\hat{\\beta}_1$, we use the following formulas:\n",
    "$$SE(\\hat{\\beta}_0)^2 = \\sigma^2 \\left[ \\frac{1}{n} + \\frac{\\bar{x}^2}{\\sum_i(x_i-\\bar{x})^2} \\right]$$\n",
    "\n",
    "$$SE(\\hat{\\beta}_1)^2 =  \\frac{ \\sigma^2}{\\sum_i(x_i-\\bar{x})^2}$$\n",
    "\n",
    "Observe: \n",
    "- What happens if $n \\rightarrow \\infty$\n",
    "- What happens if the scatter in x is larger? "
   ]
  },
  {
   "cell_type": "markdown",
   "metadata": {
    "nbpresent": {
     "id": "fdf2c702-070a-489f-ae26-54b47f8f9b89"
    },
    "slideshow": {
     "slide_type": "slide"
    }
   },
   "source": [
    "Wait !!! \n",
    "\n",
    "What about $\\sigma^2$?\n",
    "\n",
    "1. $\\sigma^2$ is the variance (or error) in our data  $\\rm{Var}(\\epsilon)$, which **we do not know**\n",
    "2. For this to hold these errors must be uncorrelated (we revisit this later) \n",
    "3.  For this to hold we assume a normal distribution \n",
    "\n",
    "We can assume 2 and 3 to be correct and we can estimate  $\\sigma^2$ from the data. \n",
    "The estimate  also known as **residual standard error**, RSE is:\n",
    "\n",
    "\n",
    "$$\\sigma \\approx RSE = \\sqrt{ \\frac{RSS}{n-2}} $$\n",
    "\n",
    "$$RSS  = \\sum_i ( y_i - \\hat{y_i} )^2 = \\sum_i \\,e_i^2$$\n",
    "\n",
    "And when we use RSS instead of $\\sigma$ we \n",
    "\n",
    "$$SE(\\hat{\\beta}_0) \\rightarrow \\hat{SE}(\\hat{\\beta}_0) $$\n",
    "\n",
    "but we usually ignore the hat \n"
   ]
  },
  {
   "cell_type": "markdown",
   "metadata": {
    "nbpresent": {
     "id": "22ae1495-9b99-4cd6-bb5d-2008328029db"
    },
    "slideshow": {
     "slide_type": "slide"
    }
   },
   "source": [
    "So far:\n",
    "    - We know how to estimate the coefficients \n",
    "    - We know how to estimate the error on the estimate \n",
    "\n",
    "Next: \n",
    "   - We should be able to say how confident are we that the estimates of the coefficients are close to their true values\n",
    "   - Say something about the strength of the relationship between X and Y. If Y is independent of X then $\\beta_1$ is zero. Can we rule out that? Can we give a statistical significance to this statement? This is called hypothesis testing. \n",
    "   \n",
    "\n",
    "\n",
    "    "
   ]
  },
  {
   "cell_type": "markdown",
   "metadata": {
    "nbpresent": {
     "id": "81fcef8a-0f27-464e-bf5d-84276b4460af"
    },
    "slideshow": {
     "slide_type": "slide"
    }
   },
   "source": [
    "### Confidence intervals \n",
    "\n",
    " A p confidence interval is defined as a range of values such that with p probability range the range will contain the true unknown value of the parameter. The range is defined in terms of lower and upper limits estimated from the data. \n",
    "\n",
    "This can be demonstrated with multiple samples (realizations) of the same line."
   ]
  },
  {
   "cell_type": "code",
   "execution_count": 46,
   "metadata": {
    "collapsed": false
   },
   "outputs": [
    {
     "data": {
      "text/plain": [
       "<matplotlib.lines.Line2D at 0x111a49d50>"
      ]
     },
     "execution_count": 46,
     "metadata": {},
     "output_type": "execute_result"
    },
    {
     "data": {
      "image/png": "[encoded data removed]",
      "text/plain": [
       "<matplotlib.figure.Figure at 0x11988d3d0>"
      ]
     },
     "metadata": {},
     "output_type": "display_data"
    }
   ],
   "source": [
    "Ns=1000   # NUMBER OF IMAGINARY REALIZATIONS OR SAMPLES \n",
    "N = 1000    \n",
    "beta0_hat_a =np.zeros(Ns)\n",
    "beta0_hat_b =np.zeros(Ns)\n",
    "beta1_hat_b =np.zeros(Ns)\n",
    "beta1_hat_a =np.zeros(Ns)\n",
    "\n",
    "i=0\n",
    "for k in np.arange(Ns):\n",
    "    X,Y = GenerateDataLinearFun(N, sigma=.3)\n",
    "    # Estimate the coefficients \n",
    "    beta0_hat_b[i], beta1_hat_b[i] = FitLinearModel(X,Y)\n",
    "    beta0_hat_a[k], beta1_hat_a[k] = FitLinearModel(X,Y)\n",
    "\n",
    "    i=i+1\n",
    "\n",
    "fig = plt.figure(figsize=(20,10))\n",
    "ax1=  fig.add_subplot(121)\n",
    "ax2 = fig.add_subplot(122)\n",
    "\n",
    "\n",
    "ax1.hist(beta1_hat_a, bins=30, alpha=0.2)  ;\n",
    "ax2.hist(beta1_hat_b, bins=30, alpha=0.2)  ;\n",
    "ax1.axvline(x=3.0, linewidth=4)"
   ]
  },
  {
   "cell_type": "code",
   "execution_count": 47,
   "metadata": {
    "collapsed": false,
    "nbpresent": {
     "id": "667244f5-03ac-4f5f-8c0b-9b0036f6dd98"
    },
    "slideshow": {
     "slide_type": "slide"
    }
   },
   "outputs": [
    {
     "data": {
      "text/plain": [
       "<matplotlib.lines.Line2D at 0x118fa9ad0>"
      ]
     },
     "execution_count": 47,
     "metadata": {},
     "output_type": "execute_result"
    },
    {
     "data": {
      "image/png": "[encoded data removed]",
      "text/plain": [
       "<matplotlib.figure.Figure at 0x1198993d0>"
      ]
     },
     "metadata": {},
     "output_type": "display_data"
    }
   ],
   "source": [
    "Ns=1000   # NUMBER OF IMAGINARY REALIZATIONS OR SAMPLES \n",
    "N = 1000    \n",
    "beta0_hat_a =np.zeros(Ns)\n",
    "beta1_hat_a =np.zeros(Ns)\n",
    "\n",
    "i=0\n",
    "for k in np.arange(Ns):\n",
    "    X,Y = GenerateDataLinearFun(N, sigma=.3)\n",
    "    # Estimate the coefficients \n",
    "    beta0_hat_a[i], beta1_hat_a[i] = FitLinearModel(X,Y)\n",
    "    i=i+1\n",
    "\n",
    "\n",
    "plt.hist(beta1_hat_a, bins=30, alpha=0.2)  ;\n",
    "\n",
    "plt.axvline(x=3.0, linewidth=4)\n"
   ]
  },
  {
   "cell_type": "markdown",
   "metadata": {
    "nbpresent": {
     "id": "643971e9-3501-41fe-944e-bd151de45876"
    },
    "slideshow": {
     "slide_type": "slide"
    }
   },
   "source": [
    "In real life we only have one realization of data (bootstrapping that will see later is another way to get around this). \n",
    "\n",
    "The best we can do is to define the confidence intervals based on the SE (standard error on the estimate) \n",
    "\n",
    "For linear regression, the 95% confidence interval for $\\beta_1$ can be approximated as: \n",
    "\n",
    "$$ \\hat{\\beta_1} \\pm 2 SE(\\hat{\\beta_1}) $$\n",
    "\n",
    "and similarly for $\\beta_0$ \n",
    "\n",
    "$$ \\hat{\\beta_0} \\pm 2 SE(\\hat{\\beta_0}) $$\n",
    "\n"
   ]
  },
  {
   "cell_type": "code",
   "execution_count": 48,
   "metadata": {
    "collapsed": false,
    "nbpresent": {
     "id": "6e320718-c7ec-434a-8109-b4b83a7a68f0"
    },
    "slideshow": {
     "slide_type": "slide"
    }
   },
   "outputs": [
    {
     "name": "stdout",
     "output_type": "stream",
     "text": [
      "RSS =  104983.630062\n",
      "RSE =  10.2564135105\n",
      "('Standard error on beta1', 1.1224108351591633)\n",
      "('Estimate value of beta1', 2.9386596474883526)\n",
      "('95% confidence interval is: [', 0.69383797717002604, 5.1834813178066792, ']')\n",
      "('Correct value is: ', 3)\n"
     ]
    }
   ],
   "source": [
    "# CALCUALTE FOR ONE REALIZATION THE SE AND THE 95% CONFIDENCE INTERVAL \n",
    "N=1000\n",
    "\n",
    "X,Y = GenerateDataLinearFun(N)\n",
    "beta0_hat, beta1_hat= FitLinearModel(X,Y)\n",
    "Y_hat= PredictLinearModel(X,beta0_hat, beta1_hat )\n",
    "\n",
    "e = Y-Y_hat\n",
    "RSS = np.sum( e**2)\n",
    "RSE = np.sqrt( RSS/(N-2))\n",
    "print 'RSS = ' , RSS\n",
    "print 'RSE = ' , RSE\n",
    "\n",
    "sigma = RSE \n",
    "\n",
    "SE_b1= np.sqrt( sigma**2/np.sum((X-np.mean(X))**2))\n",
    "\n",
    "print( \"Standard error on beta1\" , SE_b1)\n",
    "print( \"Estimate value of beta1\" , beta1_hat )\n",
    "print( \"95% confidence interval is: [\", beta1_hat-2*SE_b1,beta1_hat+2*SE_b1, \"]\")\n",
    "print( \"Correct value is: \", 3)"
   ]
  },
  {
   "cell_type": "markdown",
   "metadata": {
    "nbpresent": {
     "id": "256c7d94-8af7-4e40-80ae-fb067350e0ee"
    },
    "slideshow": {
     "slide_type": "slide"
    }
   },
   "source": [
    "## Hypothesis Testing \n",
    "\n",
    "The standard erros can be used to perform hypothesis testing.\n",
    "\n",
    "The most interesting in our case is if $\\beta_1=0$ or in other words there is no relationship between X and Y\n",
    "\n",
    "H0 : Null hypothesis. There is no relationship between X and Y: $\\beta_1=0$\n",
    "H1 : Alternative hypothesis: There is some relationship between X and Y \n",
    "\n",
    "We need to determine if $\\beta_1$ is far from zero and how far is far. Intuitively is how many SEs far from zero is the estimate. [see example above, with the imaginary parallel universes] \n",
    "\n",
    "The standard way of doing this is with t-statistic given by\n",
    "\n",
    "$$ \\hat{t} = \\frac{\\hat{\\beta_1}  − 0}{ SE(\\hat{\\beta_1} )} $$\n",
    "\n",
    "t follows the t-distribution but practically  (for any sample size larger than 30) it converges to the normal distribution. One calculates the probability of having $t> \\hat{t}$ or the p-value. \n",
    "[more on this on the next lecture]"
   ]
  },
  {
   "cell_type": "markdown",
   "metadata": {
    "nbpresent": {
     "id": "557be2e5-33aa-44f1-8951-f005b95aa4e6"
    },
    "slideshow": {
     "slide_type": "slide"
    }
   },
   "source": [
    "### Model Accuracy\n",
    "\n",
    "So far we never questioned the assumption that $f(X) = \\beta_0 + \\beta_1 X $. \n",
    "\n",
    "We saw above that if the sample size is large and the range of X is large and $\\sigma$ is small, the estimated coefficients converge to the true one. \n",
    "\n",
    "But how about if the linear assumption is no good? Can we still estimate the model accuracy? \n",
    "\n",
    "Due to the presence of error terms $\\epsilon$, even if we knew the\n",
    "true regression line, we would not be able to perfectly predict Y from X. "
   ]
  },
  {
   "cell_type": "code",
   "execution_count": 400,
   "metadata": {
    "collapsed": true,
    "nbpresent": {
     "id": "25eabb67-af9f-4fcb-a290-cc200d39978a"
    },
    "slideshow": {
     "slide_type": "skip"
    }
   },
   "outputs": [],
   "source": [
    "\n",
    "from ipywidgets import interact,  FloatSlider, RadioButtons"
   ]
  },
  {
   "cell_type": "code",
   "execution_count": 486,
   "metadata": {
    "collapsed": false,
    "nbpresent": {
     "id": "43385e4c-5e03-43ad-971f-1d5252bd2f02"
    },
    "slideshow": {
     "slide_type": "slide"
    }
   },
   "outputs": [
    {
     "name": "stdout",
     "output_type": "stream",
     "text": [
      "estimated coefficients 1.80224644385 4.79155092682\n",
      "RSE=0.00716465239392\n",
      "R2=0.974023466679\n"
     ]
    },
    {
     "data": {
      "text/plain": [
       "<function __main__.plotit>"
      ]
     },
     "execution_count": 486,
     "metadata": {},
     "output_type": "execute_result"
    },
    {
     "data": {
      "image/png": "[encoded data removed]",
      "text/plain": [
       "<matplotlib.figure.Figure at 0x127a0b828>"
      ]
     },
     "metadata": {},
     "output_type": "display_data"
    }
   ],
   "source": [
    "def plotit(gamma):\n",
    "    # GENERATE DATA THAT ARE NOT FROM A LINEAR FUNCTION \n",
    "    N = 1000 # number of points \n",
    "    X,Y = GenerateDataNotLinearFun(N, sigma=0.001, alpha=gamma)\n",
    "\n",
    "    beta0_hat, beta1_hat = FitLinearModel(X,Y)\n",
    "\n",
    "    \n",
    "    print(\"estimated coefficients\", beta0_hat, beta1_hat)\n",
    "\n",
    "    # estimate y \n",
    "    Y_hat   = PredictLinearModel(X, beta0_hat, beta1_hat)\n",
    "\n",
    "    # calculate the RSE, R2 \n",
    "    RSS = np.sum((Y-Y_hat)**2)\n",
    "    RSE = np.sqrt(np.sum((Y-Y_hat)**2))/(N-2)\n",
    "    TSS = np.sum( (Y-np.mean(Y))**2)\n",
    "    \n",
    "    plt.figure(figsize=(20,12))\n",
    "    R2 = 1 - RSS/TSS\n",
    "    plt.plot(X,Y, 'b+')\n",
    "    plt.plot(X, Y_hat, label=\"Estimated\" )\n",
    "    plt.plot(X, beta0 + beta1 * X + gamma*X*X*X, label=\"True Y, gamma=\"+str(gamma) )\n",
    "    plt.legend(loc='best')\n",
    "    plt.xlabel('X')\n",
    "    plt.ylabel('Y')\n",
    "    \n",
    "    print(\"RSE=\"+str(RSE))\n",
    "    print(\"R2=\"+str(R2))\n",
    "\n",
    "interact(plotit, gamma=(-5,10,.01))"
   ]
  },
  {
   "cell_type": "markdown",
   "metadata": {
    "nbpresent": {
     "id": "07068dd8-c323-49c7-891b-54d04db498a5"
    },
    "slideshow": {
     "slide_type": "slide"
    }
   },
   "source": [
    "## $R^2$\n",
    "The RSE is an estimate of the standard error, or the average deviation of the response from the true value. \n",
    "Recall: \n",
    "$$ RSE = \\sqrt{ \\frac{RSS}{n-2}} $$\n",
    "\n",
    "- It is considered a measure of the lack of fit of the model\n",
    "- Absolute measure since it is in units of Y \n",
    "\n",
    "Alternatively we can use $R^2$ statistics that is propotion of deviation in units of variance \n",
    "\n",
    "\n",
    "$$R^2 = \\frac{TSS-RSS}{TSS} =  1 - \\frac{RSS}{TSS} $$\n",
    "\n",
    "where $TSS = \\sum_i (y_i-\\bar{y})^2 $ is the total sum of squares, or the deviation of Y before we regress and RSS is the deviation left after the regression. \n",
    "\n",
    "The ration tells as how well the regression performed to remove deviations on Y\n",
    "\n",
    "\n"
   ]
  },
  {
   "cell_type": "markdown",
   "metadata": {
    "nbpresent": {
     "id": "16a025f2-7bd2-45c4-958e-6a595f0799b1"
    },
    "slideshow": {
     "slide_type": "slide"
    }
   },
   "source": [
    "## Why not  correlation? \n",
    "\n",
    "If what we are looking is a measure of the relation between X and Y then why not use the correlation. \n",
    "\n",
    "$$ Cor(X,Y) = \\frac{\\sum_i(x_i - \\bar{x})(y_i-\\bar{y} )}{\\sqrt{\\sum_i (x_i - \\bar{x})^2 } \\sqrt{\\sum_i(y_i-\\bar{y} )^2} }$$\n",
    "\n",
    "It so happens for simple linear regression one can prove that $R^2$ and $Cor(X,Y)^2$ are identical. \n",
    "[Not the case for other cases]"
   ]
  },
  {
   "cell_type": "markdown",
   "metadata": {
    "collapsed": true,
    "nbpresent": {
     "id": "234076f5-5584-40e5-a943-0587bc628e95"
    },
    "slideshow": {
     "slide_type": "slide"
    }
   },
   "source": [
    "## Residuals \n",
    "\n",
    "Linear regresion is a great tool and it is used very extensively. Detemining the coeffients is generally easy, but understanding  a) the accuracy of the model b) the fitness of the model and c) how well we determined the coefficients d) the importance of the variables and e) the validity of the linearity are among the things you will be spending most of the time. \n",
    "\n",
    "Another important tool is to look at the residuals themselves,  \n",
    "\n",
    "$$ e_i = y_i - \\hat{y}_i $$\n",
    "\n",
    "In the limit that  $\\hat{Y}$ is the exact correct values of $Y=\\beta_0 + \\beta_1 X $ then the residuals are mainly equal to the noise term $\\epsilon_i$ and therefore should have the distribution of the noise. If we believe the error is iid normally distributed then the residuals themselves should follow that distribution. \n"
   ]
  },
  {
   "cell_type": "code",
   "execution_count": 247,
   "metadata": {
    "collapsed": false,
    "nbpresent": {
     "id": "794b31dc-36b2-47ed-a22a-2a8edd26fb8a"
    },
    "slideshow": {
     "slide_type": "skip"
    }
   },
   "outputs": [],
   "source": []
  },
  {
   "cell_type": "code",
   "execution_count": 49,
   "metadata": {
    "collapsed": false,
    "nbpresent": {
     "id": "ab659790-4f2a-4bc7-bbea-20c700cbd263"
    },
    "slideshow": {
     "slide_type": "slide"
    }
   },
   "outputs": [
    {
     "data": {
      "image/png": "[encoded data removed]",
      "text/plain": [
       "<matplotlib.figure.Figure at 0x108fb1dd0>"
      ]
     },
     "metadata": {},
     "output_type": "display_data"
    }
   ],
   "source": [
    "N=1000\n",
    "X, Y = GenerateDataNotLinearFun(N, alpha=1.4)\n",
    "X = X.reshape((N,1))\n",
    "\n",
    "regression =Lin_Reg()\n",
    "regression.fit(X,Y)\n",
    "Y_h=regression.predict(X)\n",
    "\n",
    "# Residuals \n",
    "e = Y_h-Y \n",
    "\n",
    "fig, ((ax1, ax2, ax3)) = plt.subplots(1, 3, figsize=(15, 5))\n",
    "ax1.plot(X,Y, 'o', label=r'$Data \\, \\beta_0=2.2, \\beta_1=3.0$')\n",
    "ax1.plot(X, Y_h, color='r', label=\"Prediction\")\n",
    "ax1.legend()\n",
    "\n",
    "ax2.set_title(\"Residuals\")\n",
    "ax2.plot(X,e, 'go', alpha=0.5, label='Residuals')\n",
    "ax2.axhline(y=0, color='black', linewidth=2.0, alpha=0.7, label='y=0')\n",
    "ax2.legend()\n",
    "\n",
    "ax3.hist( e, bins=30, alpha=0.7);\n"
   ]
  },
  {
   "cell_type": "code",
   "execution_count": null,
   "metadata": {
    "collapsed": true,
    "nbpresent": {
     "id": "1f8a2413-98f6-4729-a962-e95c2d2379e2"
    }
   },
   "outputs": [],
   "source": []
  }
 ],
 "metadata": {
  "anaconda-cloud": {},
  "celltoolbar": "Slideshow",
  "kernelspec": {
   "display_name": "Python [Root]",
   "language": "python",
   "name": "Python [Root]"
  },
  "language_info": {
   "codemirror_mode": {
    "name": "ipython",
    "version": 2
   },
   "file_extension": ".py",
   "mimetype": "text/x-python",
   "name": "python",
   "nbconvert_exporter": "python",
   "pygments_lexer": "ipython2",
   "version": "2.7.12"
  },
  "nbpresent": {
   "slides": {
    "05815cec-28ba-43e6-bd5f-247383b1f475": {
     "id": "05815cec-28ba-43e6-bd5f-247383b1f475",
     "prev": "584e29b6-860c-46e2-b92d-5de5a9a22e77",
     "regions": {
      "abd28c2c-3ad8-41ba-89a5-07b5788275ca": {
       "attrs": {
        "height": 0.8,
        "width": 0.8,
        "x": 0.1,
        "y": 0.1
       },
       "content": {
        "cell": "557be2e5-33aa-44f1-8951-f005b95aa4e6",
        "part": "whole"
       },
       "id": "abd28c2c-3ad8-41ba-89a5-07b5788275ca"
      }
     }
    },
    "07e5c05d-7f24-49f2-9785-0c13afe02b43": {
     "id": "07e5c05d-7f24-49f2-9785-0c13afe02b43",
     "prev": "f42c7a3a-932a-4753-98c8-c70bb16897b1",
     "regions": {
      "4e6ca2ef-1b60-4c44-b3f1-5b13110d65e1": {
       "attrs": {
        "height": 0.8,
        "width": 0.8,
        "x": 0.1,
        "y": 0.1
       },
       "content": {
        "cell": "81fcef8a-0f27-464e-bf5d-84276b4460af",
        "part": "whole"
       },
       "id": "4e6ca2ef-1b60-4c44-b3f1-5b13110d65e1"
      }
     }
    },
    "09e3df12-a8ad-49d0-97a7-ba3b6edc2ff0": {
     "id": "09e3df12-a8ad-49d0-97a7-ba3b6edc2ff0",
     "prev": "c4df77b7-2a4b-4de7-90f7-8f0fd3920a1f",
     "regions": {
      "5c16ac64-05f3-42fc-ab37-7b090a713f21": {
       "attrs": {
        "height": 0.8,
        "width": 0.8,
        "x": 0.1,
        "y": 0.1
       },
       "content": {
        "cell": "7cada888-1fc7-4087-9fea-18fbe8b27641",
        "part": "whole"
       },
       "id": "5c16ac64-05f3-42fc-ab37-7b090a713f21"
      }
     }
    },
    "0b084f21-c9af-4c9c-b0bd-9c18cde29c2f": {
     "id": "0b084f21-c9af-4c9c-b0bd-9c18cde29c2f",
     "prev": "7d1e927b-ef34-45e5-8a9a-b8f429cd2628",
     "regions": {
      "16a581fb-dde4-451a-a143-f1e2c0787ef0": {
       "attrs": {
        "height": 0.8,
        "width": 0.8,
        "x": 0.1,
        "y": 0.1
       },
       "content": {
        "cell": "234076f5-5584-40e5-a943-0587bc628e95",
        "part": "whole"
       },
       "id": "16a581fb-dde4-451a-a143-f1e2c0787ef0"
      }
     }
    },
    "12768590-7ae5-4024-b913-5238ba41296c": {
     "id": "12768590-7ae5-4024-b913-5238ba41296c",
     "prev": "5934643d-d706-4266-b9ba-51973037a38a",
     "regions": {
      "268ae207-54cb-47cd-8745-c21e5461422d": {
       "attrs": {
        "height": 0.8,
        "width": 0.8,
        "x": 0.1,
        "y": 0.1
       },
       "content": {
        "cell": "a9749da2-e3cb-4d3d-af7d-8d4119f408c0",
        "part": "whole"
       },
       "id": "268ae207-54cb-47cd-8745-c21e5461422d"
      }
     }
    },
    "13e2b9f1-bee1-4937-8d28-7b0ba5ed76d1": {
     "id": "13e2b9f1-bee1-4937-8d28-7b0ba5ed76d1",
     "prev": "dac347a0-95e4-4b99-985a-713338cde294",
     "regions": {
      "f14c7f4e-c12e-47e3-aab3-f38feeabf353": {
       "attrs": {
        "height": 0.8,
        "width": 0.8,
        "x": 0.1,
        "y": 0.1
       },
       "content": {
        "cell": "82123f6f-efb6-42fb-8352-7bafefb387be",
        "part": "whole"
       },
       "id": "f14c7f4e-c12e-47e3-aab3-f38feeabf353"
      }
     }
    },
    "1739631f-0699-4d35-813c-a378348ff151": {
     "id": "1739631f-0699-4d35-813c-a378348ff151",
     "prev": "5e68a766-7bf1-443b-b193-d1cd893b1b9e",
     "regions": {
      "f15c5956-9521-4bb8-b088-02c7f41458ad": {
       "attrs": {
        "height": 0.8,
        "width": 0.8,
        "x": 0.1,
        "y": 0.1
       },
       "content": {
        "cell": "666e0415-1e3b-4fc1-9eda-2fb537170c0b",
        "part": "whole"
       },
       "id": "f15c5956-9521-4bb8-b088-02c7f41458ad"
      }
     }
    },
    "1c716136-2e13-4991-baf8-d1295a693dc5": {
     "id": "1c716136-2e13-4991-baf8-d1295a693dc5",
     "prev": "fe26adcf-9612-482e-9e7a-c0a8e787a770",
     "regions": {
      "66409d3d-2e4f-4112-ae8a-c1b60ea2665d": {
       "attrs": {
        "height": 0.8,
        "width": 0.8,
        "x": 0.1,
        "y": 0.1
       },
       "content": {
        "cell": "07068dd8-c323-49c7-891b-54d04db498a5",
        "part": "whole"
       },
       "id": "66409d3d-2e4f-4112-ae8a-c1b60ea2665d"
      }
     }
    },
    "2305dc82-3aeb-4607-b7ce-5fff42371e8a": {
     "id": "2305dc82-3aeb-4607-b7ce-5fff42371e8a",
     "prev": "4d8ed9ea-63b2-4e90-8a0e-f645831cb257",
     "regions": {
      "bdc437f7-0907-4a0b-bebe-b79e154192d7": {
       "attrs": {
        "height": 0.8,
        "width": 0.8,
        "x": 0.1,
        "y": 0.1
       },
       "content": {
        "cell": "c9b47249-96d9-4f34-8c2c-d48469422599",
        "part": "whole"
       },
       "id": "bdc437f7-0907-4a0b-bebe-b79e154192d7"
      }
     }
    },
    "25831e6f-def3-484b-8363-7779277a3757": {
     "id": "25831e6f-def3-484b-8363-7779277a3757",
     "prev": "33ce5fb4-baae-4a7d-8429-2b84fb1d9c63",
     "regions": {
      "244ae847-accb-40f8-aae0-5f4676cba765": {
       "attrs": {
        "height": 0.8,
        "width": 0.8,
        "x": 0.1,
        "y": 0.1
       },
       "content": {
        "cell": "4758564c-1918-4831-8dc8-7387595e01f7",
        "part": "whole"
       },
       "id": "244ae847-accb-40f8-aae0-5f4676cba765"
      }
     }
    },
    "26ec9df2-73c0-4b51-9c96-dca60a449e92": {
     "id": "26ec9df2-73c0-4b51-9c96-dca60a449e92",
     "prev": "aced5186-f469-404f-bb6a-c2fae71456e4",
     "regions": {
      "c43887e0-1f04-4541-bdde-e00b3f04c09c": {
       "attrs": {
        "height": 0.8,
        "width": 0.8,
        "x": 0.1,
        "y": 0.1
       },
       "content": {
        "cell": "6a738f5b-f299-4860-b586-f328f7da0ae2",
        "part": "whole"
       },
       "id": "c43887e0-1f04-4541-bdde-e00b3f04c09c"
      }
     }
    },
    "2818f3b6-c25a-49a4-8b39-e24831013a24": {
     "id": "2818f3b6-c25a-49a4-8b39-e24831013a24",
     "prev": "aca3f6eb-266e-4271-bbeb-098b60e85b50",
     "regions": {
      "859c2cc7-02ac-47bc-a704-5dba65d27250": {
       "attrs": {
        "height": 0.8,
        "width": 0.8,
        "x": 0.1,
        "y": 0.1
       },
       "content": {
        "cell": "1ac78c0d-e4c2-4579-9e39-8b50feb2e29c",
        "part": "whole"
       },
       "id": "859c2cc7-02ac-47bc-a704-5dba65d27250"
      }
     }
    },
    "29aaa9c1-9289-4095-84b9-95aef4deef59": {
     "id": "29aaa9c1-9289-4095-84b9-95aef4deef59",
     "prev": "07e5c05d-7f24-49f2-9785-0c13afe02b43",
     "regions": {
      "ef615b82-ea28-48c3-916d-3545e3dccb1f": {
       "attrs": {
        "height": 0.8,
        "width": 0.8,
        "x": 0.1,
        "y": 0.1
       },
       "content": {
        "cell": "667244f5-03ac-4f5f-8c0b-9b0036f6dd98",
        "part": "whole"
       },
       "id": "ef615b82-ea28-48c3-916d-3545e3dccb1f"
      }
     }
    },
    "2cfc7d90-2667-4283-a8f1-a095a56e2740": {
     "id": "2cfc7d90-2667-4283-a8f1-a095a56e2740",
     "prev": "9652f18b-3145-4ef8-bc54-2f26280d6b1f",
     "regions": {
      "e464e68d-2104-47b1-ac41-9e35059dc32d": {
       "attrs": {
        "height": 0.8,
        "width": 0.8,
        "x": 0.1,
        "y": 0.1
       },
       "content": {
        "cell": "753ef902-c4db-45b5-82fe-1bba1ce06e3d",
        "part": "whole"
       },
       "id": "e464e68d-2104-47b1-ac41-9e35059dc32d"
      }
     }
    },
    "33ce5fb4-baae-4a7d-8429-2b84fb1d9c63": {
     "id": "33ce5fb4-baae-4a7d-8429-2b84fb1d9c63",
     "prev": "bcba694d-502b-4434-bc66-0ff9a50384f9",
     "regions": {
      "f8aa31ae-2f6d-457b-8c5e-507d211d769b": {
       "attrs": {
        "height": 0.8,
        "width": 0.8,
        "x": 0.1,
        "y": 0.1
       },
       "content": {
        "cell": "43f12569-424e-4cd2-9458-79b33aee35e0",
        "part": "whole"
       },
       "id": "f8aa31ae-2f6d-457b-8c5e-507d211d769b"
      }
     }
    },
    "36fbf6b9-7cc1-405d-b874-b8dd375a2ac8": {
     "id": "36fbf6b9-7cc1-405d-b874-b8dd375a2ac8",
     "prev": "5f763546-1eb5-40d9-a8ff-1a8cca42bac3",
     "regions": {
      "dfd6d799-2028-42cb-9430-295319350bf7": {
       "attrs": {
        "height": 0.8,
        "width": 0.8,
        "x": 0.1,
        "y": 0.1
       },
       "content": {
        "cell": "6e320718-c7ec-434a-8109-b4b83a7a68f0",
        "part": "whole"
       },
       "id": "dfd6d799-2028-42cb-9430-295319350bf7"
      }
     }
    },
    "3a402575-9b4c-44ed-8461-caa3759371e1": {
     "id": "3a402575-9b4c-44ed-8461-caa3759371e1",
     "prev": "570825c4-110b-4133-a8bf-2e84f1c77e50",
     "regions": {
      "48652ff6-1b54-4ec0-85b0-c429d458afdf": {
       "attrs": {
        "height": 0.8,
        "width": 0.8,
        "x": 0.1,
        "y": 0.1
       },
       "content": {
        "cell": "52e9a7fd-f473-4b98-8a37-107bb147b1c3",
        "part": "whole"
       },
       "id": "48652ff6-1b54-4ec0-85b0-c429d458afdf"
      }
     }
    },
    "490345c5-f91d-49cd-8dd4-1f9cfcccfbdf": {
     "id": "490345c5-f91d-49cd-8dd4-1f9cfcccfbdf",
     "prev": "df961cf0-cef3-472f-9b79-a23c3296f487",
     "regions": {
      "01d57a69-7263-426e-8b38-299c10d7038b": {
       "attrs": {
        "height": 0.8,
        "width": 0.8,
        "x": 0.1,
        "y": 0.1
       },
       "content": {
        "cell": "98b6d16e-2694-43d8-85d9-1810f5c63cd0",
        "part": "whole"
       },
       "id": "01d57a69-7263-426e-8b38-299c10d7038b"
      }
     }
    },
    "4d8ed9ea-63b2-4e90-8a0e-f645831cb257": {
     "id": "4d8ed9ea-63b2-4e90-8a0e-f645831cb257",
     "prev": "509ddda6-9d70-4421-82f7-344f669f755c",
     "regions": {
      "0625a834-70f3-48c3-9131-cdcea6abb13b": {
       "attrs": {
        "height": 0.8,
        "width": 0.8,
        "x": 0.1,
        "y": 0.1
       },
       "content": {
        "cell": "1b36db97-3349-4f61-a252-94f3224b9ebe",
        "part": "whole"
       },
       "id": "0625a834-70f3-48c3-9131-cdcea6abb13b"
      }
     }
    },
    "509ddda6-9d70-4421-82f7-344f669f755c": {
     "id": "509ddda6-9d70-4421-82f7-344f669f755c",
     "prev": "2cfc7d90-2667-4283-a8f1-a095a56e2740",
     "regions": {
      "d541931c-2744-46cd-a57c-895a7d54537a": {
       "attrs": {
        "height": 0.8,
        "width": 0.8,
        "x": 0.1,
        "y": 0.1
       },
       "content": {
        "cell": "295ec086-fc16-447c-9ab0-2e3d28644ff3",
        "part": "whole"
       },
       "id": "d541931c-2744-46cd-a57c-895a7d54537a"
      }
     }
    },
    "52e94d48-3f18-4ca8-b094-5653fb4f07a6": {
     "id": "52e94d48-3f18-4ca8-b094-5653fb4f07a6",
     "prev": "26ec9df2-73c0-4b51-9c96-dca60a449e92",
     "regions": {
      "b3d32804-8261-420d-87ca-89d4213f0189": {
       "attrs": {
        "height": 0.8,
        "width": 0.8,
        "x": 0.1,
        "y": 0.1
       },
       "content": {
        "cell": "d3ebb493-4e24-44c7-aaf8-7f0ad7131aa1",
        "part": "whole"
       },
       "id": "b3d32804-8261-420d-87ca-89d4213f0189"
      }
     }
    },
    "570825c4-110b-4133-a8bf-2e84f1c77e50": {
     "id": "570825c4-110b-4133-a8bf-2e84f1c77e50",
     "prev": "25831e6f-def3-484b-8363-7779277a3757",
     "regions": {
      "a44f5776-360b-49c8-badb-b3c9801da720": {
       "attrs": {
        "height": 0.8,
        "width": 0.8,
        "x": 0.1,
        "y": 0.1
       },
       "content": {
        "cell": "cf0b6061-4029-47b8-826b-1db5cdcb0cc4",
        "part": "whole"
       },
       "id": "a44f5776-360b-49c8-badb-b3c9801da720"
      }
     }
    },
    "584e29b6-860c-46e2-b92d-5de5a9a22e77": {
     "id": "584e29b6-860c-46e2-b92d-5de5a9a22e77",
     "prev": "36fbf6b9-7cc1-405d-b874-b8dd375a2ac8",
     "regions": {
      "339e2b60-d89f-4325-b528-30e505944d33": {
       "attrs": {
        "height": 0.8,
        "width": 0.8,
        "x": 0.1,
        "y": 0.1
       },
       "content": {
        "cell": "256c7d94-8af7-4e40-80ae-fb067350e0ee",
        "part": "whole"
       },
       "id": "339e2b60-d89f-4325-b528-30e505944d33"
      }
     }
    },
    "5934643d-d706-4266-b9ba-51973037a38a": {
     "id": "5934643d-d706-4266-b9ba-51973037a38a",
     "prev": "9f80232d-f421-4029-ab03-60ed063e5a9a",
     "regions": {
      "bc2cfdaf-faed-4bbc-8e5d-e8acb62e51f9": {
       "attrs": {
        "height": 0.8,
        "width": 0.8,
        "x": 0.1,
        "y": 0.1
       },
       "content": {
        "cell": "e54f7262-36d6-4429-a436-3b81cf782024",
        "part": "whole"
       },
       "id": "bc2cfdaf-faed-4bbc-8e5d-e8acb62e51f9"
      }
     }
    },
    "5e68a766-7bf1-443b-b193-d1cd893b1b9e": {
     "id": "5e68a766-7bf1-443b-b193-d1cd893b1b9e",
     "prev": "52e94d48-3f18-4ca8-b094-5653fb4f07a6",
     "regions": {
      "0985d754-1b94-4fdb-9ed2-b78394160c2c": {
       "attrs": {
        "height": 0.8,
        "width": 0.8,
        "x": 0.1,
        "y": 0.1
       },
       "content": {
        "cell": "0aceab92-3060-4fde-95f5-b590561c4f39",
        "part": "whole"
       },
       "id": "0985d754-1b94-4fdb-9ed2-b78394160c2c"
      }
     }
    },
    "5f763546-1eb5-40d9-a8ff-1a8cca42bac3": {
     "id": "5f763546-1eb5-40d9-a8ff-1a8cca42bac3",
     "prev": "29aaa9c1-9289-4095-84b9-95aef4deef59",
     "regions": {
      "f2b22704-189c-4f78-9727-dcea7385ea5e": {
       "attrs": {
        "height": 0.8,
        "width": 0.8,
        "x": 0.1,
        "y": 0.1
       },
       "content": {
        "cell": "643971e9-3501-41fe-944e-bd151de45876",
        "part": "whole"
       },
       "id": "f2b22704-189c-4f78-9727-dcea7385ea5e"
      }
     }
    },
    "5fc7701b-3fe0-49ce-a2a7-62b3549483c8": {
     "id": "5fc7701b-3fe0-49ce-a2a7-62b3549483c8",
     "prev": "ba2b0e25-4f0a-4685-8d6b-83ee7e6f9efb",
     "regions": {
      "0072dbd7-1740-425f-ae36-e8d22ede7ac7": {
       "attrs": {
        "height": 0.8,
        "width": 0.8,
        "x": 0.1,
        "y": 0.1
       },
       "content": {
        "cell": "08fc3791-0832-4561-84a4-b6682cf4712a",
        "part": "whole"
       },
       "id": "0072dbd7-1740-425f-ae36-e8d22ede7ac7"
      }
     }
    },
    "61c893d7-7112-4d45-820c-a16175617ad0": {
     "id": "61c893d7-7112-4d45-820c-a16175617ad0",
     "prev": "93d8471b-a2c2-4863-b631-95297a1d764d",
     "regions": {
      "bfcf777e-54d0-470a-9af4-4a67197b4c8c": {
       "attrs": {
        "height": 0.8,
        "width": 0.8,
        "x": 0.1,
        "y": 0.1
       },
       "content": {
        "cell": "fdf2c702-070a-489f-ae26-54b47f8f9b89",
        "part": "whole"
       },
       "id": "bfcf777e-54d0-470a-9af4-4a67197b4c8c"
      }
     }
    },
    "703682ab-5636-4a49-bf35-0f26a20b1654": {
     "id": "703682ab-5636-4a49-bf35-0f26a20b1654",
     "prev": "13e2b9f1-bee1-4937-8d28-7b0ba5ed76d1",
     "regions": {
      "b21fcf9e-94a8-4882-82c8-7ecc0e2c8c62": {
       "attrs": {
        "height": 0.8,
        "width": 0.8,
        "x": 0.1,
        "y": 0.1
       },
       "content": {
        "cell": "a525c1cd-0e69-41c4-8bb0-da9783325b49",
        "part": "whole"
       },
       "id": "b21fcf9e-94a8-4882-82c8-7ecc0e2c8c62"
      }
     }
    },
    "71c85043-eb61-4a70-bd68-b57cc733e2c4": {
     "id": "71c85043-eb61-4a70-bd68-b57cc733e2c4",
     "prev": "12768590-7ae5-4024-b913-5238ba41296c",
     "regions": {
      "a9d185c6-58a6-4df1-972a-fa36f2e3b230": {
       "attrs": {
        "height": 0.8,
        "width": 0.8,
        "x": 0.1,
        "y": 0.1
       },
       "content": {
        "cell": "da3adec3-6154-4cae-953e-58bb6a3abb75",
        "part": "whole"
       },
       "id": "a9d185c6-58a6-4df1-972a-fa36f2e3b230"
      }
     }
    },
    "761c3503-db74-4bf3-8ef2-b03b9a58707c": {
     "id": "761c3503-db74-4bf3-8ef2-b03b9a58707c",
     "prev": "ad749859-4c8e-40da-b65f-a983285779aa",
     "regions": {
      "288fbf64-7b11-4511-b5e1-31c04395a379": {
       "attrs": {
        "height": 0.8,
        "width": 0.8,
        "x": 0.1,
        "y": 0.1
       },
       "content": {
        "cell": "1f8a2413-98f6-4729-a962-e95c2d2379e2",
        "part": "whole"
       },
       "id": "288fbf64-7b11-4511-b5e1-31c04395a379"
      }
     }
    },
    "7b3783bb-36ef-4e43-ad4e-f6b13eedffd4": {
     "id": "7b3783bb-36ef-4e43-ad4e-f6b13eedffd4",
     "prev": "71c85043-eb61-4a70-bd68-b57cc733e2c4",
     "regions": {
      "60766441-7b7c-4df8-b3d8-e8b1ee683411": {
       "attrs": {
        "height": 0.8,
        "width": 0.8,
        "x": 0.1,
        "y": 0.1
       },
       "content": {
        "cell": "e41aba68-06fd-431a-b538-9bea4030e71a",
        "part": "whole"
       },
       "id": "60766441-7b7c-4df8-b3d8-e8b1ee683411"
      }
     }
    },
    "7d1e927b-ef34-45e5-8a9a-b8f429cd2628": {
     "id": "7d1e927b-ef34-45e5-8a9a-b8f429cd2628",
     "prev": "1c716136-2e13-4991-baf8-d1295a693dc5",
     "regions": {
      "7a18a2fc-48c3-4bff-913f-bc06f0c1dfa7": {
       "attrs": {
        "height": 0.8,
        "width": 0.8,
        "x": 0.1,
        "y": 0.1
       },
       "content": {
        "cell": "16a025f2-7bd2-45c4-958e-6a595f0799b1",
        "part": "whole"
       },
       "id": "7a18a2fc-48c3-4bff-913f-bc06f0c1dfa7"
      }
     }
    },
    "85489c32-55fc-439b-9050-d83be0990067": {
     "id": "85489c32-55fc-439b-9050-d83be0990067",
     "prev": "09e3df12-a8ad-49d0-97a7-ba3b6edc2ff0",
     "regions": {
      "0fb9fd50-d12b-4635-aaad-b7dd37537b58": {
       "attrs": {
        "height": 0.8,
        "width": 0.8,
        "x": 0.1,
        "y": 0.1
       },
       "content": {
        "cell": "6867f26e-643c-489b-81d8-d828bb3d5f30",
        "part": "whole"
       },
       "id": "0fb9fd50-d12b-4635-aaad-b7dd37537b58"
      }
     }
    },
    "93d8471b-a2c2-4863-b631-95297a1d764d": {
     "id": "93d8471b-a2c2-4863-b631-95297a1d764d",
     "prev": "aa2e0e4e-856d-44f8-bf8c-4acfd0bdc855",
     "regions": {
      "1d0834f6-1921-40c1-8b8a-75e63b8f9d93": {
       "attrs": {
        "height": 0.8,
        "width": 0.8,
        "x": 0.1,
        "y": 0.1
       },
       "content": {
        "cell": "7dc692d4-c71d-4ea6-a2e2-f6e0e0f0d868",
        "part": "whole"
       },
       "id": "1d0834f6-1921-40c1-8b8a-75e63b8f9d93"
      }
     }
    },
    "9652f18b-3145-4ef8-bc54-2f26280d6b1f": {
     "id": "9652f18b-3145-4ef8-bc54-2f26280d6b1f",
     "prev": "9d3a6f18-d3f0-4d60-aac7-4dd0fa91cd79",
     "regions": {
      "11237362-9f07-4044-826e-ecf32d5fe8f5": {
       "attrs": {
        "height": 0.8,
        "width": 0.8,
        "x": 0.1,
        "y": 0.1
       },
       "content": {
        "cell": "ed14c107-1832-4f34-b3b4-56d047a2d857",
        "part": "whole"
       },
       "id": "11237362-9f07-4044-826e-ecf32d5fe8f5"
      }
     }
    },
    "9d3a6f18-d3f0-4d60-aac7-4dd0fa91cd79": {
     "id": "9d3a6f18-d3f0-4d60-aac7-4dd0fa91cd79",
     "prev": "490345c5-f91d-49cd-8dd4-1f9cfcccfbdf",
     "regions": {
      "873ce086-c86f-4b4d-94da-30ac0fbfcfb8": {
       "attrs": {
        "height": 0.8,
        "width": 0.8,
        "x": 0.1,
        "y": 0.1
       },
       "content": {
        "cell": "5da56e1e-40fc-4c73-85e4-6c0b50832e1d",
        "part": "whole"
       },
       "id": "873ce086-c86f-4b4d-94da-30ac0fbfcfb8"
      }
     }
    },
    "9f80232d-f421-4029-ab03-60ed063e5a9a": {
     "id": "9f80232d-f421-4029-ab03-60ed063e5a9a",
     "prev": "5fc7701b-3fe0-49ce-a2a7-62b3549483c8",
     "regions": {
      "ba6cccae-4da1-41dd-bf12-4ee9dc1e0a70": {
       "attrs": {
        "height": 0.8,
        "width": 0.8,
        "x": 0.1,
        "y": 0.1
       },
       "content": {
        "cell": "fadff9f1-bdb5-4eef-93a3-b1ca531ee5c0",
        "part": "whole"
       },
       "id": "ba6cccae-4da1-41dd-bf12-4ee9dc1e0a70"
      }
     }
    },
    "aa2e0e4e-856d-44f8-bf8c-4acfd0bdc855": {
     "id": "aa2e0e4e-856d-44f8-bf8c-4acfd0bdc855",
     "prev": "fa6d3a2c-2552-48da-b8b1-ba9064bbaf69",
     "regions": {
      "04179edb-179b-4900-a3f0-eda5789b8613": {
       "attrs": {
        "height": 0.8,
        "width": 0.8,
        "x": 0.1,
        "y": 0.1
       },
       "content": {
        "cell": "facfa44a-696b-4f65-bba4-36d8977c91a9",
        "part": "whole"
       },
       "id": "04179edb-179b-4900-a3f0-eda5789b8613"
      }
     }
    },
    "aca3f6eb-266e-4271-bbeb-098b60e85b50": {
     "id": "aca3f6eb-266e-4271-bbeb-098b60e85b50",
     "prev": "703682ab-5636-4a49-bf35-0f26a20b1654",
     "regions": {
      "f44dc114-2f2a-4254-a3b6-e74f5a339a2d": {
       "attrs": {
        "height": 0.8,
        "width": 0.8,
        "x": 0.1,
        "y": 0.1
       },
       "content": {
        "cell": "f26b9b9c-120c-43c5-b60c-bc4353fab82c",
        "part": "whole"
       },
       "id": "f44dc114-2f2a-4254-a3b6-e74f5a339a2d"
      }
     }
    },
    "aced5186-f469-404f-bb6a-c2fae71456e4": {
     "id": "aced5186-f469-404f-bb6a-c2fae71456e4",
     "prev": "7b3783bb-36ef-4e43-ad4e-f6b13eedffd4",
     "regions": {
      "6b626740-7259-49c9-9ac2-606bb75f6e3d": {
       "attrs": {
        "height": 0.8,
        "width": 0.8,
        "x": 0.1,
        "y": 0.1
       },
       "content": {
        "cell": "dfacd721-74f6-4b8f-be09-6d062e560739",
        "part": "whole"
       },
       "id": "6b626740-7259-49c9-9ac2-606bb75f6e3d"
      }
     }
    },
    "ad749859-4c8e-40da-b65f-a983285779aa": {
     "id": "ad749859-4c8e-40da-b65f-a983285779aa",
     "prev": "ca84d5f0-50d6-48ce-b162-5c569ba99363",
     "regions": {
      "b8d914c2-4abf-4562-a19b-ec804046a49c": {
       "attrs": {
        "height": 0.8,
        "width": 0.8,
        "x": 0.1,
        "y": 0.1
       },
       "content": {
        "cell": "ab659790-4f2a-4bc7-bbea-20c700cbd263",
        "part": "whole"
       },
       "id": "b8d914c2-4abf-4562-a19b-ec804046a49c"
      }
     }
    },
    "ba2b0e25-4f0a-4685-8d6b-83ee7e6f9efb": {
     "id": "ba2b0e25-4f0a-4685-8d6b-83ee7e6f9efb",
     "prev": "2818f3b6-c25a-49a4-8b39-e24831013a24",
     "regions": {
      "0083d57a-6afb-4df2-80d8-8f077d95f89e": {
       "attrs": {
        "height": 0.8,
        "width": 0.8,
        "x": 0.1,
        "y": 0.1
       },
       "content": {
        "cell": "5fdeed7c-9820-4e23-84f0-e7c6d373ea17",
        "part": "whole"
       },
       "id": "0083d57a-6afb-4df2-80d8-8f077d95f89e"
      }
     }
    },
    "bcba694d-502b-4434-bc66-0ff9a50384f9": {
     "id": "bcba694d-502b-4434-bc66-0ff9a50384f9",
     "prev": "2305dc82-3aeb-4607-b7ce-5fff42371e8a",
     "regions": {
      "6e4be38c-956c-4422-acf2-e0ad7d18465d": {
       "attrs": {
        "height": 0.8,
        "width": 0.8,
        "x": 0.1,
        "y": 0.1
       },
       "content": {
        "cell": "3d980a2a-de20-4b4b-9019-1dcc1cd9d159",
        "part": "whole"
       },
       "id": "6e4be38c-956c-4422-acf2-e0ad7d18465d"
      }
     }
    },
    "c4df77b7-2a4b-4de7-90f7-8f0fd3920a1f": {
     "id": "c4df77b7-2a4b-4de7-90f7-8f0fd3920a1f",
     "prev": "3a402575-9b4c-44ed-8461-caa3759371e1",
     "regions": {
      "91b30480-1e5b-4b53-84a5-b89f1c7449eb": {
       "attrs": {
        "height": 0.8,
        "width": 0.8,
        "x": 0.1,
        "y": 0.1
       },
       "content": {
        "cell": "d39c42cb-b8cf-4234-94d8-be470aec57c7",
        "part": "whole"
       },
       "id": "91b30480-1e5b-4b53-84a5-b89f1c7449eb"
      }
     }
    },
    "ca84d5f0-50d6-48ce-b162-5c569ba99363": {
     "id": "ca84d5f0-50d6-48ce-b162-5c569ba99363",
     "prev": "0b084f21-c9af-4c9c-b0bd-9c18cde29c2f",
     "regions": {
      "c0f35c24-4a3f-4ca1-9650-f74cc050c43d": {
       "attrs": {
        "height": 0.8,
        "width": 0.8,
        "x": 0.1,
        "y": 0.1
       },
       "content": {
        "cell": "794b31dc-36b2-47ed-a22a-2a8edd26fb8a",
        "part": "whole"
       },
       "id": "c0f35c24-4a3f-4ca1-9650-f74cc050c43d"
      }
     }
    },
    "dac347a0-95e4-4b99-985a-713338cde294": {
     "id": "dac347a0-95e4-4b99-985a-713338cde294",
     "prev": "85489c32-55fc-439b-9050-d83be0990067",
     "regions": {
      "7da71ee4-fb62-427a-99b5-66925b3f2377": {
       "attrs": {
        "height": 0.8,
        "width": 0.8,
        "x": 0.1,
        "y": 0.1
       },
       "content": {
        "cell": "7a24cd6d-0f2b-4c8a-a325-2bc517417e18",
        "part": "whole"
       },
       "id": "7da71ee4-fb62-427a-99b5-66925b3f2377"
      }
     }
    },
    "df961cf0-cef3-472f-9b79-a23c3296f487": {
     "id": "df961cf0-cef3-472f-9b79-a23c3296f487",
     "prev": "e1332b3b-06f0-4fd4-83fc-8dcfa0559b9b",
     "regions": {
      "0185e87e-9bbf-4c7f-af23-075cdebbcf3f": {
       "attrs": {
        "height": 0.8,
        "width": 0.8,
        "x": 0.1,
        "y": 0.1
       },
       "content": {
        "cell": "2afed7fb-9073-4ce7-8c21-c929a4217ab7",
        "part": "whole"
       },
       "id": "0185e87e-9bbf-4c7f-af23-075cdebbcf3f"
      }
     }
    },
    "e1332b3b-06f0-4fd4-83fc-8dcfa0559b9b": {
     "id": "e1332b3b-06f0-4fd4-83fc-8dcfa0559b9b",
     "prev": null,
     "regions": {
      "cafac30d-b022-4d36-a450-b455577b68da": {
       "attrs": {
        "height": 0.8,
        "width": 0.8,
        "x": 0.1,
        "y": 0.1
       },
       "content": {
        "cell": "e4076734-b645-49fb-b5ab-c1dccc82e34f",
        "part": "whole"
       },
       "id": "cafac30d-b022-4d36-a450-b455577b68da"
      }
     }
    },
    "f42c7a3a-932a-4753-98c8-c70bb16897b1": {
     "id": "f42c7a3a-932a-4753-98c8-c70bb16897b1",
     "prev": "61c893d7-7112-4d45-820c-a16175617ad0",
     "regions": {
      "35246bc2-8ec0-42cf-bb95-261a61951218": {
       "attrs": {
        "height": 0.8,
        "width": 0.8,
        "x": 0.1,
        "y": 0.1
       },
       "content": {
        "cell": "22ae1495-9b99-4cd6-bb5d-2008328029db",
        "part": "whole"
       },
       "id": "35246bc2-8ec0-42cf-bb95-261a61951218"
      }
     }
    },
    "f533f478-1ac7-4a88-8616-eef80b184615": {
     "id": "f533f478-1ac7-4a88-8616-eef80b184615",
     "prev": "05815cec-28ba-43e6-bd5f-247383b1f475",
     "regions": {
      "c120c74e-0b0c-4e12-bfc0-b4bc209886ed": {
       "attrs": {
        "height": 0.8,
        "width": 0.8,
        "x": 0.1,
        "y": 0.1
       },
       "content": {
        "cell": "25eabb67-af9f-4fcb-a290-cc200d39978a",
        "part": "whole"
       },
       "id": "c120c74e-0b0c-4e12-bfc0-b4bc209886ed"
      }
     }
    },
    "fa6d3a2c-2552-48da-b8b1-ba9064bbaf69": {
     "id": "fa6d3a2c-2552-48da-b8b1-ba9064bbaf69",
     "prev": "1739631f-0699-4d35-813c-a378348ff151",
     "regions": {
      "21073e84-13fc-4e8b-ad68-de0d28ea42f7": {
       "attrs": {
        "height": 0.8,
        "width": 0.8,
        "x": 0.1,
        "y": 0.1
       },
       "content": {
        "cell": "b908792f-9250-4b15-a41e-1a68f2db1b12",
        "part": "whole"
       },
       "id": "21073e84-13fc-4e8b-ad68-de0d28ea42f7"
      }
     }
    },
    "fe26adcf-9612-482e-9e7a-c0a8e787a770": {
     "id": "fe26adcf-9612-482e-9e7a-c0a8e787a770",
     "prev": "f533f478-1ac7-4a88-8616-eef80b184615",
     "regions": {
      "70393965-dff3-4e83-81b8-05f2e10eb88f": {
       "attrs": {
        "height": 0.8,
        "width": 0.8,
        "x": 0.1,
        "y": 0.1
       },
       "content": {
        "cell": "43385e4c-5e03-43ad-971f-1d5252bd2f02",
        "part": "whole"
       },
       "id": "70393965-dff3-4e83-81b8-05f2e10eb88f"
      }
     }
    }
   },
   "themes": {}
  },
  "widgets": {
   "state": {
    "0039da0e23d0424782e971125e79529c": {
     "views": []
    },
    "00fd93288c5e41b7a28e165a504e199e": {
     "views": []
    },
    "0172165cbfa14a32802ae2eea53fab60": {
     "views": []
    },
    "0305702f3fa545e389a1fae09ef410f1": {
     "views": []
    },
    "04fe054dd5834a988162c462e669545a": {
     "views": []
    },
    "04ff1c3a925444c6b2adb1dc343194be": {
     "views": []
    },
    "06f9dd3cf2df4ddea25521cd8f9c966c": {
     "views": []
    },
    "07a7c7316a8b496b8c776adb3ae9e1b9": {
     "views": []
    },
    "07e773e8c35b4a3c8522a50c990fc7a1": {
     "views": []
    },
    "0843230ee6e147b2b7bced7bec1edf65": {
     "views": []
    },
    "08dedb3e736940719ceff4c2bbf979f6": {
     "views": []
    },
    "098ec3fd7c96444697b177d7bdc2932d": {
     "views": []
    },
    "0a095305bc534a6c823cac9b08e6f379": {
     "views": []
    },
    "0a974990e5fd4383a292f058893b98dc": {
     "views": []
    },
    "0b44d2446ee74a23894310a3dec3773c": {
     "views": []
    },
    "0bfd1f3c8b19409d8a81188f3a184c19": {
     "views": []
    },
    "0cc8e8d899db4e3689811c68e8d835b9": {
     "views": []
    },
    "0cdb85f1735f4eae86c653ee3d15ac16": {
     "views": []
    },
    "0fe362c11d4e4f4eb9b226a7b459f8c1": {
     "views": []
    },
    "111e67c3d48a4a8680ba0c6f2e3c4a4d": {
     "views": []
    },
    "120855a2303f4269860fc4c035380a47": {
     "views": []
    },
    "12342cf3a17a4426bf8e546f8c80aee5": {
     "views": []
    },
    "123adf044b1d4f3a8bbe8b55ced335b2": {
     "views": []
    },
    "130290ce515d401fbe2312396ee1ffa8": {
     "views": []
    },
    "1407dcd2be92486bab3f2fa7e5d846fe": {
     "views": []
    },
    "1548b03c759d4a84b6f83d69b1c32176": {
     "views": []
    },
    "181bc4b482d548af87e9eb17bf04bba3": {
     "views": []
    },
    "185e09fdf0c041a2b48e805f3a75abd4": {
     "views": []
    },
    "1a300ec8c1af4b5baed9fc2c3288e3f6": {
     "views": []
    },
    "1c051327c99949268ebca628fe75dc73": {
     "views": []
    },
    "1db450edeed04906bd71f13c359f7a63": {
     "views": []
    },
    "1e3e4a82d43a4537b3c241eae82d7723": {
     "views": []
    },
    "1eaf991587f545c1834184b151c3b88e": {
     "views": []
    },
    "1f51cbb401af49a092d7e7a515836bfa": {
     "views": []
    },
    "1fe4c369153b4ee98c08a99f44cbc06c": {
     "views": []
    },
    "23445ce07bf3486ba580380519164c64": {
     "views": []
    },
    "2475a7b2b44d426dae10b36e6a1486ee": {
     "views": []
    },
    "262ff0dd8e0e4d698b6653437a5dd701": {
     "views": []
    },
    "2633a353a9004f95abd0c25685fa1a47": {
     "views": []
    },
    "26dc539d444343079539ceecb95ad98a": {
     "views": []
    },
    "28fc7ab551af4a4a96b0b983bb97b267": {
     "views": []
    },
    "2ce7e17047c344c7b3c40f930d3139b2": {
     "views": []
    },
    "2cffdf01e3d6471990e5403cb4493fb9": {
     "views": []
    },
    "2d76bb32b3d442a78aa16b332c9b4364": {
     "views": []
    },
    "2e3d472cbef141b8bbb0ed8496a4c3b1": {
     "views": []
    },
    "33310b9aba5840aa96bb54854220c70d": {
     "views": []
    },
    "338ed86d903d46e097ecebc98512e2f2": {
     "views": []
    },
    "33a34c40482a4ca5b6ed7f89becc2e52": {
     "views": []
    },
    "345104d21c064eb8906b8ebeba7e2cb5": {
     "views": []
    },
    "3465e98ba3584e81ba193f1fc4f1618d": {
     "views": []
    },
    "34ef634d006f44b88cb8a6dcd67439b2": {
     "views": []
    },
    "353a20e3c1004ff78636d4a8368cb3cf": {
     "views": []
    },
    "3965c3affe254924a76e08de406c6100": {
     "views": []
    },
    "3971cf7654aa410db3ee00018a25d3a6": {
     "views": []
    },
    "3a92da2d83754fe3bc54a28c46fb0825": {
     "views": []
    },
    "3b54c41ab3eb4d6a8221ebf5508a31a4": {
     "views": []
    },
    "3cbdbf8303be46c88297abed56b7fd4e": {
     "views": []
    },
    "3cd1ef886cc143268f896015cac6d39b": {
     "views": []
    },
    "3ce337402438478a891ff12afd6d2ff7": {
     "views": []
    },
    "3d47be08c86a46c8b5d17004c4633ae8": {
     "views": []
    },
    "3d9caf91d8b2448e8b17cf4f4e1dd9a8": {
     "views": []
    },
    "3e714704e6724a25b762f11e4984c21a": {
     "views": []
    },
    "3f5848930a3f4c05beaa4f65b5b0a73f": {
     "views": []
    },
    "403eebeb472e4074a89431e5816dfd0d": {
     "views": []
    },
    "40acbf1005374c4fb00d063871ad7a3f": {
     "views": []
    },
    "40d5b86d25b048dba62e7a35b7c11ea2": {
     "views": []
    },
    "4300ebcdec284da680221bb0383ee70b": {
     "views": []
    },
    "453d9443710044cfa7adc5abc491c339": {
     "views": [
      {
       "cell_index": 46
      }
     ]
    },
    "458dffd6488c41f08c3b7915f0afe036": {
     "views": []
    },
    "4a0c0560490845c2a29749578db7cd6d": {
     "views": []
    },
    "4a20d1f3ffac4a13b9f1d80babbc63fb": {
     "views": []
    },
    "4c07dde1ada84ee7963bf54bea18044a": {
     "views": []
    },
    "4cb08542a7254969aa0aadffa80f8f5d": {
     "views": []
    },
    "4d222e79e0094e1bbe493fd37fd38320": {
     "views": []
    },
    "4d8cabeda98a4fd2b5139fb811310554": {
     "views": []
    },
    "4dbdae3e591a48988916ac76af1d05b6": {
     "views": []
    },
    "4ec50543b80f42cdb38cfad0138cbf5c": {
     "views": []
    },
    "4f7bfeca1c204f839c6b9c5941060b06": {
     "views": []
    },
    "53949df960f249b483eb41f3bf4c1e5c": {
     "views": []
    },
    "5407a8889ac4449ba4a2abf43c79d843": {
     "views": []
    },
    "552a9b0e31e940698310b9d498b8596e": {
     "views": []
    },
    "55d2911cbdaa43129b88f109ec7620d9": {
     "views": []
    },
    "55d66f2dd5a0415d858ebab1197767ad": {
     "views": []
    },
    "58d21e15d14d4eafa4df80aa5b276206": {
     "views": []
    },
    "590cd58bea494ea48c4e4d3fe2844039": {
     "views": []
    },
    "5987567fb54a4d01a0732d4de2299c15": {
     "views": []
    },
    "5a3226de72bf462d946da90a40b80859": {
     "views": []
    },
    "5b4a031b656143f789ac06e7289efeac": {
     "views": []
    },
    "5ce303a98313423393b843eed0c3b15e": {
     "views": []
    },
    "5e1e48a5ee5045ea8087892c347348d1": {
     "views": []
    },
    "5f18fa7057c2471bb2ce169582805873": {
     "views": []
    },
    "5f46a2c2e11e43889f045ac50bf95866": {
     "views": []
    },
    "5f6b00bc38ef43c097b2171e3520aa33": {
     "views": []
    },
    "6100b2b6a7614976a30fc3191cfd08a3": {
     "views": []
    },
    "6579c409333b4de39ca72203f2409966": {
     "views": []
    },
    "65d733e094d64408b5c4401e2f7d68f7": {
     "views": []
    },
    "65da893e57da446ea7457f9501c9b845": {
     "views": []
    },
    "67ee5623cd5548c09ba6914352178bcd": {
     "views": []
    },
    "68c96c59eff548bd8acd70bffb31b6aa": {
     "views": []
    },
    "6b34c14d7e364bdc97724e1d602a8f0a": {
     "views": []
    },
    "6c0f35003cac4c91bfdb49cacfbed3b9": {
     "views": []
    },
    "6f2b68688a054f5e92819ade03c6d4fd": {
     "views": []
    },
    "70b76da0c6bc47fb854988aaac103be1": {
     "views": []
    },
    "7316dc694f60406a9a11c3918e191656": {
     "views": []
    },
    "739ba7ac9dda41589ad2552dbaffe287": {
     "views": []
    },
    "7483fbf36e3c44ba8993b4a918a5d548": {
     "views": []
    },
    "755212d8fd39444eb95b931824c0d818": {
     "views": []
    },
    "75f2f8821f0b495c8f8c042378c36d95": {
     "views": []
    },
    "774a4fdac17348348f6ce0804a4909ce": {
     "views": []
    },
    "791c1afea7e04af88852735d1adeb171": {
     "views": []
    },
    "799521a0f9d748218e12ee4446bbbf34": {
     "views": []
    },
    "7a82f37b21af46a0ae4ab751d13b2aa3": {
     "views": []
    },
    "7c6c3435097046609e8c7f8f42771b13": {
     "views": []
    },
    "7e678a84ef834ad185e5185419fcc7da": {
     "views": []
    },
    "8049e0b1b38b4eb284009000f5a74333": {
     "views": []
    },
    "80c32b2608e142c98dba14250919ff3f": {
     "views": []
    },
    "829b965194ce420b96ec83cedba0ed25": {
     "views": []
    },
    "842d2269260b4304ae8dd91935400ce3": {
     "views": []
    },
    "86121b77ce514447a9f5b84df13d85f7": {
     "views": []
    },
    "861bb7f7274340d3bbea68d587fa2a1f": {
     "views": []
    },
    "86b758a7f0c143048a7e0b7c81747903": {
     "views": []
    },
    "885b79145fe4461896e1a44c6454f008": {
     "views": []
    },
    "887deab6e76e4e2aaaf982cf4d71166e": {
     "views": []
    },
    "891be7bad49f4d09a70e56d4f28d754c": {
     "views": []
    },
    "8a45d9e2ee34463a8964b712fa58610d": {
     "views": []
    },
    "8a4d5deb018445ba822df58675f1310e": {
     "views": []
    },
    "8cd21b6e84de4417ba5ed5fe583a1692": {
     "views": []
    },
    "8df85100b547464c80831259bcc341c1": {
     "views": []
    },
    "9640a622a98542b89721839d4720ce58": {
     "views": []
    },
    "986f82ef41e442808e56d86a31733f9c": {
     "views": []
    },
    "9d02db8b897d443f8db2e745090f3307": {
     "views": []
    },
    "9de311b369c24270851a96f64752f5a5": {
     "views": []
    },
    "9f5f79ff188643f4b2ba61f97c7da379": {
     "views": []
    },
    "a0128a95ac51434eafee9f5f2e29144b": {
     "views": [
      {
       "cell_index": 44
      }
     ]
    },
    "a234ac137a184767a8cf38f251da921a": {
     "views": []
    },
    "a580053b14b34b55826bf1d814a62b1b": {
     "views": []
    },
    "a5d329e74f034dcd99e967d8c609b175": {
     "views": []
    },
    "a9ba90f7f84d42648bcf42bf471835e8": {
     "views": []
    },
    "aab8eea05b8b45849288d2c8f929ae84": {
     "views": []
    },
    "ab9302838b1242a5a50d2aed014fa85a": {
     "views": []
    },
    "ab9d2ffd2d3f4866bef4dbf4b1642c59": {
     "views": []
    },
    "abf96214b34441e885dc2f082b82c862": {
     "views": []
    },
    "ac03742b0b0a43019ddf7710d0cdc8f0": {
     "views": []
    },
    "acc8a318fba04a9a9c8732907e9f8abf": {
     "views": []
    },
    "ad14ab2e551a41d6ba52c8fdfc69b628": {
     "views": []
    },
    "ad4b295ccce24ed3ac9ba816cf5ea11d": {
     "views": []
    },
    "ad63e8c0ec294f4a922addc21f6bf65d": {
     "views": []
    },
    "ad89cf45f6374454aa6b03d16df04c92": {
     "views": []
    },
    "ad93870168c44ba083b058e0939df4af": {
     "views": []
    },
    "afd571b882b04404b1988a92f4f9822c": {
     "views": []
    },
    "afdd57565f904648a08101125d758717": {
     "views": []
    },
    "b05fb2110471435c825d4fc386e73e3c": {
     "views": []
    },
    "b155ba02b1ed47abaab3c8f9f5df552f": {
     "views": []
    },
    "b1fd2361065f4e3f9f4fa7c1c61989d0": {
     "views": []
    },
    "b206699915964326b5f6ccb5025e539f": {
     "views": []
    },
    "b2aef764a2e54aceb427b2df9e363dff": {
     "views": []
    },
    "b2ef6971ad5a4817a9ff1b8d33bb6e8a": {
     "views": []
    },
    "b4029652184942b5bb5e4dc9e8775b4c": {
     "views": []
    },
    "b4137895e42d4802b1c30c0f324d67d8": {
     "views": []
    },
    "b5a675dfa1ae4387a8eeffae7ce64211": {
     "views": []
    },
    "b71e5e1f29af46dea07f5df31326061a": {
     "views": []
    },
    "b786ba0a2af24de8a80a15dac2f57707": {
     "views": []
    },
    "b8a5b5522cd248078b67f90b2a0705b9": {
     "views": []
    },
    "b9c1e3d86bea471587e63588909fbaf1": {
     "views": []
    },
    "bb7c509f46a3476dbaccd00c085e2fb1": {
     "views": []
    },
    "bbab39bbd5d54e31aaf530ddb0ec38df": {
     "views": []
    },
    "bd189969d1e4435bb8a9e2285125e136": {
     "views": []
    },
    "bd3b069b174c4b67b36f727e305e2ecf": {
     "views": []
    },
    "c064967d2f3a40da83967bcf257d4266": {
     "views": []
    },
    "c0df99d8ed534ca193c67973dca2bd2e": {
     "views": []
    },
    "c15b82716a3e4a1ebe3e47cc467050a9": {
     "views": []
    },
    "c19f91c06bd04472bcc1f67117832de6": {
     "views": []
    },
    "c239945911f34545bb2c1bed85f3c321": {
     "views": []
    },
    "c4ebb60dc13747af94af5c62d268508d": {
     "views": []
    },
    "c5789d4e88dd44828bf5bc88ddf0b039": {
     "views": []
    },
    "c9d9aba21ace48acbf83fabf3e5bf7c4": {
     "views": []
    },
    "ca4f513056c24d0e98ba45677cbd0e6b": {
     "views": []
    },
    "cdbd65efbce84ab2946476720a04fb1f": {
     "views": []
    },
    "cefbc9144be6403aa3a9b0e4107c1beb": {
     "views": []
    },
    "cfcde5e5776449e9be60b3b093132b0a": {
     "views": []
    },
    "d0e2ec71a46e4d1d985f096023c48ae6": {
     "views": []
    },
    "d0ea87a8bdee4e7693e91d81dbf37a8a": {
     "views": []
    },
    "d12ca89cee4f47a290af88625c873ae4": {
     "views": []
    },
    "d35eab19feee42de9753ee0781f2dcf5": {
     "views": []
    },
    "d3690fd9a91741c698394e7b7cc0b550": {
     "views": []
    },
    "d4682095b5284605b6855e85399963ea": {
     "views": []
    },
    "d8ee40b349284852a2e9b32ae5db0dd0": {
     "views": []
    },
    "d9e6da259f5b4c1f98d6d709128040e3": {
     "views": []
    },
    "d9fc62b88ef94abf95cee27b0166a716": {
     "views": []
    },
    "da1e163b9f6f404b87522d0ee227bb53": {
     "views": []
    },
    "daf0b4e43d73442a9bfa1c39a89f8d7f": {
     "views": []
    },
    "db4fa5441da94061b04999c593e54bc9": {
     "views": []
    },
    "dc4c8bea9c7045d8b3c7ee693e92be9a": {
     "views": []
    },
    "dc8db177c9aa44e8a4c5dd895cfd5771": {
     "views": []
    },
    "ddea609030cc4e96af3866c66c274377": {
     "views": []
    },
    "ded4029b5f5b4caaaa3372a241861a5c": {
     "views": []
    },
    "df2296dc3f974589bdaaa81cc6d549a3": {
     "views": []
    },
    "e04851cb9fac4680aa98dc578bec1af5": {
     "views": []
    },
    "e09310294b444dd9b4d199a75296e2db": {
     "views": []
    },
    "e13c345846754b94bc681ad4e341d205": {
     "views": []
    },
    "e1bba1f21650429e8c48f24e8940d891": {
     "views": []
    },
    "e3c4dd0cd3874e5fbd1e8a6a92e5b68a": {
     "views": []
    },
    "e5367fe2eae14f68b683fbec861b10dc": {
     "views": []
    },
    "e644bf44a6894e0a9a79c05abd339470": {
     "views": []
    },
    "e885a28ff00f429bbf18bc838d54be6b": {
     "views": []
    },
    "e8db51672bbb4329895e3eba7a86fdae": {
     "views": []
    },
    "e9aa3df05961466aa50f961bef29f31f": {
     "views": []
    },
    "eace203c90c3482e803dd3d511ac7f92": {
     "views": []
    },
    "eacf53209cae48e2a771987969deaa5f": {
     "views": []
    },
    "ee42f17cef0246d38e13a4b71569d6f8": {
     "views": []
    },
    "ef2b2f7764ce4888a16eccd47f443269": {
     "views": []
    },
    "eff10ea85c8949c091aedeb748007905": {
     "views": []
    },
    "f117a05161214d6197a5ba2aed3470ad": {
     "views": []
    },
    "f52418e20a904922be9607c736b603fc": {
     "views": []
    },
    "f6d45a1dc06a4e5cb32f25c25948b456": {
     "views": []
    },
    "f70493f439384b42933278546a036933": {
     "views": []
    },
    "f9e57fe1ae69420a9965719b14a48201": {
     "views": []
    },
    "fc57e2b9a5fc46f4bcc9da86689ce455": {
     "views": []
    },
    "fc58530dec454b87a66104c41dfcca98": {
     "views": []
    },
    "fcbcfc7348e140f8ac50dc378414a243": {
     "views": []
    }
   },
   "version": "1.1.2"
  }
 },
 "nbformat": 4,
 "nbformat_minor": 0
}

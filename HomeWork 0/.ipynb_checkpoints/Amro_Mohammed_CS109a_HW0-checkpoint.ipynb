{
 "cells": [
  {
   "cell_type": "markdown",
   "metadata": {},
   "source": [
    "# CS 109A Data Science: Homework 0b : Mohammed Amro\n",
    "**Harvard University**<br>\n",
    "**Fall 2016**<br>\n",
    "**Instructors: W. Pan, P. Protopapas, K. Rader**"
   ]
  },
  {
   "cell_type": "markdown",
   "metadata": {},
   "source": [
    "# Import libraries"
   ]
  },
  {
   "cell_type": "code",
   "execution_count": null,
   "metadata": {
    "collapsed": false
   },
   "outputs": [],
   "source": [
    "import numpy as np\n",
    "import matplotlib\n",
    "import matplotlib.pyplot as plt\n",
    "import random\n",
    "from mpl_toolkits.mplot3d import Axes3D\n",
    "from bs4 import BeautifulSoup\n",
    "import urllib\n",
    "%matplotlib inline\n"
   ]
  },
  {
   "cell_type": "markdown",
   "metadata": {},
   "source": [
    "## Problem 1: Processing Tabular Data from File\n",
    "\n",
    "In this problem, we practice reading csv formatted data and doing some very simple data exploration."
   ]
  },
  {
   "cell_type": "markdown",
   "metadata": {},
   "source": [
    "### Part (a): Reading CSV Data with Numpy\n",
    "\n",
    "Open the file $\\mathtt{dataset}$\\_$\\mathtt{HW0.txt}$, containing birth biometrics as well as maternal data for a number of U.S. births, and inspect the csv formatting of the data. Load the data, without the column headers, into an numpy array. \n",
    "\n",
    "Do some preliminary explorations of the data by printing out the dimensions as well as the first three rows of the array. Finally, for each column, print out the range of the values. \n",
    "\n",
    "<b>Prettify your output</b>, add in some text and formatting to make sure your outputs are readable (e.g. \"36x4\" is less readable than \"array dimensions: 36x4\")."
   ]
  },
  {
   "cell_type": "code",
   "execution_count": 8,
   "metadata": {
    "collapsed": false
   },
   "outputs": [
    {
     "name": "stdout",
     "output_type": "stream",
     "text": [
      "Bitrh Data dimensions   :  (400L, 3L)\n",
      "First three rows        : \n",
      "[[  2.9694893    1.97915605  16.        ]\n",
      " [  4.03896294   3.5556812   16.        ]\n",
      " [  5.30264328   3.3856329   15.        ]]\n",
      "Range of birth weight   :  2.96742562601 9.02194194628\n",
      "Range of femure length  :  0.479154166011 6.64873007157\n",
      "Range of mother age     :  15.0 49.0\n"
     ]
    }
   ],
   "source": [
    "import numpy as np\n",
    "\n",
    "# Read dataset_HW0.txt into birth_data var without column headers (skiprows =1)\n",
    "birth_data = np.loadtxt('dataset_HW0.txt',delimiter=',',skiprows=1)\n",
    "\n",
    "\n",
    "# printing out the dimensions\n",
    "print 'Bitrh Data dimensions   : ', birth_data.shape\n",
    "\n",
    "print 'First three rows        : ' \n",
    "print  birth_data[0:3,:]\n",
    "\n",
    "print 'Range of birth weight   : ', np.min(birth_data[:,0]) , np.max(birth_data[:,0])\n",
    "print 'Range of femure length  : ', np.min(birth_data[:,1]) , np.max(birth_data[:,1])\n",
    "print 'Range of mother age     : ', np.min(birth_data[:,2]) , np.max(birth_data[:,2])\n",
    "\n",
    " "
   ]
  },
  {
   "cell_type": "markdown",
   "metadata": {},
   "source": [
    "### Part (b): Simple Data Statistics\n",
    "\n",
    "Compute the mean birth weight and mean femur length for the entire dataset. Now, we want to split the birth data into three groups based on the mother's age:\n",
    "\n",
    "1. Group I: ages 0-17\n",
    "2. Group II: ages 18-34\n",
    "3. Group III: ages 35-50\n",
    "\n",
    "For each maternal age group, compute the mean birth weight and mean femure length. \n",
    "\n",
    "<b>Prettify your output.</b>\n",
    "\n",
    "Compare the group means with each other and with the overall mean, what can you conclude?"
   ]
  },
  {
   "cell_type": "code",
   "execution_count": 39,
   "metadata": {
    "collapsed": false
   },
   "outputs": [
    {
     "name": "stdout",
     "output_type": "stream",
     "text": [
      "mean birth weight    : 6.10407017286\n",
      "mean femure length   : 3.82759083154\n",
      "mean mother age      : 27.06\n",
      "Group 1 from  0 to 17 :  mean birth weight : 5.16889979912  ---  mean femure lenght :  3.50680640853\n",
      "Group 2 from 18 to 34 :  mean birth weight : 6.70536363695  ---  mean femure lenght :  4.0043330551\n",
      "Group 3 from 35 to 50 :  mean birth weight : 5.83665361844  ---  mean femure lenght :  3.79489080744\n"
     ]
    }
   ],
   "source": [
    "print 'mean birth weight    :' , np.mean(birth_data[:,0])\n",
    "print 'mean femure length   :' , np.mean(birth_data[:,1])\n",
    "print 'mean mother age      :' , np.mean(birth_data[:,2])\n",
    "mother_age = birth_data[:,2]\n",
    "mother_age_group1= birth_data[(birth_data[:,2] >= 0) & (birth_data[:,2] <= 17)]\n",
    "mother_age_group2= birth_data[(birth_data[:,2] >= 18) & (birth_data[:,2] <= 34)]\n",
    "mother_age_group3= birth_data[(birth_data[:,2] >= 35) & (birth_data[:,2] <= 50)]\n",
    "print 'Group 1 from  0 to 17 :  mean birth weight :', np.mean(mother_age_group1[:,0]),' ---  mean femure lenght : ' , np.mean(mother_age_group1[:,1])\n",
    "print 'Group 2 from 18 to 34 :  mean birth weight :', np.mean(mother_age_group2[:,0]),' ---  mean femure lenght : ' , np.mean(mother_age_group2[:,1])\n",
    "print 'Group 3 from 35 to 50 :  mean birth weight :', np.mean(mother_age_group3[:,0]),' ---  mean femure lenght : ' , np.mean(mother_age_group3[:,1])"
   ]
  },
  {
   "cell_type": "markdown",
   "metadata": {},
   "source": [
    "**Compare the group means with each other and with the overall mean, what can you conclude?**\n",
    "\n",
    "Group mean =  6.1 while the mean for each group very from 5.1,6.7, and 5.8 , the thrid group is much closer to the whole mean"
   ]
  },
  {
   "cell_type": "markdown",
   "metadata": {},
   "source": [
    "### Part (c): Simple Data Visualization\n",
    "\n",
    "Visualize the data using a 3-D scatter plot. How does your visual analysis compare with the stats you've computed in Part (b)?"
   ]
  },
  {
   "cell_type": "code",
   "execution_count": 9,
   "metadata": {
    "collapsed": false
   },
   "outputs": [
    {
     "data": {
      "image/png": "[encoded data removed]",
      "text/plain": [
       "<matplotlib.figure.Figure at 0x7e49a90>"
      ]
     },
     "metadata": {},
     "output_type": "display_data"
    }
   ],
   "source": [
    "import numpy as np\n",
    "%matplotlib inline\n",
    "from mpl_toolkits.mplot3d import Axes3D\n",
    "import matplotlib.pyplot as plt\n",
    "\n",
    "\n",
    "fig = plt.figure()\n",
    "ax = fig.add_subplot(111, projection='3d')\n",
    "ax.scatter(birth_data[:,0], birth_data[:,1], birth_data[:,2], color='Red'  )\n",
    "\n",
    "ax.set_title('3D Scatter Plot')\n",
    "ax.set_xlabel('birth weight')\n",
    "ax.set_ylabel('femure length')\n",
    "ax.set_zlabel('mother age')\n",
    "\n",
    "\n",
    "plt.show()"
   ]
  },
  {
   "cell_type": "markdown",
   "metadata": {},
   "source": [
    "### Part (d): Simple Data Visualization (Continued)\n",
    "\n",
    "Visualize two data attributes at a time,\n",
    "\n",
    "1. maternal age against birth weight\n",
    "2. maternal age against femur length\n",
    "3. birth weight against femur length\n",
    "\n",
    "using 2-D scatter plots.\n",
    "\n",
    "Compare your visual analysis with your analysis from Part (b) and (c)."
   ]
  },
  {
   "cell_type": "markdown",
   "metadata": {},
   "source": [
    "**1. maternal age against birth weight**"
   ]
  },
  {
   "cell_type": "code",
   "execution_count": null,
   "metadata": {
    "collapsed": true
   },
   "outputs": [],
   "source": []
  },
  {
   "cell_type": "code",
   "execution_count": 23,
   "metadata": {
    "collapsed": false
   },
   "outputs": [
    {
     "data": {
      "image/png": "[encoded data removed]",
      "text/plain": [
       "<matplotlib.figure.Figure at 0x9c452e8>"
      ]
     },
     "metadata": {},
     "output_type": "display_data"
    }
   ],
   "source": [
    "import numpy as np\n",
    "%matplotlib inline\n",
    "from mpl_toolkits.mplot3d import Axes3D\n",
    "import matplotlib.pyplot as plt\n",
    "plt.scatter(birth_data[:,2], birth_data[:,1])\n",
    "# Sets x-axis\n",
    "plt.xlabel('Maternal age ')\n",
    "\n",
    "# Sets y-axis\n",
    "plt.ylabel('Birth Weight')\n",
    "\n",
    "# Sets title\n",
    "plt.title(\"Maternal age against Birth Weight\")\n",
    "plt.show()\n",
    "plt.show()"
   ]
  },
  {
   "cell_type": "markdown",
   "metadata": {},
   "source": [
    "**2. maternal age against femur length**"
   ]
  },
  {
   "cell_type": "code",
   "execution_count": 22,
   "metadata": {
    "collapsed": false
   },
   "outputs": [
    {
     "data": {
      "image/png": "[encoded data removed]",
      "text/plain": [
       "<matplotlib.figure.Figure at 0x8328f98>"
      ]
     },
     "metadata": {},
     "output_type": "display_data"
    }
   ],
   "source": [
    "import numpy as np\n",
    "%matplotlib inline\n",
    "from mpl_toolkits.mplot3d import Axes3D\n",
    "import matplotlib.pyplot as plt\n",
    "plt.scatter(birth_data[:,2], birth_data[:,1])\n",
    "# Sets x-axis\n",
    "plt.xlabel('Maternal age ')\n",
    "\n",
    "# Sets y-axis\n",
    "plt.ylabel('Femur lenght')\n",
    "\n",
    "# Sets title\n",
    "plt.title(\"Maternal age against femur length\")\n",
    "plt.show()"
   ]
  },
  {
   "cell_type": "markdown",
   "metadata": {},
   "source": [
    "**3. birth weight against femur length**"
   ]
  },
  {
   "cell_type": "code",
   "execution_count": 21,
   "metadata": {
    "collapsed": false
   },
   "outputs": [
    {
     "data": {
      "image/png": "[encoded data removed]",
      "text/plain": [
       "<matplotlib.figure.Figure at 0x8342470>"
      ]
     },
     "metadata": {},
     "output_type": "display_data"
    }
   ],
   "source": [
    "import numpy as np\n",
    "%matplotlib inline\n",
    "from mpl_toolkits.mplot3d import Axes3D\n",
    "import matplotlib.pyplot as plt\n",
    "plt.scatter(birth_data[:,0], birth_data[:,1])\n",
    "\n",
    "# Adds the legend into plot\n",
    "# Sets x-axis\n",
    "plt.xlabel('Birth Weight')\n",
    "\n",
    "# Sets y-axis\n",
    "plt.ylabel('Femur lenght')\n",
    "\n",
    "# Sets title\n",
    "plt.title(\"birth weight against femur length\")\n",
    "plt.show()"
   ]
  },
  {
   "cell_type": "markdown",
   "metadata": {},
   "source": [
    "**Compare your visual analysis with your analysis from Part (b) and (c).**\n",
    "\n",
    "the relation between birth weight and Femur Lenght is close to be linear relationship"
   ]
  },
  {
   "cell_type": "markdown",
   "metadata": {},
   "source": [
    "### Part (e): More Data Visualization\n",
    "\n",
    "Finally, we want to visualize the data by maternal age group. Plot the data again using a 3-D scatter plot, this time, color the points in the plot according to the age group of the mother (e.g. use red, blue, green to represent group I, II and III respectively).\n",
    "\n",
    "Compare your visual analysis with your analysis from Part (a) - (c)."
   ]
  },
  {
   "cell_type": "code",
   "execution_count": 28,
   "metadata": {
    "collapsed": false
   },
   "outputs": [
    {
     "data": {
      "image/png": "[encoded data removed]",
      "text/plain": [
       "<matplotlib.figure.Figure at 0x83955c0>"
      ]
     },
     "metadata": {},
     "output_type": "display_data"
    }
   ],
   "source": [
    "import numpy as np\n",
    "%matplotlib inline\n",
    "from mpl_toolkits.mplot3d import Axes3D\n",
    "import matplotlib.pyplot as plt\n",
    "\n",
    "mother_age_group1= birth_data[(birth_data[:,2] >= 0) & (birth_data[:,2] <= 17)]\n",
    "mother_age_group2= birth_data[(birth_data[:,2] >= 18) & (birth_data[:,2] <= 34)]\n",
    "mother_age_group3= birth_data[(birth_data[:,2] >= 35) & (birth_data[:,2] <= 50)]\n",
    "\n",
    "fig = plt.figure()\n",
    "ax = fig.add_subplot(111, projection='3d')\n",
    "ax.scatter(mother_age_group1[:,0], mother_age_group1[:,1], mother_age_group1[:,2], color='Red'  )\n",
    "ax.scatter(mother_age_group2[:,0], mother_age_group2[:,1], mother_age_group2[:,2], color='Blue'  )\n",
    "ax.scatter(mother_age_group3[:,0], mother_age_group3[:,1], mother_age_group3[:,2], color='Green'  )\n",
    "\n",
    "            \n",
    "ax.set_title('3D Scatter Plot')\n",
    "ax.set_xlabel('birth weight')\n",
    "ax.set_ylabel('femure length')\n",
    "ax.set_zlabel('mother age')\n",
    "\n",
    "\n",
    "plt.show()"
   ]
  },
  {
   "cell_type": "markdown",
   "metadata": {},
   "source": [
    "** Compare your visual analysis with your analysis from Part (a) - (c).**\n",
    "\n",
    "the current 3D give more details then normal 3D figure without grouping"
   ]
  },
  {
   "cell_type": "markdown",
   "metadata": {},
   "source": [
    "## Problem 2: Processing Web Data\n",
    "\n",
    "In this problem we practice some basic web-scrapping using Beautiful Soup."
   ]
  },
  {
   "cell_type": "markdown",
   "metadata": {},
   "source": [
    "### Part (a): Opening and Reading Webpages\n",
    "\n",
    "Open and load the page (Kafka's The Metamorphosis) at \n",
    "\n",
    "$\\mathtt{http://www.gutenberg.org/files/5200/5200-h/5200-h.htm}$\n",
    "\n",
    "into a BeautifulSoup object. \n",
    "\n",
    "The object we obtain is a parse tree (a data structure representing all tags and relationship between tags) of the html file. To concretely visualize this object, print out the first 1000 characters of a representation of the parse tree using the $\\mathtt{prettify()}$ function."
   ]
  },
  {
   "cell_type": "code",
   "execution_count": 114,
   "metadata": {
    "collapsed": false
   },
   "outputs": [
    {
     "name": "stdout",
     "output_type": "stream",
     "text": [
      "<!DOCTYPE HTML PUBLIC \"-//W3C//DTD HTML 4.01 Transitional//EN\">\n",
      "<html>\n",
      " <head>\n",
      "  <title>\n",
      "   Metamorphosis by Franz Kafka\n",
      "  </title>\n",
      "  <meta content=\"text/html; charset=utf-8\" http-equiv=\"Content-Type\"/>\n",
      " </head>\n",
      " <body>\n",
      "  <pre>\r\n",
      "\r\n",
      "The Project Gutenberg EBook of Metamorphosis, by Franz Kafka\r\n",
      "Translated by David Wyllie.\r\n",
      "\r\n",
      "This eBook is for the use of anyone anywhere at no cost and with\r\n",
      "almost no restrictions whatsoever.  You may copy it, give it away or\r\n",
      "re-use it under the terms of the Project Gutenberg License included\r\n",
      "with this eBook or online at www.gutenberg.net\r\n",
      "\r\n",
      "** This is a COPYRIGHTED Project Gutenberg eBook, Details Below **\r\n",
      "**     Please follow the copyright guidelines in this file.     **\r\n",
      "\r\n",
      "\r\n",
      "Title: Metamorphosis\r\n",
      "\r\n",
      "Author: Franz Kafka\r\n",
      "\r\n",
      "Translator: David Wyllie\r\n",
      "\r\n",
      "Release Date: August 16, 2005 [EBook #5200]\r\n",
      "First posted: May 13, 2002\r\n",
      "Last updated: May 20, 2012\r\n",
      "\r\n",
      "Language: English\r\n",
      "\r\n",
      "Character set encoding: ISO-8859-1\r\n",
      "\r\n",
      "*** START OF THIS PROJECT GUTENBERG EBOOK ME\n"
     ]
    }
   ],
   "source": [
    "from bs4 import BeautifulSoup\n",
    "import urllib\n",
    "\n",
    "# Work on a local copy \n",
    "#url = \"http://www.gutenberg.org/files/5200/5200-h/5200-h.htm\"\n",
    "url = \"Metamorphosis.html\"\n",
    "\n",
    "page = urllib.urlopen(url).read()\n",
    "\n",
    "soup = BeautifulSoup(page)\n",
    "\n",
    "#print out the first 1000 characters of a representation of the parse tree using the  𝚙𝚛𝚎𝚝𝚝𝚒𝚏𝚢()prettify()  function.\n",
    "print soup.prettify()[0:1000]\n",
    "\n",
    "\n",
    "\n",
    "# not required code to Extracting all the URLs found within a page 'a' tags\n",
    "    #tags = soup('a')\n",
    "    #for tag in tags:\n",
    "        # print tag.get('href',None)\n",
    "\n",
    "#Extracting all the text from a page\n",
    "#print soup.get_text()\n",
    "\n",
    "\n",
    "\n",
    "\n",
    " "
   ]
  },
  {
   "cell_type": "markdown",
   "metadata": {},
   "source": [
    "### Part (b): Exploring the Parsed HTML\n",
    "\n",
    "Explore the nested data structure you obtain in Part (a) by printing out the following:\n",
    "\n",
    "1. the content of the head tag\n",
    "2. the text of the head tag\n",
    "3. each child of the head tag\n",
    "2. the text of the title tag\n",
    "3. the text of the preamble (pre) tag\n",
    "4. the text of the first paragraph (p) tag"
   ]
  },
  {
   "cell_type": "code",
   "execution_count": 115,
   "metadata": {
    "collapsed": false
   },
   "outputs": [
    {
     "name": "stdout",
     "output_type": "stream",
     "text": [
      "the content of the head tag [u'\\n', <title>Metamorphosis by Franz Kafka</title>, u'\\n', <meta content=\"text/html; charset=unicode-escape\" http-equiv=\"Content-Type\"/>, u'\\n']\n",
      "---------------------------------------------------------------------------------\n",
      "the text of the head tag \n",
      "Metamorphosis by Franz Kafka\n",
      "\n",
      "\n",
      "---------------------------------------------------------------------------------\n",
      "each child of the head tag <listiterator object at 0x00000000086C3A90>\n",
      "---------------------------------------------------------------------------------\n",
      "the text of the title tag Metamorphosis by Franz Kafka\n",
      "---------------------------------------------------------------------------------\n",
      "the text of the preamble (pre) tag Metamorphosis by Franz Kafka\n",
      "---------------------------------------------------------------------------------\n",
      "the text of the first paragraph (p) tag One morning, when Gregor Samsa woke from troubled dreams, he found\r\n",
      "himself transformed in his bed into a horrible vermin.  He lay on\r\n",
      "his armour-like back, and if he lifted his head a little he could\r\n",
      "see his brown belly, slightly domed and divided by arches into stiff\r\n",
      "sections.  The bedding was hardly able to cover it and seemed ready\r\n",
      "to slide off any moment.  His many legs, pitifully thin compared\r\n",
      "with the size of the rest of him, waved about helplessly as he\r\n",
      "looked.\n",
      "---------------------------------------------------------------------------------\n"
     ]
    }
   ],
   "source": [
    "#1- the content of the head tag\n",
    "print 'the content of the head tag', soup.head.contents\n",
    "print '---------------------------------------------------------------------------------'\n",
    "\n",
    "#2 - the text of the head tag\n",
    "print 'the text of the head tag', soup.head.get_text()\n",
    "print '---------------------------------------------------------------------------------'\n",
    "\n",
    "#3- each child of the head tag\n",
    "print 'each child of the head tag', soup.html.head.children\n",
    "print '---------------------------------------------------------------------------------'\n",
    "\n",
    "# 4- the text of the title tag\n",
    "print 'the text of the title tag',soup.title.get_text()\n",
    "print '---------------------------------------------------------------------------------'\n",
    "\n",
    "# 5- the text of the preamble (pre) tag\n",
    "print 'the text of the preamble (pre) tag', soup.head.title.get_text()\n",
    "print '---------------------------------------------------------------------------------'\n",
    " \n",
    "# 6- the text of the first paragraph (p) tag\n",
    "print 'the text of the first paragraph (p) tag', soup.p.get_text()\n",
    "print '---------------------------------------------------------------------------------'\n",
    "\n"
   ]
  },
  {
   "cell_type": "markdown",
   "metadata": {},
   "source": [
    "### Part (c): Extracting Text\n",
    "\n",
    "Now we want to extract the text of The Metamorphosis and do some simple analysis. Beautiful Soup provides a way to extract all text from a webpage via the $\\mathtt{get}$_$\\mathtt{text()}$ function. \n",
    "\n",
    "Print the first and last 5000 characters of the text returned by $\\mathtt{get}$_$\\mathtt{text()}$. Is this the content of the novela? Where is the content of The Metamorphosis stored in the BeautifulSoup object?"
   ]
  },
  {
   "cell_type": "code",
   "execution_count": 117,
   "metadata": {
    "collapsed": false
   },
   "outputs": [
    {
     "name": "stdout",
     "output_type": "stream",
     "text": [
      "\n",
      "Project Gutenberg-tm work, and (c) any Defect you cause.\r\n",
      "\r\n",
      "\r\n",
      "Section  2.  Information about the Mission of Project Gutenberg-tm\r\n",
      "\r\n",
      "Project Gutenberg-tm is synonymous with the free distribution of\r\n",
      "electronic works in formats readable by the widest variety of computers\r\n",
      "including obsolete, old, middle-aged and new computers.  It exists\r\n",
      "because of the efforts of hundreds of volunteers and donations from\r\n",
      "people in all walks of life.\r\n",
      "\r\n",
      "Volunteers and financial support to provide volunteers with the\r\n",
      "assistance they need, is critical to reaching Project Gutenberg-tm's\r\n",
      "goals and ensuring that the Project Gutenberg-tm collection will\r\n",
      "remain freely available for generations to come.  In 2001, the Project\r\n",
      "Gutenberg Literary Archive Foundation was created to provide a secure\r\n",
      "and permanent future for Project Gutenberg-tm and future generations.\r\n",
      "To learn more about the Project Gutenberg Literary Archive Foundation\r\n",
      "and how your efforts and donations can help, see Sections 3 and 4\r\n",
      "and the Foundation web page at http://www.pglaf.org.\r\n",
      "\r\n",
      "\r\n",
      "Section 3.  Information about the Project Gutenberg Literary Archive\r\n",
      "Foundation\r\n",
      "\r\n",
      "The Project Gutenberg Literary Archive Foundation is a non profit\r\n",
      "501(c)(3) educational corporation organized under the laws of the\r\n",
      "state of Mississippi and granted tax exempt status by the Internal\r\n",
      "Revenue Service.  The Foundation's EIN or federal tax identification\r\n",
      "number is 64-6221541.  Its 501(c)(3) letter is posted at\r\n",
      "http://pglaf.org/fundraising.  Contributions to the Project Gutenberg\r\n",
      "Literary Archive Foundation are tax deductible to the full extent\r\n",
      "permitted by U.S. federal laws and your state's laws.\r\n",
      "\r\n",
      "The Foundation's principal office is located at 4557 Melan Dr. S.\r\n",
      "Fairbanks, AK, 99712., but its volunteers and employees are scattered\r\n",
      "throughout numerous locations.  Its business office is located at\r\n",
      "809 North 1500 West, Salt Lake City, UT 84116, (801) 596-1887, email\r\n",
      "business@pglaf.org.  Email contact links and up to date contact\r\n",
      "information can be found at the Foundation's web site and official\r\n",
      "page at http://pglaf.org\r\n",
      "\r\n",
      "For additional contact information:\r\n",
      "     Dr. Gregory B. Newby\r\n",
      "     Chief Executive and Director\r\n",
      "     gbnewby@pglaf.org\r\n",
      "\r\n",
      "Section 4.  Information about Donations to the Project Gutenberg\r\n",
      "Literary Archive Foundation\r\n",
      "\r\n",
      "Project Gutenberg-tm depends upon and cannot survive without wide\r\n",
      "spread public support and donations to carry out its mission of\r\n",
      "increasing the number of public domain and licensed works that can be\r\n",
      "freely distributed in machine readable form accessible by the widest\r\n",
      "array of equipment including outdated equipment.  Many small donations\r\n",
      "($1 to $5,000) are particularly important to maintaining tax exempt\r\n",
      "status with the IRS.\r\n",
      "\r\n",
      "The Foundation is committed to complying with the laws regulating\r\n",
      "charities and charitable donations in all 50 states of the United\r\n",
      "States.  Compliance requirements are not uniform and it takes a\r\n",
      "considerable effort, much paperwork and many fees to meet and keep up\r\n",
      "with these requirements.  We do not solicit donations in locations\r\n",
      "where we have not received written confirmation of compliance.  To\r\n",
      "SEND DONATIONS or determine the status of compliance for any\r\n",
      "particular state visit http://pglaf.org\r\n",
      "\r\n",
      "While we cannot and do not solicit contributions from states where we\r\n",
      "have not met the solicitation requirements, we know of no prohibition\r\n",
      "against accepting unsolicited donations from donors in such states who\r\n",
      "approach us with offers to donate.\r\n",
      "\r\n",
      "International donations are gratefully accepted, but we cannot make\r\n",
      "any statements concerning tax treatment of donations received from\r\n",
      "outside the United States.  U.S. laws alone swamp our small staff.\r\n",
      "\r\n",
      "Please check the Project Gutenberg Web pages for current donation\r\n",
      "methods and addresses.  Donations are accepted in a number of other\r\n",
      "ways including including checks, online payments and credit card\r\n",
      "donations.  To donate, please visit: http://pglaf.org/donate\r\n",
      "\r\n",
      "\r\n",
      "Section 5.  General Information About Project Gutenberg-tm electronic\r\n",
      "works.\r\n",
      "\r\n",
      "Professor Michael S. Hart is the originator of the Project Gutenberg-tm\r\n",
      "concept of a library of electronic works that could be freely shared\r\n",
      "with anyone.  For thirty years, he produced and distributed Project\r\n",
      "Gutenberg-tm eBooks with only a loose network of volunteer support.\r\n",
      "\r\n",
      "Project Gutenberg-tm eBooks are often created from several printed\r\n",
      "editions, all of which are confirmed as Public Domain in the U.S.\r\n",
      "unless a copyright notice is included.  Thus, we do not necessarily\r\n",
      "keep eBooks in compliance with any particular paper edition.\r\n",
      "\r\n",
      "Most people start at our Web site which has the main PG search facility:\r\n",
      "\r\n",
      "http://www.gutenberg.net\r\n",
      "\r\n",
      "This Web site includes information about Project Gutenberg-tm,\r\n",
      "including how to make donations to the Project Gutenberg Literary\r\n",
      "Archive Foundation, how to help produce our new eBooks, and how to\r\n",
      "subscribe to our email newsletter to hear about new eBooks.\r\n",
      "\r\n",
      "\r\n",
      "\r\n",
      "\n",
      "\n",
      "\n"
     ]
    }
   ],
   "source": [
    "test =  soup.get_text()\n",
    "print test[1:5000]\n",
    "print test[-5000:-1]"
   ]
  },
  {
   "cell_type": "markdown",
   "metadata": {},
   "source": [
    "### Part (d): Extracting Text (Continued)\n",
    "\n",
    "Using the $\\mathtt{find}$_$\\mathtt{all()}$ function, extract the text of all $\\mathtt{p}$ tags and concatenate the result into a single string. Print out the first 1000 characters of the string as a sanity check."
   ]
  },
  {
   "cell_type": "code",
   "execution_count": 136,
   "metadata": {
    "collapsed": false
   },
   "outputs": [
    {
     "name": "stdout",
     "output_type": "stream",
     "text": [
      "One morning, when Gregor Samsa woke from troubled dreams, he found\r\n",
      "himself transformed in his bed into a horrible vermin.  He lay on\r\n",
      "his armour-like back, and if he lifted his head a little he could\r\n",
      "see his brown belly, slightly domed and divided by arches into stiff\r\n",
      "sections.  The bedding was hardly able to cover it and seemed ready\r\n",
      "to slide off any moment.  His many legs, pitifully thin compared\r\n",
      "with the size of the rest of him, waved about helplessly as he\r\n",
      "looked.\r\n",
      "\"What's happened to me?\" he thought.  It wasn't a dream.  His room,\r\n",
      "a proper human room although a little too small, lay peacefully\r\n",
      "between its four familiar walls.  A collection of textile samples\r\n",
      "lay spread out on the table - Samsa was a travelling salesman - and\r\n",
      "above it there hung a picture that he had recently cut out of an\r\n",
      "illustrated magazine and housed in a nice, gilded frame.  It showed\r\n",
      "a lady fitted out with a fur hat and fur boa who sat upright,\r\n",
      "raising a heavy fur muff that covered the whole of h\n"
     ]
    }
   ],
   "source": [
    "#Using the  𝚏𝚒𝚗𝚍find _ 𝚊𝚕𝚕()all()  function, extract the text of all  𝚙p  tags and concatenate the result into a single string\n",
    "Metamorphosis = \"\"\n",
    "for p in soup.find_all('p'):\n",
    "  Metamorphosis += p.get_text() + '\\r\\n'  \n",
    "  \n",
    "# Print out the first 1000 characters of the string as a sanity check\n",
    "print Metamorphosis[0:1000]\n",
    "\n"
   ]
  },
  {
   "cell_type": "code",
   "execution_count": 240,
   "metadata": {
    "collapsed": false
   },
   "outputs": [
    {
     "name": "stdout",
     "output_type": "stream",
     "text": [
      " Number of Words including space  :   120898\n",
      "Number of space                  :   0\n",
      "Number of words without space and punctuation    :   118280\n",
      "Number of Distinct Words         :   2571\n",
      "average word lenght              :   4\n"
     ]
    },
    {
     "data": {
      "image/png": "[encoded data removed]",
      "text/plain": [
       "<matplotlib.figure.Figure at 0xaa769e8>"
      ]
     },
     "metadata": {},
     "output_type": "display_data"
    },
    {
     "name": "stdout",
     "output_type": "stream",
     "text": [
      "number_of_sentences  :  835\n",
      "Average Sentence Lenght :  141\n"
     ]
    },
    {
     "data": {
      "image/png": "[encoded data removed]",
      "text/plain": [
       "<matplotlib.figure.Figure at 0xd893f98>"
      ]
     },
     "metadata": {},
     "output_type": "display_data"
    }
   ],
   "source": [
    "import requests\n",
    "from bs4 import BeautifulSoup\n",
    "from collections import Counter\n",
    "from string import punctuation\n",
    "import re\n",
    "import numpy as np\n",
    "%matplotlib inline\n",
    "from mpl_toolkits.mplot3d import Axes3D\n",
    "import matplotlib.pyplot as plt\n",
    "\n",
    "\n",
    "\n",
    "\n",
    "\n",
    "# Number of Words including space and puncation marks\n",
    "print 'Number of Words including space  :  ' , Metamorphosis.count('')\n",
    "print 'Number of space                  :  ' , Metamorphosis.count('\".,;!-')\n",
    "\n",
    "# remove space and punctuation  from the string\n",
    "text_without_space = ''.join(filter(lambda x: x not in '\".,;!-', Metamorphosis))\n",
    "print 'Number of words without space and punctuation    :  ' , text_without_space.count('')\n",
    "\n",
    "\n",
    "# Number of Distinct words with count for each word\n",
    "lst = re.findall(r'\\b\\w+', Metamorphosis)\n",
    "lst = [x.lower() for x in lst]\n",
    "counter = Counter (lst)\n",
    "\n",
    "word_list = np.array(counter.items())\n",
    "\n",
    "print 'Number of Distinct Words         :  ' , len(word_list)\n",
    "\n",
    "# average word length\n",
    "words = text_without_space.split()\n",
    "average = sum(len(word) for word in words)/len(words)\n",
    "print  'average word lenght              :  ', average\n",
    "\n",
    "#  histogram of word lengths.\n",
    "average_list=[]\n",
    "i= 0\n",
    "for xx in words:\n",
    " average_list.append(len(xx))\n",
    "\n",
    "fig = plt.figure()\n",
    "ax = fig.add_subplot(111)\n",
    "plt.hist(average_list, bins=10)  # plt.hist passes it's arguments to np.histogram\n",
    "plt.title(\"Histogram of word lengths\")\n",
    "plt.show()\n",
    "\n",
    "#  Count the number of sentences in The Metamorphosis. \n",
    "number_of_sentences = Metamorphosis.count('.')+ Metamorphosis.count ('!')+ Metamorphosis.count('?')\n",
    "print 'number_of_sentences  : ' , number_of_sentences\n",
    "\n",
    "Metamorphosis_sentence = Metamorphosis.replace('!','.').replace('?','.').replace('\\r\\n',' ').split('.')\n",
    "#print 'Metamorphosis_sentence   :  ', Metamorphosis_sentence\n",
    "\n",
    "\n",
    "# Compute the average sentence length\n",
    "\n",
    "average_sentence_lenght=[]\n",
    "total_sentence_lenght = 0\n",
    "i= 0\n",
    "for xx in Metamorphosis_sentence:\n",
    " average_sentence_lenght.append(len(xx))\n",
    " total_sentence_lenght += len(xx)\n",
    " \n",
    "\n",
    "print 'Average Sentence Lenght : ' , total_sentence_lenght/number_of_sentences\n",
    "\n",
    "\n",
    "#plot a histogram of sentence lengths.\n",
    "\n",
    "fig = plt.figure()\n",
    "ax = fig.add_subplot(111)\n",
    "plt.hist(average_sentence_lenght, bins=10)  # plt.hist passes it's arguments to np.histogram\n",
    "plt.title(\"Histogram of average_sentence_lenght\")\n",
    "plt.show()\n",
    "\n"
   ]
  },
  {
   "cell_type": "markdown",
   "metadata": {},
   "source": [
    "## Problem 3: Data from Simulations\n",
    "\n",
    "In this problem we practice generating data by setting up a simulation of a simple phenomenon, a queue. \n",
    "\n",
    "Suppose we're interested in simulating a queue that forms in front of a small Bank of America branch with one teller, where the customers arrive one at a time.\n",
    "\n",
    "We want to study the queue length and customer waiting time."
   ]
  },
  {
   "cell_type": "markdown",
   "metadata": {},
   "source": [
    "### Part (a): Simulating Arrival and Service Time\n",
    "\n",
    "Assume that gaps between consecutive arrivals are uniformly distributed over the interval of 1 to 20 minutes (i.e. any two times between 1 minute and 6 minutes are equally likely). \n",
    "\n",
    "Assume that the service times are uniform over the interval of 5 to 15 minutes. \n",
    "\n",
    "Generate the arrival and service times for 100 customers, using the $\\mathtt{uniform()}$ function from the $\\mathtt{random}$ library."
   ]
  },
  {
   "cell_type": "code",
   "execution_count": 78,
   "metadata": {
    "collapsed": false
   },
   "outputs": [
    {
     "name": "stdout",
     "output_type": "stream",
     "text": [
      "arrivals            :  [  6.18105719  13.56256058  19.94879314   5.15198065  18.34318259\n",
      "  10.69674747   4.51861351  16.27853425  18.96338963   2.46194164\n",
      "   2.58122504   8.34649241   1.3550654    4.90671837   5.49720811\n",
      "   5.22795363   7.61958784  15.49127941   1.88745141   8.70471019\n",
      "   3.32516498  19.62221463  12.43791403   2.32080366   3.73769482\n",
      "   1.35279214   7.90462761  10.76927037  13.14427332   8.93193927\n",
      "  12.99117535  18.80995879   9.33948517  18.11297917  14.41321688\n",
      "   1.96808373   6.90182086  11.43893129   1.5938486    4.16991932\n",
      "  18.52952735   6.31234412   1.20861762  11.1206363    6.42846543\n",
      "   4.12695929  11.1599308   11.33750103  15.3834783    1.49521928\n",
      "  16.94962613   6.46179485   6.3939083    9.04793655  15.51796935\n",
      "   3.51571219  16.19967156   9.13164961   4.53919707  11.18380339\n",
      "   8.3123384   17.55999848   4.55667968  17.45424609  13.22873     19.4981928\n",
      "  12.10974244   7.66996841  14.44142884   4.25414067  16.16162214\n",
      "   1.09570591  19.01990605   4.76334092  10.73963335  13.09713329\n",
      "  15.7651484    1.26594958   8.66826488  19.90316486  14.19757302\n",
      "   9.24308372  16.22580842  15.31211473   2.54244483   9.1567239   17.02234\n",
      "   3.09925871   5.31688654  14.11841949   1.0290209   10.61144775\n",
      "  13.39209015   4.74868643   7.52327961   6.21095556  15.61934205\n",
      "  16.26158288  11.24537766   3.64649989]\n",
      "cumulative_arrivals :  [   6.18105719   19.74361778   39.69241092   44.84439157   63.18757416\n",
      "   73.88432163   78.40293513   94.68146938  113.64485901  116.10680066\n",
      "  118.6880257   127.03451811  128.38958351  133.29630188  138.79351\n",
      "  144.02146362  151.64105146  167.13233087  169.01978228  177.72449248\n",
      "  181.04965746  200.67187209  213.10978612  215.43058978  219.1682846\n",
      "  220.52107674  228.42570435  239.19497472  252.33924805  261.27118732\n",
      "  274.26236267  293.07232146  302.41180664  320.52478581  334.93800269\n",
      "  336.90608642  343.80790728  355.24683858  356.84068718  361.01060649\n",
      "  379.54013384  385.85247796  387.06109558  398.18173188  404.61019731\n",
      "  408.7371566   419.8970874   431.23458843  446.61806673  448.11328601\n",
      "  465.06291214  471.52470699  477.91861528  486.96655183  502.48452118\n",
      "  506.00023337  522.19990493  531.33155455  535.87075161  547.054555\n",
      "  555.3668934   572.92689188  577.48357156  594.93781765  608.16654765\n",
      "  627.66474046  639.77448289  647.4444513   661.88588015  666.14002081\n",
      "  682.30164295  683.39734886  702.41725491  707.18059584  717.92022918\n",
      "  731.01736247  746.78251087  748.04846046  756.71672533  776.6198902\n",
      "  790.81746322  800.06054693  816.28635536  831.59847008  834.14091491\n",
      "  843.29763881  860.31997881  863.41923752  868.73612406  882.85454355\n",
      "  883.88356445  894.4950122   907.88710234  912.63578878  920.15906839\n",
      "  926.37002394  941.98936599  958.25094887  969.49632653  973.14282642]\n",
      "services            :  [  6.21939732   7.52022747  14.38342992  14.06471032   9.16490216\n",
      "   9.42515319  11.28217378  13.46981494  13.41427899   9.85294921\n",
      "  10.12200573  14.64945242   9.06781663   6.17667629  11.84177931\n",
      "   6.95349828  11.14410822  11.42480818  10.79643399   6.97679521\n",
      "  10.96595231   7.74926503  13.7023141   10.48424495   5.22212042\n",
      "  10.25569348   5.21937178   8.0852831    7.39242895   9.8736423\n",
      "  14.93523878  14.1474156   13.7871488    5.81425123  14.82389319\n",
      "  14.36463163  12.69026777   9.68781319  14.58147468   9.51252646\n",
      "  13.14635805   7.99871974   8.71928623  11.51504065  13.35475495\n",
      "  11.93185216   5.28263651   9.18926811   7.64413483  13.94026022\n",
      "   5.89135925  13.23742991   5.44839832  12.95947425  13.03514184\n",
      "   9.29720567  14.16210297   7.6853353   10.05719574   5.08732414\n",
      "   8.44658947   9.66396916   6.85404243  14.61988379  14.76591816\n",
      "   6.38184333  10.45766894   6.81680721   9.5749364   10.91712679\n",
      "  12.77582569   5.28121802  10.82321759  14.66176854  13.88748055\n",
      "  11.50669528   9.72389086  12.33365601   7.09178734   7.59982056\n",
      "  13.90610788   9.63178139  10.52150834  13.55629882   8.12937503\n",
      "   6.7212234   13.82369525   9.78439373  11.90371692   9.81048447\n",
      "  10.16143367  12.74402162  11.38880561   5.31704395  13.49449652\n",
      "   6.03863636  13.73442299  14.82604238   5.33762837  11.79138242]\n"
     ]
    }
   ],
   "source": [
    "import numpy as np\n",
    "\n",
    "#Generate the arrival times for 100 customers\n",
    "arrivals = np.random.uniform(1, 20, size=100)\n",
    "print 'arrivals            : ', arrivals \n",
    "\n",
    "# cumulative arrivals =  np.cumsum(arrivals)\n",
    "cumulative_arrivals = np.cumsum(arrivals)\n",
    "print 'cumulative_arrivals : ' , cumulative_arrivals\n",
    "#Generate the service times for 100 customers\n",
    "services = np.random.uniform(5, 15, size = 100)\n",
    "print 'services            : ' , services\n",
    "\n",
    "#h = plt.hist(arrivals, bins=20)\n",
    "#plt.show()\n",
    "\n",
    "\n",
    "\n",
    "\n",
    "\n",
    "    \n",
    "    \n",
    "\n"
   ]
  },
  {
   "cell_type": "markdown",
   "metadata": {},
   "source": [
    "### Part (b): Simulating the Queue\n",
    "\n",
    "Write function that computes the average queue length and the average customer wait time, given the arrival times and the service times."
   ]
  },
  {
   "cell_type": "code",
   "execution_count": 79,
   "metadata": {
    "collapsed": false
   },
   "outputs": [],
   "source": [
    "def simulating_queue(arrivals , services):\n",
    "    \n",
    "    cumulative_arrivals = np.cumsum(arrivals)\n",
    "    waiting_time = np.zeros_like(services)\n",
    "    waiting_time[0] = 0     # first customer will not wait in the queue\n",
    "\n",
    "    for i in range(1,len(services)):\n",
    "       waiting_time[i] = max(waiting_time[i-1] + services[i-1] - arrivals[i-1],0)\n",
    "\n",
    "#    print 'waiting_time :     ' , waiting_time\n",
    "\n",
    "    total_time_in_queue =  waiting_time + services\n",
    " #   print 'total_time_in_queue   :     '  ,   total_time_in_queue\n",
    "    \n",
    "    departure_time =  cumulative_arrivals  + total_time_in_queue\n",
    "\n",
    "\n",
    "#    print 'departure time  : ' , departure_time\n",
    "#    print 'The average customer wait time : ',waiting_time.mean()\n",
    "\n",
    "\n",
    "    # computes the average queue length\n",
    "    # Queue_length at time slot i = No_of_arrivals until time slot i - No_of_depature until time slot  i\n",
    "    # Queue lenght change every time one customer arrive or depature \n",
    "\n",
    "    i = 1   # time slot index\n",
    "    no_of_arrivals = 0\n",
    "    no_of_depature = 0\n",
    "    time_slot = np.zeros(len(cumulative_arrivals)+len(departure_time)+1)\n",
    "    Queue_length = np.zeros(len(cumulative_arrivals)+len(departure_time)+1)\n",
    "          \n",
    "    while no_of_depature < len(departure_time) :\n",
    "        #  argmin : Returns the indices of the minimum values along an axis.\n",
    "        if no_of_arrivals < len (cumulative_arrivals) and  np.argmin([cumulative_arrivals[no_of_arrivals],departure_time[no_of_depature]] ) == 0 :\n",
    "            time_slot[i] = cumulative_arrivals[no_of_arrivals]\n",
    "            no_of_arrivals +=1\n",
    "        else:\n",
    "            time_slot[i] = departure_time [no_of_depature]\n",
    "            no_of_depature += 1\n",
    "       \n",
    "        Queue_length[i] = no_of_arrivals - no_of_depature\n",
    "        i +=1\n",
    "    \n",
    " #   print 'The average Queue_length : ', Queue_length.mean()\n",
    "    return  waiting_time.mean(),waiting_time.std(), Queue_length.mean() , Queue_length.std()"
   ]
  },
  {
   "cell_type": "code",
   "execution_count": 80,
   "metadata": {
    "collapsed": false
   },
   "outputs": [
    {
     "data": {
      "text/plain": [
       "(58.579921597617755,\n",
       " 25.840763830314362,\n",
       " 6.7363184079601988,\n",
       " 2.6382423626892226)"
      ]
     },
     "execution_count": 80,
     "metadata": {},
     "output_type": "execute_result"
    }
   ],
   "source": [
    "simulating_queue(arrivals , services)"
   ]
  },
  {
   "cell_type": "markdown",
   "metadata": {},
   "source": [
    "### Part (c): Average Queue Length and Wait Time\n",
    "\n",
    "Run your simulation 500 times and report the mean and std of the average wait time and queue length for 100 customers. What do these statistics mean?\n",
    "\n",
    "Explain why is isn't sufficient to run our simulation **once** and report the average wait time/queue length we obtain."
   ]
  },
  {
   "cell_type": "code",
   "execution_count": 81,
   "metadata": {
    "collapsed": false
   },
   "outputs": [
    {
     "name": "stdout",
     "output_type": "stream",
     "text": [
      "waiting_time_mean      :  [  6.68454577  44.69090652  11.90635981  15.2627743   21.04530607\n",
      "  38.35635511  10.79011379   5.05631272  43.92099954  33.06386373\n",
      "   3.59344549   9.93960963  28.52226545   9.76332632  47.20433748\n",
      "  15.73741628   5.15797787  12.58926356  27.31511458  19.25072073\n",
      "  10.65729137  19.87570335  12.69316066  20.01815263   8.35666467\n",
      "  13.23736186  43.36059345   9.06925911  21.73759208  11.93202481\n",
      "  21.38873397  31.41415111  21.60597771   8.83263646  12.13107011\n",
      "  52.6527821    6.61353009  15.05117248   9.76002304  13.47081114\n",
      "  34.48634445  20.30136158  17.2140314   33.71961868  27.00960582\n",
      "  11.53619324  12.63879434  15.86806221  33.54747448  65.04825772\n",
      "  15.17417188  16.33538434  14.88459713  17.03749768   5.97593996\n",
      "  11.65640651  15.57549301  42.86648621  12.49897965  20.53353216\n",
      "   8.54606782   6.7096159   48.74044657  23.69928805   9.26332574\n",
      "  41.92077574  11.16924597  11.72057032  41.37761028  14.50912994\n",
      "  39.98643451  11.66844263  19.556298    14.14929186  26.7281789\n",
      "   9.29572192  17.64702407  18.12256232  27.04413094  18.50463356\n",
      "   7.58124903  20.24760163   5.7073245   33.73161236  21.96538277\n",
      "   8.80788745   9.22173029  11.72541236  10.89217356   8.62847411\n",
      "  10.26956538   7.28711528  24.9610903   10.78596829  20.90381861\n",
      "  21.27903738  10.39062779  32.21807464  62.7094602   39.81620654\n",
      "  23.19520212   5.33473125  41.84315999  10.39288293  38.78378838\n",
      "  16.43291148  17.00727009   8.76471187   3.80567132  10.65570129\n",
      "   8.52044539   4.95207218  11.5147202   35.70200916   4.52626166\n",
      "   8.33732875  11.87353076   9.27504662   9.38416265   6.95435773\n",
      "  12.0517335   10.71146248  12.88364959   5.06940179  33.41019286\n",
      "  48.67940481  13.0187053   12.4827465   31.31468341   7.41591286\n",
      "  11.95234182  54.07117086   7.00004587  16.27178931  10.93214785\n",
      "  70.46113599  38.72310493   9.5480686    8.55953413  11.02108536\n",
      "  18.83725881  13.58005036  12.33492299  17.51188476  12.42160743\n",
      "  10.03450981  16.83153335  13.24352484   9.47883179   9.1301284\n",
      "   8.0909633   18.4787736   21.78820971  41.37561793  25.88463246\n",
      "  30.15158108  25.08281591  15.29584158  42.42631669  11.47266425\n",
      "  24.73879101  13.96454485   6.0164507   26.95957717   7.57024077\n",
      "  29.12544379   5.15358961   9.92966936   8.19985932   9.44091893\n",
      "  12.75640683  11.21456735  35.88367397   5.2903652   11.05419359\n",
      "   9.13382466  14.07581321  17.17229831  60.76227371  11.23334191\n",
      "  14.0755303   24.16599429   5.98178615  15.26355629  20.56785418\n",
      "  14.39509116  11.51826333  47.88621515  20.16006833  25.99867422\n",
      "  14.7419221    7.14545672  16.85295821  81.17641916  43.08011708\n",
      "   9.92406446  27.66283874  11.42389437   7.17469517  12.77278542\n",
      "  25.14622695  13.21012625  15.39628614  12.23973416  32.08532659\n",
      "   7.80369745   7.55107057  27.10733214  46.42335625  20.77527331\n",
      "  50.86435004  17.76920182  14.64474046  17.58216879   5.74293037\n",
      "   5.09055329  30.39554152   7.07063459   8.33775944  17.79350678\n",
      "  51.25477311  18.28219362  11.25808389  36.83205199  22.9265903   18.272316\n",
      "   6.86292883  12.90335237  11.24016217   7.17033583  10.82465618\n",
      "  11.84431443   8.63095183   5.3547513    9.33318675   6.17325753\n",
      "  11.63163994   7.75790076  12.36371679  16.96730691  11.8803866\n",
      "  20.24783535  16.70143202  19.33460194   6.24831287  13.73762099\n",
      "  18.18759407  13.11935633  14.86447454  22.75377712  17.73291596\n",
      "   6.03340854   8.09538811  58.70109477  48.20772109  12.52638409\n",
      "  15.10499883  21.05655466  39.46130126  12.1510143   20.47816731\n",
      "  76.38112856  23.76699799  22.08827396   7.60683532  46.68703878\n",
      "  14.11020125   8.9670643   35.49160279  47.7613553   41.15229365\n",
      "  11.75721192   8.94658033  38.70432154  26.40312594   9.63613632\n",
      "   8.24522044  13.97732701  17.49613499  52.56843136  28.61222907\n",
      "  20.9672784   15.78457037  15.81959311  11.04672728  16.58673174\n",
      "  14.29668238   4.80764697  17.25984807  11.86783041  11.19892469\n",
      "  15.60982652   9.11027097   8.01188506  31.0194196    5.44143152\n",
      "  13.57084934   5.66553681  12.54402443  12.45451473  18.09338611\n",
      "   7.84182818  21.92677498  20.07694974  56.45644875  14.68876135\n",
      "  16.48834917  18.4487408   14.66395832  15.30153171   6.08213125\n",
      "  44.02501642   4.09484955  31.42424734  29.59752611  19.77746916\n",
      "  15.5496361   32.23945774  54.93118069  49.17381013   7.63932672\n",
      "  13.32514014  23.54833508   9.44851475  11.3077433   28.49052887\n",
      "  23.38040373   8.93222644  24.79293259  42.06559922  38.15273399\n",
      "   8.94379574  31.89190529  10.85516293  21.60731548   8.18076547\n",
      "  29.63503906   6.09838842   9.16123962  13.74241431  62.4432282\n",
      "   5.43762522  14.69056571   8.31830662  36.9700959   27.36898361\n",
      "  19.93320431   8.81349362  18.58138053  24.72287369   9.66557406\n",
      "  12.10587227  18.32170234   6.06483482  38.76734381  64.29460837\n",
      "  16.58446539  13.15570593  13.73398764  12.71205818  11.43734059\n",
      "  14.53217817   6.72745183  10.38314805   9.91340884  16.02093743\n",
      "   7.45527681  66.62797142   8.79854905  13.49819053  22.94665779\n",
      "  18.28287226  48.6283023   40.91108086  40.38728145  25.81507743\n",
      "  31.09096598  17.60064906  17.80976382  29.3602808   60.26958831\n",
      "  10.70791879   4.10117949  10.32340251   9.97147867  18.20301969\n",
      "   8.51749084  11.22744539  26.55730527   7.51153149  12.58548109\n",
      "  23.85252348   8.60759637  19.37530169   9.81992638  33.41876976\n",
      "  13.58585166  15.38371077  25.93601218   7.18944982  10.14582707\n",
      "  18.30851909  10.33991626  15.89167465  11.68565192  36.98460079\n",
      "   5.87023427  34.74727115  28.34251487   8.52225838  11.77725293\n",
      "  10.42855243  30.05099548  33.01190651  10.35799525   5.89979658\n",
      "  17.59924739  16.17690978  25.42098071   6.89602752   5.39613354\n",
      "  31.43275908  21.86970514  18.95583093  18.97423725  21.57594592\n",
      "  23.20598288   9.22364328  15.29509478  36.34790971  10.3429664\n",
      "  12.51569642  27.579628    13.02465663  29.28392156  16.07615924\n",
      "  12.6781687   18.24582796  20.85769117  11.31739435  31.65039548\n",
      "  18.85297248  35.63135408  72.63101961   7.45742369   9.62010444\n",
      "   7.8142979    7.78936177  18.95647758  15.75912639  20.58844103\n",
      "  23.33760657  15.75272822  31.59751471  18.76559763   5.85461039\n",
      "  39.28176494  36.27949369  12.24848239  22.58104112  15.54270708\n",
      "   9.55854949   8.18473746   9.25591286  30.18454524  18.39472496\n",
      "  21.82275669  14.82778321  44.70668287  37.09429068  38.10690027\n",
      "   9.53112043  20.3807587    5.66815053   7.27538683  46.85285652\n",
      "  21.89711274  13.99592913   9.88436754  23.84425823  11.88498311\n",
      "  17.37429303  17.93522358  35.21943089   7.41404357   8.85178221\n",
      "  12.08963157  31.59246308  10.19048274  24.38288138  10.52589787\n",
      "  10.90152502   4.60415665  47.67075256   5.61935566  31.73937861\n",
      "  25.60311917  24.5856319   37.16462718  26.59006537]\n",
      "waiting_time_std      :  [  7.86798475  21.69753224  13.91181014  15.57408952  13.4771223\n",
      "  23.72357838   7.99777702   5.5371645   31.89935179  13.18746436\n",
      "   4.47608342  10.54094198  25.2144306   10.13724065  33.13361892\n",
      "  15.72733735   5.76604773  12.35088219  13.82481417  18.23847381\n",
      "   9.53526139  16.58021185  11.0743949   17.7743793    8.27576756\n",
      "  12.27984714  27.07462827  13.07687801  21.17327742   9.84949096\n",
      "  14.12956721  15.23591266  17.21979894   7.44163345   8.38351781\n",
      "  38.16667575   7.86850171  14.87526111   9.14598275  11.78923325\n",
      "  22.2171483   20.85253235  13.51716626  21.75236686  19.05138616\n",
      "  11.92220316  11.60352432  12.31282271  12.44004456  32.26779401\n",
      "  13.6223292   13.08074668  15.55721065  13.17901453   6.50789091\n",
      "   8.83874097  12.7511443   31.45582863  12.50153565  17.27367864\n",
      "  11.37923851   6.62826237  30.25899626  14.81465919   9.51068862\n",
      "  28.09275929  10.622646     8.98595682  42.73863768  11.85042143\n",
      "  23.81417263  10.24047464  14.80686384  11.69004324  21.76570549\n",
      "   9.45909436  14.55551669  15.13251612  17.99277844  16.72693378\n",
      "   6.53412478  17.26095483   7.12680159  19.92744867  17.30397467\n",
      "   8.17231058   9.96939242   9.00791978  12.30148678   7.33382572\n",
      "   8.69230093   6.52888984  15.88728515  13.85221912  13.37289076\n",
      "  16.78829038  12.23258832  16.12659517  28.65674961  17.92810101\n",
      "  10.93297057   5.81375544  22.4498241   12.84678673  22.78986609\n",
      "  16.3156116   17.40750101   6.91210629   5.00774373   8.35060387\n",
      "   9.46505778   6.9135955   10.17731742  22.32544556   4.90576082\n",
      "  10.98437456  11.91981107   8.782534     8.17145245   7.05019886\n",
      "  11.12139095  10.32417825   9.80896148   6.44652511  32.24459956\n",
      "  31.17648036   9.26531799  10.97555034  20.97457168   8.17443191\n",
      "  11.79632865  49.50139187   7.23163311  13.2168191    7.87572521\n",
      "  28.67156822  32.89790672   8.09923984  10.27695291   8.94095231\n",
      "  16.82229747  13.64065543  10.48066251  11.36336102  11.26013034\n",
      "   8.27776966  18.25052821  10.30465672   9.67877827   7.72313028\n",
      "   6.86282516  16.06819032  13.57688278  20.39648057  13.66387218\n",
      "  19.33800397  23.64169847  11.66705933  26.77411285   9.59862647\n",
      "  19.95760573  10.04888285   7.15185335  19.59253007   7.43915223\n",
      "  21.03513062   6.0222415   10.40428278   7.20291377   8.10218204\n",
      "  13.18220811   9.25399803  14.88213117   6.67986749   8.56180099\n",
      "  11.74298863  11.82497376  13.16882124  42.44437715  11.04820001\n",
      "  17.31798995  15.09190644   6.39608286  12.18751151  13.18474035\n",
      "  16.24058188  11.71264082  23.98406271  14.75532913  19.38910539\n",
      "  15.3334873    8.30083069  13.539427    41.00888374  33.45777626\n",
      "   9.58022978  18.55712544  12.8835955    6.28336265  10.59390657\n",
      "  17.91411786   9.85310019   9.80330689   8.42318931  25.03098366\n",
      "   6.64363996   6.74159434  15.02277672  28.94536564  11.86125173\n",
      "  32.00893986  15.41384502  10.35716475  13.79721614   6.14507892\n",
      "   5.38724638  21.66502598   7.87379532   9.20431588  13.29735715\n",
      "  29.96800582  15.50962221   9.94538695  20.46512152  16.73131178\n",
      "  16.87994556   7.39128659   9.27392098  12.24401453   7.88150066\n",
      "   8.14137037  12.27226375   8.33133908   6.27456774   9.4327893\n",
      "   5.86346062   8.01749449   7.91651765  11.16183297  12.80497621\n",
      "  12.49830197  16.76276522  15.35640126  14.95589752   6.70429269\n",
      "   9.63253963  26.74225062  11.2021342   10.91890218  13.83643864\n",
      "  14.97151124   7.13577518   8.57889646  29.76337225  23.6042923\n",
      "  12.25950033   8.54065171  16.63782624  20.11462482  12.03977732\n",
      "   9.91883525  33.84114782  21.45535212  15.56772756   6.46792723\n",
      "  27.1466363   10.94835739  10.82482891  27.1886975   18.89842419\n",
      "  23.50030506  10.19531589   9.22903287  18.94407632  17.56022277\n",
      "   8.42461163   9.08392861  16.20235407  12.81882651  21.77898564\n",
      "  20.48857654  15.61182651  11.50303108  17.36330195   9.06341571\n",
      "  16.64458205  12.2620438    7.34842557  14.7253905   12.08544401\n",
      "  10.97722468  15.13605435   8.62523175   7.97239916  11.46074807\n",
      "   6.18003492  12.7809993    5.73285899  11.56473927  10.8267498\n",
      "  14.48289969   9.25468737  15.53019612  13.0302483   22.79002483\n",
      "  12.07260976  13.91708841  13.51080719  12.11259333  15.07143045\n",
      "   6.83373048  28.76079787   5.07539814  24.18158417  16.71042499\n",
      "  12.93086765  11.74799395  32.02379136  24.09068642  27.03878162\n",
      "   8.86866337  10.30151709  13.46238487   6.80937674  10.53900119\n",
      "  23.08523425  10.8190641    7.62563489  21.47562731  29.51835377\n",
      "  20.11694212   7.70571631  18.80557446  11.40587859  14.27545343\n",
      "   8.36554793  18.86751201   6.34514352  11.7712321   11.73508776\n",
      "  35.33233272   5.67795121  13.9280876    8.29721434  18.02588973\n",
      "  16.90380126  19.8829835    9.71629479  18.31392384  13.7550013\n",
      "  10.52339413  14.14143064  15.46614948   6.60960624  23.90805979\n",
      "  35.72134175  15.82831767  12.42252374  12.92557147  12.4576781\n",
      "  10.3621981   12.10961615   7.01066865   8.77515259   9.3961324\n",
      "  15.19689587   8.59835203  43.94696152   8.00569039  11.25186458\n",
      "  19.03032536  11.64215881  25.59887716  29.1289634   21.70195259\n",
      "  30.87686966  20.436776    18.08208869  11.56043259  12.49708636\n",
      "  24.03010864   9.04653698   5.19831565   9.74928545   9.10473614\n",
      "  17.02505604  10.06133336   9.19664454  14.94467808   7.83313542\n",
      "  10.84861624  17.43544354  11.85485145  16.20646433   8.92001071\n",
      "  17.72684104   8.12578161  10.48774816  12.24835368   6.3206416\n",
      "  10.48657295  15.34149221   9.91381162  16.26590025  12.15323438\n",
      "  24.49747944   6.77938216  17.43350124  20.91838323   7.94277957\n",
      "  12.532378    11.00267257  17.99577673  18.98650119  11.52126703\n",
      "   6.7751926   13.31066168  15.72578537  14.11987555   8.0372765\n",
      "   5.66146027  15.24983689  11.34300703  17.05545954  14.9495803\n",
      "  18.29728598  16.30502941   7.47406336  12.45378874  21.3283695\n",
      "  11.64222903  13.54984014  16.2692556   11.68958818  21.90302588\n",
      "   9.83251712  11.29415999  11.03654072  14.04487791   8.71439762\n",
      "  19.70846373  15.1774246   19.78140455  54.47995268   9.99301227\n",
      "   8.92629328   8.3444602    6.76142225  18.75961093   9.79971236\n",
      "  20.48871066  18.00854022  10.14106202  16.47628563  19.46932062\n",
      "   5.76294191  20.90156719  23.06638108  15.41358359  21.02924739\n",
      "   9.46748164  10.83018957   7.80553195   9.80130206  19.27620089\n",
      "  11.67232176  16.90861109  15.55612226  28.9875191   28.11010212\n",
      "  21.60944096   8.68003883  17.04246759   6.63339406   8.05542677\n",
      "  15.45464883  14.72373376   8.71405181   9.38238808  18.84470828\n",
      "   9.72644267  14.80650236  12.54079102  16.35103325   7.45216394\n",
      "   9.33062567   8.43012242  20.18007153   9.77243383  21.7901473\n",
      "   9.6972814    9.88577151   4.89759756  16.27527186   5.79910321\n",
      "  19.14924458  17.17013636  17.29131016  22.07325573  20.76186623]\n",
      "Queue_length_mean      :  [ 1.58208955  5.25373134  2.07960199  2.46766169  3.05472637  4.67661692\n",
      "  1.99004975  1.31343284  5.02487562  4.16915423  1.19402985  1.81094527\n",
      "  3.86069652  1.87064677  5.43283582  2.41791045  1.36318408  2.09950249\n",
      "  3.75124378  2.82587065  1.93034826  2.96517413  2.20895522  2.8358209\n",
      "  1.65174129  2.24875622  5.29353234  1.65174129  2.96517413  2.23880597\n",
      "  3.06467662  3.9800995   3.12437811  1.93034826  2.17910448  6.\n",
      "  1.51243781  2.46766169  1.94029851  2.23880597  4.37810945  2.96517413\n",
      "  2.58706468  4.14925373  3.51243781  2.04975124  2.22885572  2.53731343\n",
      "  4.29850746  7.5920398   2.48756219  2.53731343  2.48756219  2.58706468\n",
      "  1.56218905  2.039801    2.45771144  4.82587065  2.10945274  3.02487562\n",
      "  1.71144279  1.6119403   5.70149254  3.29353234  1.74129353  4.94527363\n",
      "  2.02985075  2.14925373  5.06467662  2.26865672  5.15422886  2.00995025\n",
      "  2.89552239  2.32835821  3.60199005  1.88059701  2.70646766  2.66666667\n",
      "  3.64179104  2.68656716  1.67164179  2.80597015  1.42288557  4.48756219\n",
      "  3.06467662  1.76119403  1.74129353  2.22885572  1.90049751  1.69154229\n",
      "  2.0199005   1.66169154  3.42288557  1.97014925  3.12437811  2.97512438\n",
      "  1.97014925  4.19900498  7.11442786  4.86567164  3.48258706  1.41293532\n",
      "  5.2238806   1.85074627  4.59701493  2.48756219  2.67661692  1.79104478\n",
      "  1.21393035  2.          1.81094527  1.35323383  2.0199005   4.39800995\n",
      "  1.38308458  1.80099502  2.10945274  1.74129353  1.79104478  1.6119403\n",
      "  2.20895522  1.89054726  2.18905473  1.38308458  4.13930348  5.43283582\n",
      "  2.26865672  2.27860697  4.08955224  1.69154229  2.09950249  6.14925373\n",
      "  1.58208955  2.47761194  2.02985075  8.02985075  4.99502488  1.86069652\n",
      "  1.88059701  1.99004975  2.75621891  2.41791045  2.17910448  2.68656716\n",
      "  2.15920398  1.90049751  2.51741294  2.24875622  1.84079602  1.85074627\n",
      "  1.76119403  2.71641791  3.1641791   5.17412935  3.58208955  3.95024876\n",
      "  3.40298507  2.49751244  5.29353234  2.06965174  3.50248756  2.4278607\n",
      "  1.56218905  3.65174129  1.67164179  3.77114428  1.39303483  2.\n",
      "  1.76119403  1.84079602  2.22885572  2.039801    4.60696517  1.43283582\n",
      "  2.12935323  1.81094527  2.39800995  2.72636816  6.62686567  2.          2.4278607\n",
      "  3.23383085  1.49253731  2.53731343  3.23383085  2.29850746  2.07960199\n",
      "  5.54228856  2.95522388  3.5920398   2.34825871  1.58208955  2.52736318\n",
      "  8.86567164  4.93532338  1.94029851  3.54228856  1.9800995   1.73134328\n",
      "  2.30845771  3.41293532  2.31840796  2.53731343  2.13930348  3.99004975\n",
      "  1.69154229  1.60199005  3.77114428  5.43283582  3.03482587  5.94029851\n",
      "  2.90547264  2.34825871  2.74626866  1.39303483  1.35323383  4.00995025\n",
      "  1.55223881  1.70149254  2.92537313  6.19900498  2.80597015  2.07960199\n",
      "  4.54726368  3.24378109  2.71641791  1.69154229  2.25870647  2.04975124\n",
      "  1.65174129  1.93034826  2.05970149  1.76119403  1.32338308  1.79104478\n",
      "  1.52238806  2.04975124  1.62189055  2.11940299  2.66666667  2.09950249\n",
      "  2.92537313  2.56716418  2.94527363  1.53233831  2.37810945  2.68656716\n",
      "  2.20895522  2.43781095  3.15422886  2.54726368  1.45273632  1.74129353\n",
      "  6.67661692  5.65174129  2.18905473  2.49751244  2.97512438  4.93532338\n",
      "  2.16915423  3.14427861  8.47761194  3.43283582  3.15422886  1.64179104\n",
      "  5.60199005  2.30845771  1.83084577  4.44776119  5.5920398   5.14427861\n",
      "  2.0199005   1.85074627  4.72636816  3.52238806  1.86069652  1.68159204\n",
      "  2.23880597  2.67661692  6.25870647  3.9800995   3.00497512  2.51741294\n",
      "  2.48756219  1.960199    2.3681592   2.3880597   1.37313433  2.62686567\n",
      "  2.07960199  2.09950249  2.54726368  1.82089552  1.78109453  4.08955224\n",
      "  1.37313433  2.22885572  1.43283582  2.34825871  2.07960199  2.71641791\n",
      "  1.6119403   3.2238806   3.10447761  6.82587065  2.41791045  2.52736318\n",
      "  2.65671642  2.41791045  2.46766169  1.49253731  5.10447761  1.26368159\n",
      "  3.960199    4.11940299  2.95522388  2.49751244  4.05970149  6.16915423\n",
      "  5.71144279  1.70149254  2.21890547  3.29353234  1.95024876  2.13930348\n",
      "  3.89054726  3.33333333  1.86069652  3.36318408  4.84577114  4.70646766\n",
      "  1.85074627  4.14925373  2.00995025  3.08457711  1.71144279  4.02985075\n",
      "  1.44278607  1.75124378  2.22885572  6.67661692  1.51243781  2.27860697\n",
      "  1.75124378  4.59701493  3.53233831  2.87562189  1.77114428  2.66666667\n",
      "  3.44278607  1.87064677  2.09950249  2.85572139  1.6318408   4.75621891\n",
      "  7.27363184  2.51741294  2.26865672  2.3681592   2.10945274  2.00995025\n",
      "  2.4278607   1.47263682  2.0199005   1.78109453  2.47761194  1.62189055\n",
      "  7.51243781  1.79104478  2.32835821  3.19402985  2.80597015  5.65174129\n",
      "  5.33333333  4.84577114  3.35323383  4.08955224  2.67661692  2.74626866\n",
      "  3.75124378  6.82587065  2.0199005   1.23383085  1.93034826  1.90049751\n",
      "  2.75621891  1.69154229  2.04975124  3.76119403  1.70149254  2.15920398\n",
      "  3.26368159  1.65174129  2.94527363  1.79104478  4.27860697  2.27860697\n",
      "  2.58706468  3.54228856  1.62189055  1.91044776  2.82587065  1.95024876\n",
      "  2.37810945  2.11940299  4.73631841  1.50248756  4.34825871  3.68159204\n",
      "  1.79104478  1.95024876  1.86069652  3.94029851  4.20895522  1.94029851\n",
      "  1.44278607  2.69651741  2.55721393  3.47263682  1.54228856  1.41293532\n",
      "  4.07960199  3.09452736  2.7761194   2.8358209   2.98507463  3.38308458\n",
      "  1.78109453  2.52736318  4.63681592  1.88059701  2.21890547  3.71144279\n",
      "  2.16915423  3.67164179  2.44776119  2.17910448  2.74626866  2.94527363\n",
      "  2.10945274  4.10945274  2.7761194   4.53731343  7.92039801  1.53233831\n",
      "  1.91044776  1.71144279  1.74129353  2.84577114  2.59701493  2.93532338\n",
      "  3.35323383  2.45771144  4.11940299  2.7761194   1.54228856  4.72636816\n",
      "  4.61691542  2.05970149  3.15422886  2.50746269  1.83084577  1.66169154\n",
      "  1.82089552  3.93034826  2.84577114  3.12437811  2.4079602   5.62189055\n",
      "  4.67661692  4.85572139  1.91044776  2.92537313  1.47263682  1.56218905\n",
      "  5.85074627  3.11442786  2.35820896  1.89054726  3.27363184  2.15920398\n",
      "  2.59701493  2.74626866  4.27860697  1.66169154  1.81094527  2.23880597\n",
      "  4.13930348  2.02985075  3.2039801   1.97014925  2.0199005   1.52238806\n",
      "  5.5920398   1.39303483  4.          3.51243781  3.45273632  4.55721393\n",
      "  3.42288557]\n",
      "Queue_length_var      :  [ 0.97963218  2.14413431  1.57519069  1.76764706  1.40432525  2.39400173\n",
      "  0.99745971  0.8845094   2.96989507  1.38623072  0.85061533  1.42615218\n",
      "  2.84255115  1.4047482   3.2440863   1.67643237  0.92097602  1.46265272\n",
      "  1.51864398  1.99863818  1.20328091  1.97591999  1.36630358  1.9078029\n",
      "  1.0547733   1.49885892  2.84568417  1.34501455  2.25793925  1.30924252\n",
      "  1.62100516  1.82290621  1.83103503  1.14393246  1.05931603  3.85560263\n",
      "  1.11126951  1.62082192  1.25242766  1.33929757  2.35131347  2.15881419\n",
      "  1.53033403  2.13420659  2.03967965  1.42385939  1.37763341  1.34195623\n",
      "  1.5741847   3.52570325  1.64546551  1.40710731  1.69315112  1.46387064\n",
      "  1.0401699   1.136639    1.43497629  2.93791942  1.34125515  1.83508594\n",
      "  1.36637604  1.02148887  2.9507479   1.54482218  1.10752124  2.86025954\n",
      "  1.22944977  1.10970927  4.40723015  1.25680741  2.55118635  1.25381031\n",
      "  1.73750832  1.37194411  2.19016254  1.23210439  1.68056137  1.69086905\n",
      "  1.8902854   1.791708    1.01316793  1.75832467  0.98003636  2.30100444\n",
      "  1.71060375  1.06630275  1.22687011  1.18336866  1.33459508  1.03874116\n",
      "  1.14587818  0.94893243  1.70024102  1.68667723  1.63587052  1.56592386\n",
      "  1.32300896  1.81760298  3.19698876  1.80294554  1.47649756  0.93235477\n",
      "  2.38457457  1.42389416  2.24866816  1.728052    1.95976963  0.99557199\n",
      "  0.88041429  1.18866956  1.14782061  0.98728332  1.22965108  2.2966114\n",
      "  0.87957047  1.30066918  1.5088331   1.06165004  1.04434959  1.13236279\n",
      "  1.33685582  1.16668523  1.20697789  0.98622979  3.00918949  2.70557126\n",
      "  1.23282739  1.37569161  2.15608368  1.12164507  1.30443169  4.95929821\n",
      "  1.00964385  1.46967566  1.13694383  3.12255548  3.55832359  1.1110022\n",
      "  1.32547622  1.1717659   1.87289481  1.80228644  1.33374168  1.39161264\n",
      "  1.29849793  1.06973273  1.98775988  1.18775299  1.21946378  1.06393241\n",
      "  1.04747342  1.75180904  1.53820676  2.17962692  1.49442666  2.00435159\n",
      "  2.45188344  1.40051298  2.80695794  1.19498304  2.1970681   1.31429943\n",
      "  1.15786868  1.98454462  1.10702946  2.0606146   1.00236102  1.29291987\n",
      "  1.04747342  1.14367278  1.47529007  1.11899384  1.53556551  1.02540681\n",
      "  1.19833387  1.47418233  1.49984942  1.52255064  4.07944424  1.2617606\n",
      "  1.94348507  1.6177036   0.99810469  1.31952454  1.68990263  1.73074273\n",
      "  1.35074398  2.48967075  1.67004188  2.00812685  1.5702804   1.09475348\n",
      "  1.41790172  4.26333036  3.13554426  1.25242766  1.9108105   1.42458932\n",
      "  1.01111371  1.38376446  1.89096618  1.17947178  1.2498162   0.99775744\n",
      "  2.61642354  1.02911744  0.98788483  1.76403066  2.86629346  1.41202409\n",
      "  3.18522989  1.87043505  1.28446882  1.65727658  0.9409169   0.8807516\n",
      "  2.3265503   1.11011069  1.06991782  1.77864697  2.99588424  1.88398967\n",
      "  1.25924713  2.04890578  1.82989917  1.67634378  1.12164507  1.22687011\n",
      "  1.3447937   1.1099323   1.07209024  1.47834044  1.12089453  0.89214399\n",
      "  1.07255189  0.89817187  1.09158356  1.04444439  1.24815153  1.5040024\n",
      "  1.48961571  1.80640182  1.80566175  1.5841221   1.00753332  1.21201219\n",
      "  2.75107734  1.26810055  1.41328564  1.51971931  1.38901339  0.96660918\n",
      "  1.14289339  3.10029697  2.36435164  1.30977177  1.2503706   1.84050018\n",
      "  2.23957974  1.54251322  1.28677916  3.87243689  2.38917884  1.728052\n",
      "  0.96250336  2.62039381  1.47428307  1.26618626  2.62375438  2.05708007\n",
      "  2.51642952  1.24572982  1.16226402  2.06601287  1.83681161  1.11992249\n",
      "  1.17947178  1.66995295  1.44549411  2.48632805  2.34777379  1.5469357\n",
      "  1.31993716  1.75093281  1.17959769  1.69394035  1.50245461  1.0294541\n",
      "  1.61617281  1.39424255  1.20943626  1.66885577  1.14941525  1.15117971\n",
      "  1.3501208   0.9489846   1.5152174   0.92328443  1.57660428  1.26712423\n",
      "  1.60972761  1.13236279  1.7029757   1.56898733  2.55380457  1.50768433\n",
      "  1.46620216  1.53453354  1.39097218  1.53246753  0.95739802  2.83440656\n",
      "  0.8073816   2.42261484  1.86234529  1.3688013   1.42864922  3.00189292\n",
      "  2.43752664  2.79237027  1.17623557  1.18524964  1.54482218  0.94501175\n",
      "  1.34589759  2.3495443   1.31328207  1.0745808   2.21986459  2.73926571\n",
      "  2.10623523  1.04506037  2.25216578  1.37493573  1.59533242  1.10912919\n",
      "  1.95956754  0.93996941  1.45164547  1.28029971  3.14174279  0.95734632\n",
      "  1.3829056   0.99641694  1.87727734  1.66323996  1.96219309  1.21653745\n",
      "  1.8483106   1.65356849  1.41181372  1.53566222  1.78553603  1.02882878\n",
      "  2.37425529  3.58961344  1.7423451   1.51525007  1.55936621  1.44137862\n",
      "  1.24584903  1.45787274  0.99775744  1.17163915  1.2101728   1.68421004\n",
      "  1.10012139  4.19915823  1.11797587  1.32019966  1.95653368  1.36303881\n",
      "  2.54670003  3.40227219  2.11158721  2.83538445  2.12821376  1.93935428\n",
      "  1.38229692  1.47206524  2.51849425  1.18010118  0.88663361  1.22783812\n",
      "  1.07899426  1.95095936  1.24763582  1.23687636  1.69948385  1.07917776\n",
      "  1.43673461  1.74923562  1.30750206  1.90886647  1.10903992  1.83985454\n",
      "  1.08448582  1.2272332   1.49608203  0.97547968  1.34273068  1.86470954\n",
      "  1.22880536  1.63795723  1.44058848  2.63446812  1.08872274  1.65060202\n",
      "  2.15288987  1.12684096  1.50538418  1.33102942  2.03365169  1.9940507\n",
      "  1.35911074  0.97120749  1.49041308  1.68338684  1.69884289  1.03156778\n",
      "  0.93235477  1.58149493  1.23627586  1.7146216   1.69221526  1.81337653\n",
      "  1.90247611  0.94202111  1.55831824  2.25543849  1.32547622  1.66073795\n",
      "  1.78894293  1.30488702  2.02266801  1.22108648  1.31873647  1.28531643\n",
      "  1.68752816  1.17518293  2.12260054  1.60677263  2.0612151   5.49025657\n",
      "  1.24596823  1.16838124  1.17024401  1.01370525  2.09740293  1.27813259\n",
      "  2.12092067  1.94440184  1.28111143  1.73511341  2.15670351  0.97197175\n",
      "  2.08518853  2.47525313  1.5247275   2.34809005  1.23029505  1.30488702\n",
      "  1.09497955  1.20023264  2.13362662  1.37536771  1.76461988  1.7542376\n",
      "  3.24402526  3.16697833  2.39071163  1.26645991  1.89248395  1.00768071\n",
      "  1.01106475  1.92847527  1.64266523  1.15944951  1.16668523  1.91608827\n",
      "  1.28308062  1.55873116  1.56462718  1.79606814  1.02940601  1.1987056\n",
      "  1.18979348  2.0637833   1.29257523  2.08362105  1.28485417  1.19684577\n",
      "  0.99288327  1.77117223  1.00236102  1.88737624  1.69315112  1.87653883\n",
      "  2.38735479  2.00627712]\n"
     ]
    }
   ],
   "source": [
    "waiting_time_mean= np.zeros(500)\n",
    "waiting_time_std = np.zeros(500)\n",
    "Queue_length_mean = np.zeros(500)\n",
    "Queue_length_var = np.zeros(500)\n",
    "for i in range(0,500):\n",
    " arrivals_i = np.random.uniform(1, 20, size=100)\n",
    " services_i = np.random.uniform(5, 15, size = 100)\n",
    " waiting_time_mean[i],waiting_time_std[i], Queue_length_mean[i] ,Queue_length_var[i] =  simulating_queue (arrivals_i , services_i)\n",
    "\n",
    "print 'waiting_time_mean      : ' ,waiting_time_mean\n",
    "print 'waiting_time_std      : ' ,waiting_time_std\n",
    "print 'Queue_length_mean      : ' ,Queue_length_mean\n",
    "print 'Queue_length_var      : ' ,Queue_length_var\n"
   ]
  },
  {
   "cell_type": "markdown",
   "metadata": {},
   "source": [
    "# Explain why is isn't sufficient to run our simulation **once** and report the average wait time/queue length we obtain.\n",
    "\n",
    "When we try to disply above values , we will find that the historhram is distrubite accros multiple values "
   ]
  },
  {
   "cell_type": "code",
   "execution_count": 82,
   "metadata": {
    "collapsed": false
   },
   "outputs": [
    {
     "data": {
      "image/png": "[encoded data removed]",
      "text/plain": [
       "<matplotlib.figure.Figure at 0xd7c7860>"
      ]
     },
     "metadata": {},
     "output_type": "display_data"
    },
    {
     "data": {
      "image/png": "[encoded data removed]",
      "text/plain": [
       "<matplotlib.figure.Figure at 0x8f6e198>"
      ]
     },
     "metadata": {},
     "output_type": "display_data"
    },
    {
     "data": {
      "image/png": "[encoded data removed]",
      "text/plain": [
       "<matplotlib.figure.Figure at 0x8a80e10>"
      ]
     },
     "metadata": {},
     "output_type": "display_data"
    },
    {
     "data": {
      "image/png": "[encoded data removed]",
      "text/plain": [
       "<matplotlib.figure.Figure at 0x803dc88>"
      ]
     },
     "metadata": {},
     "output_type": "display_data"
    }
   ],
   "source": [
    "h = plt.hist(waiting_time_mean, bins=10)\n",
    "plt.show()\n",
    "\n",
    "h = plt.hist(waiting_time_std, bins=10)\n",
    "plt.show()\n",
    "\n",
    "h = plt.hist(waiting_time_mean      , bins=10)\n",
    "plt.show()\n",
    "\n",
    "h = plt.hist(waiting_time_std      , bins=10)\n",
    "plt.show()\n",
    "\n"
   ]
  },
  {
   "cell_type": "markdown",
   "metadata": {},
   "source": [
    "## Problem 4 (Challenge Problem): More Web Scrapping\n",
    "\n",
    "In this problem we practice extracting tabular web data. Open and read the webpage at\n",
    "\n",
    "$\\mathtt{http://www.thisismoney.co.uk/money/news/article-2928285/Economy-tables-GDP-rates-inflation-history-unemployment.html}$\n",
    "\n",
    "Extract the Inflation History table and load it into a numpy array.\n",
    "\n",
    "Generate a line graph representing the trend of consumer price index vs time (in months)."
   ]
  },
  {
   "cell_type": "markdown",
   "metadata": {},
   "source": [
    "# Extract the Inflation History table and load it into a numpy array."
   ]
  },
  {
   "cell_type": "code",
   "execution_count": 46,
   "metadata": {
    "collapsed": false
   },
   "outputs": [
    {
     "name": "stdout",
     "output_type": "stream",
     "text": [
      "[['Jul-16' '0.60']\n",
      " ['Jun-16' '0.50']\n",
      " ['May-16' '0.30']\n",
      " ['Apr-16' '0.30']\n",
      " ['Mar-16' '0.50']\n",
      " ['Feb-16' '0.30']\n",
      " ['Jan-16' '0.30']\n",
      " ['Dec-15' '0.20']\n",
      " ['Nov-15' '0.10']\n",
      " ['Oct-15' '-0.1']\n",
      " ['Sep-15' '-0.10']\n",
      " ['Aug-15' '0.00']\n",
      " ['July-15' '0.10']\n",
      " ['June-15' '0.00']\n",
      " ['May-15' '0.10']\n",
      " ['Apr-15' '-0.10']\n",
      " ['Mar-15' '0.00']\n",
      " ['Feb-15' '0.00']\n",
      " ['Jan-15' '0.30']\n",
      " ['Dec-14' '0.50']\n",
      " ['Nov-14' '1.00']\n",
      " ['Oct-14' '1.30']\n",
      " ['Sep-14' '1.20']\n",
      " ['Aug-14' '1.50']\n",
      " ['Jul-14' '1.60']\n",
      " ['Jun-14' '1.90']\n",
      " ['May-14' '1.50']\n",
      " ['Apr-14' '1.80']\n",
      " ['Mar-14' '1.60']\n",
      " ['Feb-14' '1.70']\n",
      " ['Jan-14' '1.90']\n",
      " ['Dec-13' '2.00']\n",
      " ['Nov-13' '2.10']\n",
      " ['Oct-13' '2.20']\n",
      " ['Sep-13' '2.70']\n",
      " ['Aug-13' '2.70']\n",
      " ['Jul-13' '2.80']\n",
      " ['Jun-13' '2.90']\n",
      " ['May-13' '2.70']\n",
      " ['Apr-13' '2.40']\n",
      " ['Mar-13' '2.80']\n",
      " ['Feb-13' '2.80']\n",
      " ['Jan-13' '2.70']\n",
      " ['Dec-12' '2.70']\n",
      " ['Nov-12' '2.70']\n",
      " ['Oct-12' '2.70']\n",
      " ['Sep-12' '2.20']\n",
      " ['Aug-12' '2.50']\n",
      " ['Jul-12' '2.60']\n",
      " ['Jun-12' '2.40']\n",
      " ['May-12' '2.80']\n",
      " ['Apr-12' '3.00']\n",
      " ['Mar-12' '3.50']\n",
      " ['Feb-12' '3.40']\n",
      " ['Jan-12' '3.60']\n",
      " ['Dec-11' '4.20']\n",
      " ['Nov-11' '4.80']\n",
      " ['Oct-11' '5.00']\n",
      " ['Sep-11' '5.20']\n",
      " ['Aug-11' '4.50']\n",
      " ['Jul-11' '4.40']\n",
      " ['Jun-11' '4.20']\n",
      " ['May-11' '4.50']\n",
      " ['Apr-11' '4.50']\n",
      " ['Mar-11' '4.00']\n",
      " ['Feb-11' '4.40']\n",
      " ['Jan-11' '4.00']\n",
      " ['Dec-10' '3.70']\n",
      " ['Nov-10' '3.30']\n",
      " ['Oct-10' '3.20']\n",
      " ['Sep-10' '3.10']\n",
      " ['Aug-10' '3.10']\n",
      " ['Jul-10' '3.10']\n",
      " ['Jun-10' '3.20']\n",
      " ['May-10' '3.40']\n",
      " ['Apr-10' '3.70']\n",
      " ['Mar-10' '3.40']\n",
      " ['Feb-10' '3.00']\n",
      " ['Jan-10' '3.50']\n",
      " ['Dec-09' '2.90']\n",
      " ['Nov-09' '1.90']\n",
      " ['Oct-09' '1.50']\n",
      " ['Sep-09' '1.10']\n",
      " ['Aug-09' '1.60']\n",
      " ['Jul-09' '1.80']\n",
      " ['Jun-09' '1.80']\n",
      " ['May-09' '2.20']\n",
      " ['Apr-09' '2.30']\n",
      " ['Mar-09' '2.90']\n",
      " ['Feb-09' '3.20']\n",
      " ['Jan-09' '3.00']\n",
      " ['Dec-08' '3.10']\n",
      " ['Nov-08' '4.10']\n",
      " ['Oct-08' '4.50']\n",
      " ['Sep-08' '5.20']\n",
      " ['Aug-08' '4.70']\n",
      " ['Jul-08' '4.40']\n",
      " ['Jun-08' '3.80']\n",
      " ['May-08' '3.30']\n",
      " ['Apr-08' '3.00']\n",
      " ['Mar-08' '2.50']\n",
      " ['Feb-08' '2.50']\n",
      " ['Jan-08' '2.20']\n",
      " ['Dec-07' '2.10']\n",
      " ['Nov-07' '2.10']\n",
      " ['Oct-07' '2.10']\n",
      " ['Sep-07' '1.80']\n",
      " ['Aug-07' '1.80']\n",
      " ['Jul-07' '1.90']\n",
      " ['Jun-07' '2.40']\n",
      " ['May-07' '2.50']\n",
      " ['Apr-07' '2.80']\n",
      " ['Mar-07' '3.10']\n",
      " ['Feb-07' '2.80']\n",
      " ['Jan-07' '2.70']\n",
      " ['Dec-06' '3.00']\n",
      " ['Nov-06' '2.70']\n",
      " ['Oct-06' '2.40']\n",
      " ['Sep-06' '2.40']\n",
      " ['Aug-06' '2.50']\n",
      " ['Jul-06' '2.40']\n",
      " ['Jun-06' '2.50']\n",
      " ['May-06' '2.20']\n",
      " ['Apr-06' '2.00']\n",
      " ['Mar-06' '1.80']\n",
      " ['Feb-06' '2.00']\n",
      " ['Jan-06' '1.90']]\n"
     ]
    }
   ],
   "source": [
    "from bs4 import BeautifulSoup\n",
    "import urllib\n",
    "import matplotlib.pyplot as plt\n",
    "import numpy as np\n",
    "import requests\n",
    "\n",
    "'''\n",
    "Read an html file at some URL                        page = urllib.urlopen(\"some url\").read()\n",
    "Parse an html fille (turn it into parse tree)        soup = BeautifulSoup(page, \"lxml\")\n",
    "Turn the parse tree into a formatted string          soup.prettify()\n",
    "Get the first instance of a tag in the parse tree    soup.tag\n",
    "Get all the text displayed on a page                 soup.get_text()\n",
    "Get the tag called \"child tag\" from its parent       parent.child tag\n",
    "Get all the content from a tag                       tag.contents\n",
    "Get the string from a tag                            tag.string\n",
    "Get a \"list\" of all child tags of a tag              tag.children\n",
    "Get all tags named \"tag\"                             soup.find.all('tag')\n",
    "'''\n",
    "\n",
    "#url = \"http://www.thisismoney.co.uk/money/news/article-2928285/Economy-tables-GDP-rates-inflation-history-unemployment.html\"\n",
    "# work on a local copy of the page\n",
    "url = \"Economy_tables.html\"\n",
    "# Read an html file\n",
    "page = urllib.urlopen(url).read()\n",
    "\n",
    "\n",
    "# Parse an html fille (turn it into parse tree)\n",
    "\n",
    "soup = BeautifulSoup(page, \"lxml\")\n",
    "\n",
    "#Turn the parse tree into a formatted string\n",
    "soup.prettify()\n",
    "\n",
    "\n",
    "\n",
    "\n",
    "# read all tables in the pages\n",
    "table = soup.find_all(\"table\")\n",
    "\n",
    "\n",
    "'''\n",
    "Table Order\n",
    "------------\n",
    "We can know the order of required table  \"Inflation History\" by one of the following method\n",
    " 1- print table and check the resualts \n",
    " 2- open the wen page and make right click then select view source code.\n",
    " 3- using the following code to display the all tables title with table order\n",
    "  for i in range(len(table)):\n",
    "     print 'Table number : ', i  , ' With title  ' ,table[i].get_text()\n",
    "resualt will contain  the following line\n",
    "Table number :  4  With title    INFLATION HISTORY (MONTHLY CONSUMER PRICES INDEX - CPI)\n",
    "\n",
    "So we know now that we need to work on Table[4]\n",
    "'''\n",
    "\n",
    "\n",
    "# read the table\n",
    "inflation_history_table = table[4]\n",
    "\n",
    "# define 2-D array 2 * no of rows - last three rows which contain discription not data\n",
    "output = np.empty([len(inflation_history_table.findAll('tr'))-3,2],dtype=\"S10\")\n",
    "\n",
    "\n",
    "i=0\n",
    "#print table[4]\n",
    "\n",
    "for row in inflation_history_table.findAll('tr'):\n",
    "    col = row.findAll('td')\n",
    "#   output_row=(col[0].get_text().strip() ,  col[1].get_text().strip())\n",
    "    if len(col[1].get_text().strip()) > 0:           # check if the row contain data or discription (last three lines)\n",
    "     output[i,0] = col[0].get_text().strip()\n",
    "     output[i,1] = col[1].get_text().strip().strip('%')  # remove % mark in order to be able to plot it \n",
    "    i +=1\n",
    "\n",
    "              \n",
    "print output\n",
    " \n",
    "x = np.array(output)[:,0]\n",
    "y = np.array(output)[:,1]\n",
    "\n",
    "  \n",
    "  \n",
    "    \n",
    "\n"
   ]
  },
  {
   "cell_type": "markdown",
   "metadata": {},
   "source": [
    "# Generate a line graph representing the trend of consumer price index vs time (in months)."
   ]
  },
  {
   "cell_type": "code",
   "execution_count": 75,
   "metadata": {
    "collapsed": false
   },
   "outputs": [
    {
     "data": {
      "image/png": "[encoded data removed]",
      "text/plain": [
       "<matplotlib.figure.Figure at 0xacf75f8>"
      ]
     },
     "metadata": {},
     "output_type": "display_data"
    }
   ],
   "source": [
    "%matplotlib inline      \n",
    "#   columns = rows.findAll('td')\n",
    "##    print columns[0]\n",
    "#    output[rows.index(),0]= columns[0]\n",
    "#    output[rows.index(),1]= columns[1]\n",
    "\n",
    "#  if we use x = output[:,0] we will get the following error\n",
    "  #TypeError: list indices must be integers, not tuple\n",
    "\n",
    "x = np.array(output)[:,0]\n",
    "y = np.array(output)[:,1]\n",
    "\n",
    "\n",
    "# in order to aviod  ValueError: could not convert string to float: Jan-06              \n",
    "x2 = np.zeros(len(np.array(output)[:,0]))\n",
    "for i in range(len(np.array(output)[:,0])):\n",
    "  x2[i] = i\n",
    "               \n",
    "\n",
    "plt.figure(figsize=(11,4))\n",
    "plt.xlabel('time ')\n",
    "plt.ylabel('consumer price index')\n",
    "plt.xticks(x2, x)\n",
    "plt.plot(x2,y)\n",
    "plt.show()\n",
    "\n",
    "# Q : How to Enhance the display of date value on X axis  , may be by display only some values on x axis  \n",
    "\n",
    "    \n"
   ]
  }
 ],
 "metadata": {
  "anaconda-cloud": {},
  "kernelspec": {
   "display_name": "Python [Root]",
   "language": "python",
   "name": "Python [Root]"
  },
  "language_info": {
   "codemirror_mode": {
    "name": "ipython",
    "version": 2
   },
   "file_extension": ".py",
   "mimetype": "text/x-python",
   "name": "python",
   "nbconvert_exporter": "python",
   "pygments_lexer": "ipython2",
   "version": "2.7.12"
  }
 },
 "nbformat": 4,
 "nbformat_minor": 0
}

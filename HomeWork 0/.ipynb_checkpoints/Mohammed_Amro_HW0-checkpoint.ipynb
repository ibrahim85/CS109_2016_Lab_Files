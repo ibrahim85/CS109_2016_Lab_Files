{
 "cells": [
  {
   "cell_type": "code",
   "execution_count": 180,
   "metadata": {
    "collapsed": false
   },
   "outputs": [],
   "source": [
    "import numpy as np\n",
    "def  q16_birth_biometrics (min_lbs, max_lbs):\n",
    "    \n",
    "    \n",
    "    # in my Solution I will work in dataset_HW0.txt from Lab0b to solve Q16  so I will pass only two parameter not 4\n",
    "    # as the array with be loaded form file \n",
    "    \n",
    "    \n",
    "    # Load dataset_HW0.txt without Header\n",
    "    birth_data = np.loadtxt('dataset_HW0.txt',delimiter=',',skiprows=1)\n",
    "    \n",
    "    # get total mother count \n",
    "    mother_count = len(birth_data[:,2])\n",
    "    \n",
    "    # get total infant count ( is equal to mother count be used to make the code more clear when calculate the average)\n",
    "    Child_count = len(birth_data[:,0])\n",
    "    \n",
    "    \n",
    "    print  'Total Number of Records : ' , mother_count\n",
    "    \n",
    "    #====----------------------------------------------------------------------------------------------====#\n",
    "    # calculate the Mean of mother_age\n",
    "    #====----------------------------------------------------------------------------------------------====#\n",
    "    average_mother_age  =  float (birth_data[:,2].sum() /  len(birth_data[:,2]))\n",
    "    print ' average mother age : ' ,   average_mother_age\n",
    "   \n",
    "    #====----------------------------------------------------------------------------------------------====#\n",
    "    # Calculate the Mean of birth_weight \n",
    "    #====----------------------------------------------------------------------------------------------====#\n",
    "    average_birth_weight  =  float (birth_data[:,0].sum() /  len(birth_data[:,0]))\n",
    "    print ' average_birth_weight : ' ,   average_birth_weight\n",
    "    \n",
    "    #====----------------------------------------------------------------------------------------------====#\n",
    "    # Calculate the Median  of mother_age\n",
    "    #====----------------------------------------------------------------------------------------------====#\n",
    "    if mother_count%2 ==1 :\n",
    "       mothor_age_median  =  birth_data[((mother_count+1) / 2)-1, 2]\n",
    "      \n",
    "    else:\n",
    "       mothor_age_median  =  (birth_data[((mother_count) / 2) -1 , 2] + birth_data[((mother_count) / 2)  , 2])/2\n",
    "     \n",
    "    print 'mothor_age_median : ' , mothor_age_median\n",
    "    \n",
    " \n",
    "    \n",
    "     #====----------------------------------------------------------------------------------------------====#\n",
    "     # Calculate the Median  of Birth Weight\n",
    "     #====----------------------------------------------------------------------------------------------====#\n",
    "\n",
    "    if Child_count%2 ==1 :\n",
    "       birth_weight_median  =  birth_data[((Child_count+1) / 2)-1, 0]\n",
    "      \n",
    "    else:\n",
    "       birth_weight_median  =  (birth_data[((Child_count) / 2) , 0] + birth_data[((Child_count) / 2) + 1 , 0])/2\n",
    "    \n",
    "    print 'birth_weight_median : ' , birth_weight_median\n",
    "        \n",
    "     #====----------------------------------------------------------------------------------------------====#      \n",
    "     # Calculate the Mode of mother age whose infant has birth between min_lbs , max_lbs\n",
    "     #====----------------------------------------------------------------------------------------------====#\n",
    "   \n",
    "    # get a subset of the data which satisfy the condation infant birth weight between min_lbs and max_lbs\n",
    "    birth_data_subset = []\n",
    "    for i in range(mother_count):\n",
    "      if (birth_data[i,0] > min_lbs and birth_data[i,0]< max_lbs):\n",
    "        birth_data_subset.append(birth_data[i,])\n",
    "        \n",
    "    # create a list from this subset in order to use list.count() method\n",
    "    birth_data_subset_array = np.array(birth_data_subset)\n",
    "    my_temp_list = [] \n",
    "    my_temp_list= birth_data_subset_array[:,2]\n",
    "    my_list = np.array(my_temp_list).flatten().tolist()\n",
    "    \n",
    "    \n",
    "    current_number = 0\n",
    "    the_mode=[] \n",
    "    mode_count = 0\n",
    "    current_number_count = 0\n",
    "    for i in range(len(my_list)):\n",
    "      # initially assume first item is the mode  \n",
    "      if i == 0:  \n",
    "       the_mode =my_list[i]\n",
    "       mode_count  = my_list.count(my_list[i])\n",
    "      \n",
    "      # for each item get the count and compare with current mode\n",
    "      else:\n",
    "       current_number = my_list[i] \n",
    "       current_number_count = my_list.count(my_list[i]) \n",
    "       if current_number_count > mode_count:\n",
    "          mode_count = current_number_count\n",
    "          the_mode= current_number  \n",
    "      \n",
    "      \n",
    "    print \"Birth weight Mode is  : \" , the_mode\n",
    "    print \"Birth weight Mode Count \" , mode_count , \" Times\"\n",
    "        \n",
    "    \n",
    "    return 'The End'"
   ]
  },
  {
   "cell_type": "code",
   "execution_count": 181,
   "metadata": {
    "collapsed": false
   },
   "outputs": [
    {
     "name": "stdout",
     "output_type": "stream",
     "text": [
      "Total Number of Records :  400\n",
      " average mother age :  27.06\n",
      " average_birth_weight :  6.10407017286\n",
      "mothor_age_median :  30.5\n",
      "numpy median : 25.0\n",
      "birth_weight_median :  6.23848788444\n",
      "Birth weight Mode is  :  15.0\n",
      "Birth weight Mode Count  22  Times\n"
     ]
    },
    {
     "data": {
      "text/plain": [
       "'The End'"
      ]
     },
     "execution_count": 181,
     "metadata": {},
     "output_type": "execute_result"
    }
   ],
   "source": [
    "q16_birth_biometrics (5,6)"
   ]
  },
  {
   "cell_type": "code",
   "execution_count": null,
   "metadata": {
    "collapsed": true
   },
   "outputs": [],
   "source": []
  },
  {
   "cell_type": "code",
   "execution_count": null,
   "metadata": {
    "collapsed": true
   },
   "outputs": [],
   "source": []
  }
 ],
 "metadata": {
  "kernelspec": {
   "display_name": "Python [Root]",
   "language": "python",
   "name": "Python [Root]"
  },
  "language_info": {
   "codemirror_mode": {
    "name": "ipython",
    "version": 2
   },
   "file_extension": ".py",
   "mimetype": "text/x-python",
   "name": "python",
   "nbconvert_exporter": "python",
   "pygments_lexer": "ipython2",
   "version": "2.7.12"
  }
 },
 "nbformat": 4,
 "nbformat_minor": 0
}
